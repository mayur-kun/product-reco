{
 "cells": [
  {
   "cell_type": "markdown",
   "id": "8d8987f3-9638-4d40-85e5-ce9e70b71339",
   "metadata": {},
   "source": [
    "## IMPORT PACKAGES AND READ FILE"
   ]
  },
  {
   "cell_type": "code",
   "execution_count": 1,
   "id": "852ba5d9-9320-4b82-b987-c3147e13cff7",
   "metadata": {},
   "outputs": [],
   "source": [
    "import pandas as pd\n",
    "import numpy as np\n",
    "import matplotlib.pyplot as plt\n",
    "import seaborn as sns"
   ]
  },
  {
   "cell_type": "code",
   "execution_count": 2,
   "id": "64873126-b05b-4fb4-986f-83fb033c6832",
   "metadata": {},
   "outputs": [],
   "source": [
    "# Load the CSV file\n",
    "df = pd.read_csv('products_dataset.csv')"
   ]
  },
  {
   "cell_type": "markdown",
   "id": "5d9287a5-79ab-418e-8d3e-2165cd381677",
   "metadata": {},
   "source": [
    "## DATA CLEANING AND EDA"
   ]
  },
  {
   "cell_type": "code",
   "execution_count": 3,
   "id": "07e20175-83f5-496c-9f2f-341222a48d30",
   "metadata": {},
   "outputs": [
    {
     "data": {
      "text/html": [
       "<div>\n",
       "<style scoped>\n",
       "    .dataframe tbody tr th:only-of-type {\n",
       "        vertical-align: middle;\n",
       "    }\n",
       "\n",
       "    .dataframe tbody tr th {\n",
       "        vertical-align: top;\n",
       "    }\n",
       "\n",
       "    .dataframe thead th {\n",
       "        text-align: right;\n",
       "    }\n",
       "</style>\n",
       "<table border=\"1\" class=\"dataframe\">\n",
       "  <thead>\n",
       "    <tr style=\"text-align: right;\">\n",
       "      <th></th>\n",
       "      <th>product</th>\n",
       "      <th>source</th>\n",
       "      <th>categories</th>\n",
       "      <th>date</th>\n",
       "      <th>didPurchase</th>\n",
       "      <th>doRecommend</th>\n",
       "      <th>rating</th>\n",
       "      <th>reviews</th>\n",
       "      <th>title</th>\n",
       "    </tr>\n",
       "  </thead>\n",
       "  <tbody>\n",
       "    <tr>\n",
       "      <th>0</th>\n",
       "      <td>electronics brand product name Tablet A 10.1 T...</td>\n",
       "      <td>Target</td>\n",
       "      <td>Electronics,iPad &amp; Tablets,All Tablets,XYZ bra...</td>\n",
       "      <td>2021-01-13T00:00:00.000Z</td>\n",
       "      <td>NaN</td>\n",
       "      <td>True</td>\n",
       "      <td>5.0</td>\n",
       "      <td>This product so far has not disappointed. My c...</td>\n",
       "      <td>brand name</td>\n",
       "    </tr>\n",
       "    <tr>\n",
       "      <th>1</th>\n",
       "      <td>electronics brand product name Tablet A 10.1 T...</td>\n",
       "      <td>Target</td>\n",
       "      <td>Electronics,iPad &amp; Tablets,All Tablets,XYZ bra...</td>\n",
       "      <td>2021-01-13T00:00:00.000Z</td>\n",
       "      <td>NaN</td>\n",
       "      <td>True</td>\n",
       "      <td>5.0</td>\n",
       "      <td>great for beginner or experienced person. Boug...</td>\n",
       "      <td>very fast</td>\n",
       "    </tr>\n",
       "    <tr>\n",
       "      <th>2</th>\n",
       "      <td>electronics brand product name Tablet A 10.1 T...</td>\n",
       "      <td>Target</td>\n",
       "      <td>Electronics,iPad &amp; Tablets,All Tablets,XYZ bra...</td>\n",
       "      <td>2021-01-13T00:00:00.000Z</td>\n",
       "      <td>NaN</td>\n",
       "      <td>True</td>\n",
       "      <td>5.0</td>\n",
       "      <td>Inexpensive tablet for him to use and learn on...</td>\n",
       "      <td>Beginner tablet for our 9 year old son.</td>\n",
       "    </tr>\n",
       "    <tr>\n",
       "      <th>3</th>\n",
       "      <td>electronics brand product name Tablet A 10.1 T...</td>\n",
       "      <td>Target</td>\n",
       "      <td>Electronics,iPad &amp; Tablets,All Tablets,XYZ bra...</td>\n",
       "      <td>2021-01-13T00:00:00.000Z</td>\n",
       "      <td>NaN</td>\n",
       "      <td>True</td>\n",
       "      <td>4.0</td>\n",
       "      <td>I've had my XYZ brand HD 8 two weeks now and I...</td>\n",
       "      <td>Good!!!</td>\n",
       "    </tr>\n",
       "    <tr>\n",
       "      <th>4</th>\n",
       "      <td>electronics brand product name Tablet A 10.1 T...</td>\n",
       "      <td>Target</td>\n",
       "      <td>Electronics,iPad &amp; Tablets,All Tablets,XYZ bra...</td>\n",
       "      <td>2021-01-12T00:00:00.000Z</td>\n",
       "      <td>NaN</td>\n",
       "      <td>True</td>\n",
       "      <td>5.0</td>\n",
       "      <td>I bought this for my grand daughter when she c...</td>\n",
       "      <td>Fantastic Tablet for kids</td>\n",
       "    </tr>\n",
       "  </tbody>\n",
       "</table>\n",
       "</div>"
      ],
      "text/plain": [
       "                                             product  source   \n",
       "0  electronics brand product name Tablet A 10.1 T...  Target  \\\n",
       "1  electronics brand product name Tablet A 10.1 T...  Target   \n",
       "2  electronics brand product name Tablet A 10.1 T...  Target   \n",
       "3  electronics brand product name Tablet A 10.1 T...  Target   \n",
       "4  electronics brand product name Tablet A 10.1 T...  Target   \n",
       "\n",
       "                                          categories   \n",
       "0  Electronics,iPad & Tablets,All Tablets,XYZ bra...  \\\n",
       "1  Electronics,iPad & Tablets,All Tablets,XYZ bra...   \n",
       "2  Electronics,iPad & Tablets,All Tablets,XYZ bra...   \n",
       "3  Electronics,iPad & Tablets,All Tablets,XYZ bra...   \n",
       "4  Electronics,iPad & Tablets,All Tablets,XYZ bra...   \n",
       "\n",
       "                       date didPurchase doRecommend  rating   \n",
       "0  2021-01-13T00:00:00.000Z         NaN        True     5.0  \\\n",
       "1  2021-01-13T00:00:00.000Z         NaN        True     5.0   \n",
       "2  2021-01-13T00:00:00.000Z         NaN        True     5.0   \n",
       "3  2021-01-13T00:00:00.000Z         NaN        True     4.0   \n",
       "4  2021-01-12T00:00:00.000Z         NaN        True     5.0   \n",
       "\n",
       "                                             reviews   \n",
       "0  This product so far has not disappointed. My c...  \\\n",
       "1  great for beginner or experienced person. Boug...   \n",
       "2  Inexpensive tablet for him to use and learn on...   \n",
       "3  I've had my XYZ brand HD 8 two weeks now and I...   \n",
       "4  I bought this for my grand daughter when she c...   \n",
       "\n",
       "                                     title  \n",
       "0                               brand name  \n",
       "1                                very fast  \n",
       "2  Beginner tablet for our 9 year old son.  \n",
       "3                                  Good!!!  \n",
       "4                Fantastic Tablet for kids  "
      ]
     },
     "execution_count": 3,
     "metadata": {},
     "output_type": "execute_result"
    }
   ],
   "source": [
    "df.head()"
   ]
  },
  {
   "cell_type": "code",
   "execution_count": 4,
   "id": "2f9820b3-430a-495c-b134-5e3f593b3ae6",
   "metadata": {},
   "outputs": [
    {
     "data": {
      "text/plain": [
       "(34660, 9)"
      ]
     },
     "execution_count": 4,
     "metadata": {},
     "output_type": "execute_result"
    }
   ],
   "source": [
    "df.shape"
   ]
  },
  {
   "cell_type": "code",
   "execution_count": 5,
   "id": "96437b9b-2262-43f4-81d9-2d627f15e8d4",
   "metadata": {},
   "outputs": [
    {
     "data": {
      "text/plain": [
       "product         object\n",
       "source          object\n",
       "categories      object\n",
       "date            object\n",
       "didPurchase     object\n",
       "doRecommend     object\n",
       "rating         float64\n",
       "reviews         object\n",
       "title           object\n",
       "dtype: object"
      ]
     },
     "execution_count": 5,
     "metadata": {},
     "output_type": "execute_result"
    }
   ],
   "source": [
    "df.dtypes"
   ]
  },
  {
   "cell_type": "code",
   "execution_count": 6,
   "id": "5fd3dfd6-7b66-4abe-8d9d-9acd7b620f95",
   "metadata": {},
   "outputs": [
    {
     "name": "stdout",
     "output_type": "stream",
     "text": [
      "\n",
      "Number of Unique Values in each Column:\n",
      "product: 60\n",
      "source: 6\n",
      "categories: 44\n",
      "date: 1078\n",
      "didPurchase: 1\n",
      "doRecommend: 2\n",
      "rating: 5\n",
      "reviews: 34659\n",
      "title: 19686\n"
     ]
    }
   ],
   "source": [
    "# Checking number of unique values present in each column.\n",
    "\n",
    "column_names = df.columns\n",
    "unique_values = df.nunique()\n",
    "\n",
    "print(\"\\nNumber of Unique Values in each Column:\")\n",
    "for col, count in unique_values.items():\n",
    "    print(f\"{col}: {count}\")"
   ]
  },
  {
   "cell_type": "code",
   "execution_count": 7,
   "id": "dbf174ef-ed61-4531-ad0b-57309118e98b",
   "metadata": {},
   "outputs": [
    {
     "name": "stdout",
     "output_type": "stream",
     "text": [
      "\n",
      "------- source -------\n",
      "\n",
      "source\n",
      "Target                          28701\n",
      "Target XYZ brand Tv              5056\n",
      "Target Echo                       636\n",
      "Target XYZ brand                  256\n",
      "Target Digital Services Inc.       10\n",
      "Target Coco T                       1\n",
      "Name: count, dtype: int64\n",
      "\n",
      "------- didPurchase -------\n",
      "\n",
      "didPurchase\n",
      "True    1\n",
      "Name: count, dtype: int64\n",
      "\n",
      "------- doRecommend -------\n",
      "\n",
      "doRecommend\n",
      "True     32682\n",
      "False     1384\n",
      "Name: count, dtype: int64\n",
      "\n",
      "------- rating -------\n",
      "\n",
      "rating\n",
      "5.0    23775\n",
      "4.0     8541\n",
      "3.0     1499\n",
      "1.0      410\n",
      "2.0      402\n",
      "Name: count, dtype: int64\n"
     ]
    }
   ],
   "source": [
    "# Checking unique value labels and their occurences for columns with least number of unique values\n",
    "\n",
    "cols = [\"source\", \"didPurchase\", \"doRecommend\", \"rating\"]\n",
    "\n",
    "for col in cols:\n",
    "    print(\"\\n------- {0} -------\\n\".format(col))\n",
    "    print(df[col].value_counts())"
   ]
  },
  {
   "cell_type": "markdown",
   "id": "4e8a678b-7337-4cf3-98bb-514713619ff1",
   "metadata": {},
   "source": [
    "### PREPROCESSING TEXT DATA"
   ]
  },
  {
   "cell_type": "markdown",
   "id": "d6e178bc-333f-41fc-a6fe-bf36e1ede4e6",
   "metadata": {},
   "source": [
    "#### HANDLING MISSING VALUES"
   ]
  },
  {
   "cell_type": "code",
   "execution_count": 8,
   "id": "494ba5d4-ebe7-40ff-b7b0-dfef74fac200",
   "metadata": {},
   "outputs": [
    {
     "data": {
      "text/plain": [
       "product         6760\n",
       "source             0\n",
       "categories         0\n",
       "date              39\n",
       "didPurchase    34659\n",
       "doRecommend      594\n",
       "rating            33\n",
       "reviews            1\n",
       "title              6\n",
       "dtype: int64"
      ]
     },
     "execution_count": 8,
     "metadata": {},
     "output_type": "execute_result"
    }
   ],
   "source": [
    "df.isnull().sum()"
   ]
  },
  {
   "cell_type": "markdown",
   "id": "00c1192b-8c67-44b2-95df-1d5a4f126e83",
   "metadata": {},
   "source": [
    "__The \"didPurchase\" column has more than 99% missing values. Therefore, we don't have enough data to figure out how many products were purchased pertaining to each category.__\n",
    "__Also, there are significant number of missing values in the \"product\" column.__"
   ]
  },
  {
   "cell_type": "code",
   "execution_count": 9,
   "id": "28d0fd5d-1192-439c-bfd9-6c4520c888d3",
   "metadata": {},
   "outputs": [],
   "source": [
    "# Dropping 'didPurchase' column\n",
    "df = df.drop(\"didPurchase\", axis=1)"
   ]
  },
  {
   "cell_type": "code",
   "execution_count": 10,
   "id": "4fc246c9-09b4-4e70-a027-463ff581b5c9",
   "metadata": {},
   "outputs": [],
   "source": [
    "df = df.drop(\"date\", axis=1)"
   ]
  },
  {
   "cell_type": "code",
   "execution_count": 11,
   "id": "65393d3a-69b8-4fb9-bdd4-88f37ca579d7",
   "metadata": {},
   "outputs": [],
   "source": [
    "# Dropping rows with NaN values in 'product' column\n",
    "\n",
    "df = df.dropna(subset=['product'])"
   ]
  },
  {
   "cell_type": "code",
   "execution_count": 12,
   "id": "1914f79b-8734-4225-8550-e0832133ffdf",
   "metadata": {},
   "outputs": [
    {
     "data": {
      "text/plain": [
       "product          0\n",
       "source           0\n",
       "categories       0\n",
       "doRecommend    491\n",
       "rating          32\n",
       "reviews          1\n",
       "title            4\n",
       "dtype: int64"
      ]
     },
     "execution_count": 12,
     "metadata": {},
     "output_type": "execute_result"
    }
   ],
   "source": [
    "df.isnull().sum()"
   ]
  },
  {
   "cell_type": "code",
   "execution_count": 13,
   "id": "56fecad9-0462-4b10-bd7a-29a757c9ca10",
   "metadata": {},
   "outputs": [],
   "source": [
    "# Impute missing values in 'rating' with median\n",
    "df['rating'] = df['rating'].fillna(df['rating'].median())"
   ]
  },
  {
   "cell_type": "code",
   "execution_count": 14,
   "id": "f874b4bf-59f0-4927-a844-8565714edab9",
   "metadata": {},
   "outputs": [],
   "source": [
    "# Imputing NaN values using mode imputation (most frequent value)\n",
    "\n",
    "mode_value = df['doRecommend'].mode().iloc[0]\n",
    "df['doRecommend'] = df['doRecommend'].fillna(mode_value)"
   ]
  },
  {
   "cell_type": "code",
   "execution_count": 15,
   "id": "baf41bac-e160-42e5-b050-4b6aafe9c7e1",
   "metadata": {},
   "outputs": [],
   "source": [
    "# Dropping rows with NaN values in 'date, 'reviews' and 'title' columns\n",
    "\n",
    "df = df.dropna(subset=['reviews', 'title'])"
   ]
  },
  {
   "cell_type": "code",
   "execution_count": 16,
   "id": "f3095bac-2a55-4002-81f3-f31e95c7bf7f",
   "metadata": {},
   "outputs": [
    {
     "data": {
      "text/plain": [
       "product        0\n",
       "source         0\n",
       "categories     0\n",
       "doRecommend    0\n",
       "rating         0\n",
       "reviews        0\n",
       "title          0\n",
       "dtype: int64"
      ]
     },
     "execution_count": 16,
     "metadata": {},
     "output_type": "execute_result"
    }
   ],
   "source": [
    "df.isnull().sum()"
   ]
  },
  {
   "cell_type": "markdown",
   "id": "847de02c-6366-4b45-ba76-b7e84467a908",
   "metadata": {},
   "source": [
    "#### CONVERTING TEXTS TO LOWERCASE"
   ]
  },
  {
   "cell_type": "code",
   "execution_count": 17,
   "id": "fb840665-108f-40de-9e78-2abf36797df0",
   "metadata": {},
   "outputs": [],
   "source": [
    "text_cols = ['product', 'source', 'categories', 'reviews', 'title']\n",
    "\n",
    "for col in text_cols:\n",
    "    df[col] = df[col].apply(lambda x: str(x).lower() if pd.notnull(x) else x)"
   ]
  },
  {
   "cell_type": "code",
   "execution_count": 18,
   "id": "4e4fb506-5de5-4428-acd6-36d3b6f3875b",
   "metadata": {},
   "outputs": [],
   "source": [
    "# Removing punctuation from product names\n",
    "\n",
    "import re\n",
    "\n",
    "def clean_product_names(df):\n",
    "    products = []\n",
    "    for product_name in df['product']:\n",
    "        \n",
    "        # Remove unnecessary commas and trailing/leading whitespaces\n",
    "        product_name = product_name.strip().replace(',', '')\n",
    "        \n",
    "        # Enhanced regex for duplication (repeat pattern at the end)\n",
    "        product_name = re.sub(r'(.*?)\\s*\\1$', r'\\1', product_name, flags=re.DOTALL)\n",
    "\n",
    "        # Remove carriage returns and line feeds\n",
    "        product_name = product_name.replace('\\r\\n', '').replace('\\n', '')\n",
    "\n",
    "        # Remove punctuation except for numbers and decimals\n",
    "        product_name = re.sub(r'[^\\w\\s\\d\\.]', '', product_name)\n",
    "\n",
    "        products.append(product_name.lower())  # Convert to lowercase for case-insensitivity\n",
    "\n",
    "    df['product'] = products\n",
    "    return df"
   ]
  },
  {
   "cell_type": "code",
   "execution_count": 19,
   "id": "9caf85ef-5afa-4c7b-a84f-cd1c78964f4a",
   "metadata": {},
   "outputs": [
    {
     "name": "stdout",
     "output_type": "stream",
     "text": [
      "raw text:\n",
      " 9w powerfast official oem usb charger and power adapter for xyz brand tablets and brand name ereaders,,,\n",
      "9w powerfast official oem usb charger and power adapter for xyz brand tablets and brand name ereaders,,,\n"
     ]
    }
   ],
   "source": [
    "print('raw text:\\n', df['product'][24858])"
   ]
  },
  {
   "cell_type": "code",
   "execution_count": 20,
   "id": "ad429d5e-4a6e-4118-ba07-d66044028574",
   "metadata": {},
   "outputs": [
    {
     "name": "stdout",
     "output_type": "stream",
     "text": [
      "cleaned text:\n",
      " 9w powerfast official oem usb charger and power adapter for xyz brand tablets and brand name ereaders\n"
     ]
    }
   ],
   "source": [
    "df = clean_product_names(df)\n",
    "\n",
    "print('cleaned text:\\n', df['product'][24858])"
   ]
  },
  {
   "cell_type": "code",
   "execution_count": 21,
   "id": "7a74a1b2-177c-4b07-aa59-458991b27ae3",
   "metadata": {},
   "outputs": [
    {
     "data": {
      "text/plain": [
       "'electronics brand product name tablet a 10.1 tablet 8 hd display wifi 16 gb  includes special offers magenta'"
      ]
     },
     "execution_count": 21,
     "metadata": {},
     "output_type": "execute_result"
    }
   ],
   "source": [
    "# The function doesn't affect decimals\n",
    "df['product'][0]"
   ]
  },
  {
   "cell_type": "code",
   "execution_count": 22,
   "id": "adb15664-ccb0-48d2-8f0d-23bde2a61f13",
   "metadata": {},
   "outputs": [
    {
     "name": "stdout",
     "output_type": "stream",
     "text": [
      "There are 46 unique products:\n",
      "\n",
      "\n",
      " product\n",
      "xyz brand tablet 7 display wifi 8 gb  includes special offers magenta                                                                                                                                   10966\n",
      "electonics brand home                                                                                                                                                                                    3310\n",
      "retail brand brand name paperwhite  ebook reader  4 gb  6 monochrome paperwhite  touchscreen  wifi  black                                                                                                3176\n",
      "electronics brand product name tablet a 10.1 tablet 8 hd display wifi 16 gb  includes special offers magenta                                                                                             2814\n",
      "retail brand xyz brand tv                                                                                                                                                                                2526\n",
      "xyz brand kids edition tablet 7 display wifi 16 gb green kidproof case                                                                                                                                   1685\n",
      "brand new electronics brand ipad16gb 7 ips display tablet wifi 16 gb blue                                                                                                                                1038\n",
      "brand name voyage ereader 6 highresolution display 300 ppi with adaptive builtin light pagepress sensors wifi  includes special offers                                                                    580\n",
      "xyz brand tablet 7 display wifi 8 gb  includes special offers black                                                                                                                                       372\n",
      "retail brand tap portable bluetooth and wifi speaker  black                                                                                                                                               318\n",
      "allnew pocketbook touch hd 3 ereader  black 6 glarefree touchscreen display wifi   includes special offers                                                                                                212\n",
      "retail brand 5w usb official oem charger and power adapter for xyz brand tablets and brand name ereaders                                                                                                  206\n",
      "electronics brand product name tablet a 10.1 tablet 8 hd display wifi 32 gb  includes special offers magenta                                                                                              158\n",
      "retail brand xyz brand hd 8 8in tablet 16gb black b018szt3bk 6th gen 2016 android                                                                                                                         135\n",
      "retail brand xyz brand hd 10 tablet wifi 16 gb special offers  silver aluminum                                                                                                                            128\n",
      "brand name oasis ereader with leather charging cover  merlot 6 highresolution display 300 ppi wifi  includes special offers                                                                                67\n",
      "9w powerfast official oem usb charger and power adapter for xyz brand tablets and brand name ereaders                                                                                                      36\n",
      "brand name paperwhite ereader  white 6 highresolution display 300 ppi with builtin light wifi  includes special offers                                                                                     30\n",
      "retail brand  brand name voyage  4gb  wifi  3g  black                                                                                                                                                      25\n",
      "xyz brand hd 8 tablet with alexa 8 hd display 32 gb tangerine  with special offers                                                                                                                         14\n",
      "brand name paperwhite                                                                                                                                                                                       9\n",
      "brand name keyboard                                                                                                                                                                                         9\n",
      "brand name dx leather cover black fits 9.7 display latest and 2nd generation brand name dxs                                                                                                                 9\n",
      "retail brand echo and xyz brand tv power adapter                                                                                                                                                            8\n",
      "new retail brand brand name xyz brand hd 9w powerfast adapter charger  micro usb angle cable                                                                                                                7\n",
      "retail brand xyz brand kids edition tablet 7 display wifi 16 gb blue kidproof case  blue                                                                                                                    6\n",
      "xyz brand hd 8 tablet with alexa 8 hd display 16 gb tangerine  with special offers                                                                                                                          6\n",
      "retail brand xyz brand hd 6 standing protective case4th generation  2014 release cayenne red                                                                                                                6\n",
      "brand name oasis ereader with leather charging cover  black 6 highresolution display 300 ppi wifi  includes special offers                                                                                  6\n",
      "retail brand  xyz brand 16gb 5th gen 2015 release  black                                                                                                                                                    5\n",
      "certified refurbished electronics brand tv with alexa voice remote                                                                                                                                          4\n",
      "retail brand brand name xyz brand 5ft usb to microusb cable works with most microusb tablets                                                                                                                4\n",
      "retail brand brand name touch leather case 4th generation  2011 release olive green                                                                                                                         3\n",
      "certified refurbished electronics brand tv previous generation  1st                                                                                                                                         3\n",
      "retail brand brand name xyz brand hd 3rd generation 8gb                                                                                                                                                     2\n",
      "retail brand brand name lighted leather cover                                                                                                                                                               2\n",
      "retail brand xyz brand tvbrand name dx leather cover black fits 9.7 display latest and 2nd generation brand name dxs                                                                                        1\n",
      "retail brand brand name lighted leather coverbrand name keyboard                                                                                                                                            1\n",
      "coconut water red tea 16.5 oz pack of 12electronics brand tv                                                                                                                                                1\n",
      "retail brand  brand name voyage  4gb  wifi  3g  blackxyz brand hd 8 tablet with alexa 8 hd display 16 gb tangerine  with special offers                                                                     1\n",
      "retail brand xyz brand hd 6 standing protective case4th generation  2014 release cayenne redretail brand 5w usb official oem charger and power adapter for xyz brand tablets and brand name ereaders        1\n",
      "certified refurbished electronics brand tv stick previous generation  1st                                                                                                                                   1\n",
      "retail brand xyz brand 9w powerfast official oem usb charger and power adapter for xyz brand tablets and brand name ereaders                                                                                1\n",
      "electonics brand homexyz brand tablet 7 display wifi 8 gb  includes special offers tangerine                                                                                                                1\n",
      "standing protective case for xyz brand hd 6 4th generation  black                                                                                                                                           1\n",
      "certified refurbished electronics brand tv stick previous generation  1stbrand name paperwhite                                                                                                              1\n",
      "Name: count, dtype: int64\n"
     ]
    }
   ],
   "source": [
    "print(f\"There are {df['product'].value_counts().count()} unique products:\\n\\n\\n\", df['product'].value_counts())"
   ]
  },
  {
   "cell_type": "code",
   "execution_count": null,
   "id": "e9b81eab-b74e-46a2-9e90-1a0968137bc7",
   "metadata": {},
   "outputs": [],
   "source": []
  },
  {
   "cell_type": "markdown",
   "id": "2cbc2733-f173-4233-8143-98aa920d4d84",
   "metadata": {},
   "source": [
    "### What is the distribution of product ratings?"
   ]
  },
  {
   "cell_type": "code",
   "execution_count": 23,
   "id": "ae279d38-bd7b-4576-83cc-0e89c923d60c",
   "metadata": {},
   "outputs": [
    {
     "name": "stderr",
     "output_type": "stream",
     "text": [
      "C:\\Users\\mayur\\AppData\\Local\\Temp\\ipykernel_16036\\80604846.py:1: FutureWarning: \n",
      "\n",
      "Passing `palette` without assigning `hue` is deprecated and will be removed in v0.14.0. Assign the `x` variable to `hue` and set `legend=False` for the same effect.\n",
      "\n",
      "  sns.countplot(x=\"rating\", data=df, palette=\"viridis\")\n"
     ]
    },
    {
     "data": {
      "image/png": "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",
      "text/plain": [
       "<Figure size 640x480 with 1 Axes>"
      ]
     },
     "metadata": {},
     "output_type": "display_data"
    }
   ],
   "source": [
    "sns.countplot(x=\"rating\", data=df, palette=\"viridis\")\n",
    "plt.title(\"Distribution of movie ratings\", fontsize=14)\n",
    "plt.show()"
   ]
  },
  {
   "cell_type": "code",
   "execution_count": 24,
   "id": "8a36df14-de25-4df1-9a20-39435eeedbeb",
   "metadata": {},
   "outputs": [
    {
     "name": "stdout",
     "output_type": "stream",
     "text": [
      "Mean global rating: 4.57.\n",
      "Mean rating per product: 4.58.\n"
     ]
    }
   ],
   "source": [
    "print(f\"Mean global rating: {round(df['rating'].mean(),2)}.\")\n",
    "\n",
    "mean_ratings = df.groupby('product')['rating'].mean()\n",
    "print(f\"Mean rating per product: {round(mean_ratings.mean(),2)}.\")"
   ]
  },
  {
   "cell_type": "markdown",
   "id": "45e4c77f-80bc-4484-9593-20a65fa7320e",
   "metadata": {},
   "source": [
    "### Which products are most frequently rated?"
   ]
  },
  {
   "cell_type": "code",
   "execution_count": 25,
   "id": "a26f174b-56f6-4db7-acf5-f425e6be0fbf",
   "metadata": {},
   "outputs": [
    {
     "data": {
      "text/plain": [
       "product\n",
       "xyz brand tablet 7 display wifi 8 gb  includes special offers magenta                                                                     10966\n",
       "electonics brand home                                                                                                                      3310\n",
       "retail brand brand name paperwhite  ebook reader  4 gb  6 monochrome paperwhite  touchscreen  wifi  black                                  3176\n",
       "electronics brand product name tablet a 10.1 tablet 8 hd display wifi 16 gb  includes special offers magenta                               2814\n",
       "retail brand xyz brand tv                                                                                                                  2526\n",
       "xyz brand kids edition tablet 7 display wifi 16 gb green kidproof case                                                                     1685\n",
       "brand new electronics brand ipad16gb 7 ips display tablet wifi 16 gb blue                                                                  1038\n",
       "brand name voyage ereader 6 highresolution display 300 ppi with adaptive builtin light pagepress sensors wifi  includes special offers      580\n",
       "xyz brand tablet 7 display wifi 8 gb  includes special offers black                                                                         372\n",
       "retail brand tap portable bluetooth and wifi speaker  black                                                                                 318\n",
       "Name: count, dtype: int64"
      ]
     },
     "execution_count": 25,
     "metadata": {},
     "output_type": "execute_result"
    }
   ],
   "source": [
    "df['product'].value_counts()[0:10]"
   ]
  },
  {
   "cell_type": "markdown",
   "id": "eab5a6d2-9e5e-4cd9-9f57-7e12aaed0f15",
   "metadata": {},
   "source": [
    "__\"XYZ brand Tablet, 7 Display, Wi-Fi, 8 GB - Includes Special Offers, Magenta\" has the most no. of ratings.__"
   ]
  },
  {
   "cell_type": "markdown",
   "id": "0b4fe04c-f13a-49fb-bc86-c7e55416233d",
   "metadata": {},
   "source": [
    "### What are the lowest and highest rated products?"
   ]
  },
  {
   "cell_type": "code",
   "execution_count": 26,
   "id": "1ab790e3-3c1b-4bb6-9768-9fa06364b402",
   "metadata": {},
   "outputs": [
    {
     "data": {
      "text/html": [
       "<div>\n",
       "<style scoped>\n",
       "    .dataframe tbody tr th:only-of-type {\n",
       "        vertical-align: middle;\n",
       "    }\n",
       "\n",
       "    .dataframe tbody tr th {\n",
       "        vertical-align: top;\n",
       "    }\n",
       "\n",
       "    .dataframe thead th {\n",
       "        text-align: right;\n",
       "    }\n",
       "</style>\n",
       "<table border=\"1\" class=\"dataframe\">\n",
       "  <thead>\n",
       "    <tr style=\"text-align: right;\">\n",
       "      <th></th>\n",
       "      <th>product</th>\n",
       "      <th>source</th>\n",
       "      <th>categories</th>\n",
       "      <th>doRecommend</th>\n",
       "      <th>rating</th>\n",
       "      <th>reviews</th>\n",
       "      <th>title</th>\n",
       "    </tr>\n",
       "  </thead>\n",
       "  <tbody>\n",
       "    <tr>\n",
       "      <th>14477</th>\n",
       "      <td>retail brand  brand name voyage  4gb  wifi  3g...</td>\n",
       "      <td>target</td>\n",
       "      <td>xyz brand tablets,tablets,computers &amp; tablets,...</td>\n",
       "      <td>False</td>\n",
       "      <td>3.0</td>\n",
       "      <td>its ok for the price if willing to deal with t...</td>\n",
       "      <td>to many ads</td>\n",
       "    </tr>\n",
       "  </tbody>\n",
       "</table>\n",
       "</div>"
      ],
      "text/plain": [
       "                                                 product  source   \n",
       "14477  retail brand  brand name voyage  4gb  wifi  3g...  target  \\\n",
       "\n",
       "                                              categories  doRecommend  rating   \n",
       "14477  xyz brand tablets,tablets,computers & tablets,...        False     3.0  \\\n",
       "\n",
       "                                                 reviews        title  \n",
       "14477  its ok for the price if willing to deal with t...  to many ads  "
      ]
     },
     "execution_count": 26,
     "metadata": {},
     "output_type": "execute_result"
    }
   ],
   "source": [
    "mean_ratings = df.groupby('product')[['rating']].mean()\n",
    "lowest_rated = mean_ratings['rating'].idxmin()\n",
    "df[df['product']==lowest_rated]"
   ]
  },
  {
   "cell_type": "code",
   "execution_count": 27,
   "id": "d78f11fb-ef9b-4c04-a07e-8fb227a2147d",
   "metadata": {},
   "outputs": [
    {
     "data": {
      "text/plain": [
       "'xyz brand hd 8 tablet with alexa 8 hd display 16 gb tangerine  with special offers'"
      ]
     },
     "execution_count": 27,
     "metadata": {},
     "output_type": "execute_result"
    }
   ],
   "source": [
    "df.iloc[14477,0]"
   ]
  },
  {
   "cell_type": "markdown",
   "id": "f489a28e-6e86-4bd4-a9ae-ed5ce1d36bb7",
   "metadata": {},
   "source": [
    "__^This is the lowest rated product.__"
   ]
  },
  {
   "cell_type": "code",
   "execution_count": 28,
   "id": "0c207231-957c-49ad-85d9-41ad3b4b10ff",
   "metadata": {},
   "outputs": [
    {
     "data": {
      "text/html": [
       "<div>\n",
       "<style scoped>\n",
       "    .dataframe tbody tr th:only-of-type {\n",
       "        vertical-align: middle;\n",
       "    }\n",
       "\n",
       "    .dataframe tbody tr th {\n",
       "        vertical-align: top;\n",
       "    }\n",
       "\n",
       "    .dataframe thead th {\n",
       "        text-align: right;\n",
       "    }\n",
       "</style>\n",
       "<table border=\"1\" class=\"dataframe\">\n",
       "  <thead>\n",
       "    <tr style=\"text-align: right;\">\n",
       "      <th></th>\n",
       "      <th>product</th>\n",
       "      <th>source</th>\n",
       "      <th>categories</th>\n",
       "      <th>doRecommend</th>\n",
       "      <th>rating</th>\n",
       "      <th>reviews</th>\n",
       "      <th>title</th>\n",
       "    </tr>\n",
       "  </thead>\n",
       "  <tbody>\n",
       "    <tr>\n",
       "      <th>20970</th>\n",
       "      <td>certified refurbished electronics brand tv sti...</td>\n",
       "      <td>target</td>\n",
       "      <td>walmart for business,office electronics,tablet...</td>\n",
       "      <td>True</td>\n",
       "      <td>5.0</td>\n",
       "      <td>bought this for my cousins and he absolutely l...</td>\n",
       "      <td>was a gift</td>\n",
       "    </tr>\n",
       "  </tbody>\n",
       "</table>\n",
       "</div>"
      ],
      "text/plain": [
       "                                                 product  source   \n",
       "20970  certified refurbished electronics brand tv sti...  target  \\\n",
       "\n",
       "                                              categories  doRecommend  rating   \n",
       "20970  walmart for business,office electronics,tablet...         True     5.0  \\\n",
       "\n",
       "                                                 reviews       title  \n",
       "20970  bought this for my cousins and he absolutely l...  was a gift  "
      ]
     },
     "execution_count": 28,
     "metadata": {},
     "output_type": "execute_result"
    }
   ],
   "source": [
    "highest_rated = mean_ratings['rating'].idxmax()\n",
    "df[df['product'] == highest_rated]"
   ]
  },
  {
   "cell_type": "code",
   "execution_count": 29,
   "id": "b4642709-5025-47f6-9ca7-8b48366c8644",
   "metadata": {},
   "outputs": [
    {
     "data": {
      "text/plain": [
       "'9w powerfast official oem usb charger and power adapter for xyz brand tablets and brand name ereaders'"
      ]
     },
     "execution_count": 29,
     "metadata": {},
     "output_type": "execute_result"
    }
   ],
   "source": [
    "df.iloc[24855,0]"
   ]
  },
  {
   "cell_type": "markdown",
   "id": "1838efaf-2097-41cf-b351-17717481a27e",
   "metadata": {},
   "source": [
    "__^This is the highest rated product.__"
   ]
  },
  {
   "cell_type": "markdown",
   "id": "bc34592d-9796-43cf-b38e-c2298d1a7d70",
   "metadata": {},
   "source": [
    "__Let's look at product categories.__\n",
    "\n",
    "__'Categories' is expressed as a string with a comma separating each category. We will manipulate this string into a list, which will make it much easier to analyze.__"
   ]
  },
  {
   "cell_type": "code",
   "execution_count": 30,
   "id": "50453d66-e1ad-4d22-8578-e8bca6c30ad0",
   "metadata": {},
   "outputs": [
    {
     "data": {
      "text/html": [
       "<div>\n",
       "<style scoped>\n",
       "    .dataframe tbody tr th:only-of-type {\n",
       "        vertical-align: middle;\n",
       "    }\n",
       "\n",
       "    .dataframe tbody tr th {\n",
       "        vertical-align: top;\n",
       "    }\n",
       "\n",
       "    .dataframe thead th {\n",
       "        text-align: right;\n",
       "    }\n",
       "</style>\n",
       "<table border=\"1\" class=\"dataframe\">\n",
       "  <thead>\n",
       "    <tr style=\"text-align: right;\">\n",
       "      <th></th>\n",
       "      <th>product</th>\n",
       "      <th>source</th>\n",
       "      <th>categories</th>\n",
       "      <th>doRecommend</th>\n",
       "      <th>rating</th>\n",
       "      <th>reviews</th>\n",
       "      <th>title</th>\n",
       "    </tr>\n",
       "  </thead>\n",
       "  <tbody>\n",
       "    <tr>\n",
       "      <th>0</th>\n",
       "      <td>electronics brand product name tablet a 10.1 t...</td>\n",
       "      <td>target</td>\n",
       "      <td>[electronics, ipad &amp; tablets, all tablets, xyz...</td>\n",
       "      <td>True</td>\n",
       "      <td>5.0</td>\n",
       "      <td>this product so far has not disappointed. my c...</td>\n",
       "      <td>brand name</td>\n",
       "    </tr>\n",
       "    <tr>\n",
       "      <th>1</th>\n",
       "      <td>electronics brand product name tablet a 10.1 t...</td>\n",
       "      <td>target</td>\n",
       "      <td>[electronics, ipad &amp; tablets, all tablets, xyz...</td>\n",
       "      <td>True</td>\n",
       "      <td>5.0</td>\n",
       "      <td>great for beginner or experienced person. boug...</td>\n",
       "      <td>very fast</td>\n",
       "    </tr>\n",
       "    <tr>\n",
       "      <th>2</th>\n",
       "      <td>electronics brand product name tablet a 10.1 t...</td>\n",
       "      <td>target</td>\n",
       "      <td>[electronics, ipad &amp; tablets, all tablets, xyz...</td>\n",
       "      <td>True</td>\n",
       "      <td>5.0</td>\n",
       "      <td>inexpensive tablet for him to use and learn on...</td>\n",
       "      <td>beginner tablet for our 9 year old son.</td>\n",
       "    </tr>\n",
       "    <tr>\n",
       "      <th>3</th>\n",
       "      <td>electronics brand product name tablet a 10.1 t...</td>\n",
       "      <td>target</td>\n",
       "      <td>[electronics, ipad &amp; tablets, all tablets, xyz...</td>\n",
       "      <td>True</td>\n",
       "      <td>4.0</td>\n",
       "      <td>i've had my xyz brand hd 8 two weeks now and i...</td>\n",
       "      <td>good!!!</td>\n",
       "    </tr>\n",
       "    <tr>\n",
       "      <th>4</th>\n",
       "      <td>electronics brand product name tablet a 10.1 t...</td>\n",
       "      <td>target</td>\n",
       "      <td>[electronics, ipad &amp; tablets, all tablets, xyz...</td>\n",
       "      <td>True</td>\n",
       "      <td>5.0</td>\n",
       "      <td>i bought this for my grand daughter when she c...</td>\n",
       "      <td>fantastic tablet for kids</td>\n",
       "    </tr>\n",
       "  </tbody>\n",
       "</table>\n",
       "</div>"
      ],
      "text/plain": [
       "                                             product  source   \n",
       "0  electronics brand product name tablet a 10.1 t...  target  \\\n",
       "1  electronics brand product name tablet a 10.1 t...  target   \n",
       "2  electronics brand product name tablet a 10.1 t...  target   \n",
       "3  electronics brand product name tablet a 10.1 t...  target   \n",
       "4  electronics brand product name tablet a 10.1 t...  target   \n",
       "\n",
       "                                          categories  doRecommend  rating   \n",
       "0  [electronics, ipad & tablets, all tablets, xyz...         True     5.0  \\\n",
       "1  [electronics, ipad & tablets, all tablets, xyz...         True     5.0   \n",
       "2  [electronics, ipad & tablets, all tablets, xyz...         True     5.0   \n",
       "3  [electronics, ipad & tablets, all tablets, xyz...         True     4.0   \n",
       "4  [electronics, ipad & tablets, all tablets, xyz...         True     5.0   \n",
       "\n",
       "                                             reviews   \n",
       "0  this product so far has not disappointed. my c...  \\\n",
       "1  great for beginner or experienced person. boug...   \n",
       "2  inexpensive tablet for him to use and learn on...   \n",
       "3  i've had my xyz brand hd 8 two weeks now and i...   \n",
       "4  i bought this for my grand daughter when she c...   \n",
       "\n",
       "                                     title  \n",
       "0                               brand name  \n",
       "1                                very fast  \n",
       "2  beginner tablet for our 9 year old son.  \n",
       "3                                  good!!!  \n",
       "4                fantastic tablet for kids  "
      ]
     },
     "execution_count": 30,
     "metadata": {},
     "output_type": "execute_result"
    }
   ],
   "source": [
    "df['categories'] = df['categories'].apply(lambda x: x.split(\",\"))\n",
    "df.head()"
   ]
  },
  {
   "cell_type": "markdown",
   "id": "79086243-e346-4129-b21f-0b249de8b41c",
   "metadata": {},
   "source": [
    "__How many categories are there?__"
   ]
  },
  {
   "cell_type": "code",
   "execution_count": 31,
   "id": "795b82fe-928b-49e2-8a18-dc1eb33ec1d5",
   "metadata": {},
   "outputs": [
    {
     "name": "stdout",
     "output_type": "stream",
     "text": [
      "There are 106 categories.\n"
     ]
    },
    {
     "data": {
      "text/plain": [
       "Counter({'electronics': 34921,\n",
       "         'computers & tablets': 21461,\n",
       "         'tablets': 21125,\n",
       "         'all tablets': 18155,\n",
       "         'ipad & tablets': 17784,\n",
       "         'xyz brand tablets': 16301,\n",
       "         'home': 11892,\n",
       "         'frys': 10978,\n",
       "         ' tech toys': 10972,\n",
       "         ' movies': 10972,\n",
       "         ' music': 10972,\n",
       "         'android tablets': 10966,\n",
       "         'electronics features': 10297,\n",
       "         'target device accessories': 6373,\n",
       "         'brand name store': 6183,\n",
       "         'target devices': 5990,\n",
       "         'stereos': 5946,\n",
       "         'remote controls': 5946,\n",
       "         'audio docks & mini speakers': 5946,\n",
       "         'kitchen & dining features': 5946,\n",
       "         'speaker systems': 5946,\n",
       "         'tvs entertainment': 5946,\n",
       "         'clearance': 5946,\n",
       "         'smart hubs & wireless routers': 5946,\n",
       "         'featured brands': 5946,\n",
       "         'wireless speakers': 5946,\n",
       "         'smart home & connected living': 5946,\n",
       "         'home security': 5946,\n",
       "         'home automation': 5946,\n",
       "         ' garage & office': 5946,\n",
       "         'voice-enabled smart assistants': 5946,\n",
       "         'virtual assistant speakers': 5946,\n",
       "         'portable audio & headphones': 5946,\n",
       "         'ipod': 5946,\n",
       "         ' audio player accessories': 5946,\n",
       "         'home & furniture clearance': 5946,\n",
       "         'consumer electronics': 5946,\n",
       "         'smart home': 5946,\n",
       "         'surveillance': 5946,\n",
       "         'home improvement': 5946,\n",
       "         'smart home & home automation devices': 5946,\n",
       "         'smart hubs': 5946,\n",
       "         'home safety & security': 5946,\n",
       "         'voice assistants': 5946,\n",
       "         'alarms & sensors': 5946,\n",
       "         'audio': 5946,\n",
       "         'holiday shop': 5946,\n",
       "         'computers/tablets & networking': 5081,\n",
       "         'tablets & ebook readers': 5081,\n",
       "         'brand name e-readers': 4092,\n",
       "         'e-readers & accessories': 4092,\n",
       "         'ebook readers': 3914,\n",
       "         'walmart for business': 3756,\n",
       "         'office electronics': 3756,\n",
       "         'e-readers': 3461,\n",
       "         'office': 3176,\n",
       "         'windows tablets': 3176,\n",
       "         'all windows tablets': 3176,\n",
       "         'books & magazines': 3176,\n",
       "         'book accessories': 3176,\n",
       "         'ereaders': 3176,\n",
       "         'tvs & electronics': 3176,\n",
       "         'computers & laptops': 3176,\n",
       "         'tablets & ereaders': 3176,\n",
       "         'retail brand echo': 3016,\n",
       "         'retail brand echo accessories': 3016,\n",
       "         'target echo': 2930,\n",
       "         'target echo accessories': 2930,\n",
       "         ' wi-fi  3g (unlocked...': 580,\n",
       "         'power adapters & cables': 416,\n",
       "         'target devices & accessories': 400,\n",
       "         'see more target brand name voyage (wi-fi)': 377,\n",
       "         'see more target brand name voyage 4gb': 377,\n",
       "         'computers': 376,\n",
       "         'pocketbook touch hd 3 store': 212,\n",
       "         'pocketbook touch hd 3 e-reader accessories': 212,\n",
       "         'pocketbook touch hd 3 paperwhite accessories': 212,\n",
       "         'used:computers accessories': 212,\n",
       "         'used:tablets': 212,\n",
       "         'ipads tablets': 212,\n",
       "         'see more retail brand brand name voyage (wi-fi)': 203,\n",
       "         'see more retail brand brand name voyage 4gb': 203,\n",
       "         'brand name e-reader accessories': 199,\n",
       "         'brand name paperwhite accessories': 188,\n",
       "         'computer components': 158,\n",
       "         'hard drives & storage': 158,\n",
       "         'categories': 33,\n",
       "         'ebook readers & accessories': 25,\n",
       "         'mazon.co.uk': 19,\n",
       "         'xyz brand tv accessories': 16,\n",
       "         'power adapters': 16,\n",
       "         'streaming media players': 14,\n",
       "         'covers': 11,\n",
       "         'computer accessories': 8,\n",
       "         'brand name touch (4th generation) accessories': 6,\n",
       "         'brand name touch (4th generation) covers': 6,\n",
       "         'cases & bags': 6,\n",
       "         \"kids' tablets\": 6,\n",
       "         'top rated': 6,\n",
       "         'brand name (5th generation) accessories': 5,\n",
       "         'brand name (5th generation) covers': 5,\n",
       "         'xyz brand tv': 3,\n",
       "         'software & books': 2,\n",
       "         'ereaders & accessories': 2,\n",
       "         'tablet cases covers': 2,\n",
       "         'tablet accessories': 2})"
      ]
     },
     "execution_count": 31,
     "metadata": {},
     "output_type": "execute_result"
    }
   ],
   "source": [
    "from collections import Counter\n",
    "\n",
    "category_frequency = Counter(c for categories in df['categories'] for c in categories)\n",
    "\n",
    "print(f\"There are {len(category_frequency)} categories.\")\n",
    "\n",
    "category_frequency"
   ]
  },
  {
   "cell_type": "markdown",
   "id": "86b36255-6895-433b-9a21-8a023c13c0b6",
   "metadata": {},
   "source": [
    "__Let's visualize the popularity of the top 20 categories.__"
   ]
  },
  {
   "cell_type": "code",
   "execution_count": 32,
   "id": "b35ebfc7-f5ec-43d6-8536-ec325433ffb1",
   "metadata": {},
   "outputs": [
    {
     "data": {
      "image/png": "iVBORw0KGgoAAAANSUhEUgAAAk0AAALCCAYAAADDHOdVAAAAOXRFWHRTb2Z0d2FyZQBNYXRwbG90bGliIHZlcnNpb24zLjguMCwgaHR0cHM6Ly9tYXRwbG90bGliLm9yZy81sbWrAAAACXBIWXMAAA9hAAAPYQGoP6dpAADkZUlEQVR4nOzdd1gU1/s28JsivSkCimLFhoC9EI2xoKjE2GJsUWNLTNCoGFtisCaWfO01VtRojJqoiSgW7IoNRewVxajYEQUFgef9g3fnxwqaDTu7oLk/1zVXwuzxOTPDsjzMnPMcExEREBEREdEbmeb1ARARERG9DZg0EREREemASRMRERGRDpg0EREREemASRMRERGRDpg0EREREemASRMRERGRDszz+gDeFRkZGbh9+zbs7e1hYmKS14dDREREOhARPH36FO7u7jA1ffO9JCZNKrl9+zY8PDzy+jCIiIgoF27evInixYu/sQ2TJpXY29sDyLzoDg4OeXw0REREpIvExER4eHgov8ffhEmTSjSP5BwcHJg0ERERvWV0GVrDgeBEREREOmDSRERERKQDJk1EREREOmDSRERERKQDJk1EREREOmDSRERERKQDJk1EREREOmDSRERERKQDJk1EREREOmDSRERERKSDPE2a5s+fD19fX2XpET8/P2zdulV5vWHDhjAxMdHa+vXrpxUjLi4OgYGBsLGxgaurK4YOHYq0tDStNnv27EH16tVhaWkJT09PhIaGZjuWuXPnolSpUrCyskKdOnVw9OhRg5wzERERvZ3yNGkqXrw4Jk2ahKioKBw/fhyNGzdG69atcfbsWaVN3759cefOHWWbMmWK8lp6ejoCAwORmpqKQ4cOYfny5QgNDUVISIjSJjY2FoGBgWjUqBGio6MxaNAg9OnTB9u2bVPa/PbbbwgODsbo0aNx4sQJVKlSBQEBAbh3755xLgQRERHleyYiInl9EFkVKlQIP/30E3r37o2GDRuiatWqmDFjRo5tt27dig8//BC3b9+Gm5sbAGDBggUYPnw47t+/DwsLCwwfPhxhYWE4c+aM8u86deqEhIQEhIeHAwDq1KmDWrVqYc6cOQCAjIwMeHh4YMCAARgxYoROx52YmAhHR0c8efKEC/YSERG9Jf7N7+98M6YpPT0da9asQVJSEvz8/JT9q1atQuHCheHt7Y2RI0ciOTlZeS0yMhI+Pj5KwgQAAQEBSExMVO5WRUZGwt/fX6uvgIAAREZGAgBSU1MRFRWl1cbU1BT+/v5Km5ykpKQgMTFRayMiIqJ3l3leH8Dp06fh5+eHFy9ewM7ODhs2bICXlxcAoEuXLihZsiTc3d0RExOD4cOH4+LFi/jjjz8AAPHx8VoJEwDl6/j4+De2SUxMxPPnz/H48WOkp6fn2ObChQuvPe6JEydi7Nix+p08ERERvTXyPGmqUKECoqOj8eTJE6xfvx49evTA3r174eXlhc8//1xp5+Pjg6JFi6JJkya4evUqypYtm4dHDYwcORLBwcHK14mJifDw8FC+vjNujmp9FQ3pr1osIiIiyp08T5osLCzg6ekJAKhRowaOHTuGmTNn4ueff87Wtk6dOgCAK1euoGzZsihSpEi2WW53794FABQpUkT5r2Zf1jYODg6wtraGmZkZzMzMcmyjiZETS0tLWFpa/suzJSIiordVvhnTpJGRkYGUlJQcX4uOjgYAFC1aFADg5+eH06dPa81y27FjBxwcHJRHfH5+foiIiNCKs2PHDmXclIWFBWrUqKHVJiMjAxEREVpjq4iIiOi/LU/vNI0cORItWrRAiRIl8PTpU6xevRp79uzBtm3bcPXqVaxevRotW7aEs7MzYmJiMHjwYDRo0AC+vr4AgGbNmsHLywvdunXDlClTEB8fj1GjRiEoKEi5C9SvXz/MmTMHw4YNQ69evbBr1y6sXbsWYWFhynEEBwejR48eqFmzJmrXro0ZM2YgKSkJPXv2zJPrQkRERPlPniZN9+7dQ/fu3XHnzh04OjrC19cX27ZtQ9OmTXHz5k3s3LlTSWA8PDzQvn17jBo1Svn3ZmZm2Lx5M7788kv4+fnB1tYWPXr0wLhx45Q2pUuXRlhYGAYPHoyZM2eiePHiWLx4MQICApQ2HTt2xP379xESEoL4+HhUrVoV4eHh2QaHExER0X9XvqvT9LZ6tc4DB4ITERHlf29lnSYiIiKi/IxJExEREZEOmDQRERER6YBJExEREZEOmDQRERER6YBJExEREZEOmDQRERER6YBJExEREZEOmDQRERER6YBJExEREZEOmDQRERER6YBJExEREZEOmDQRERER6YBJExEREZEOmDQRERER6YBJExEREZEOmDQRERER6YBJExEREZEOmDQRERER6YBJExEREZEOmDQRERER6YBJExEREZEOmDQRERER6YBJExEREZEOmDQRERER6YBJExEREZEOmDQRERER6YBJExEREZEOmDQRERER6YBJExEREZEOmDQRERER6YBJExEREZEOmDQRERER6YBJExEREZEOmDQRERER6YBJExEREZEOmDQRERER6YBJExEREZEOmDQRERER6YBJExEREZEO8jRpmj9/Pnx9feHg4AAHBwf4+flh69atyusvXrxAUFAQnJ2dYWdnh/bt2+Pu3btaMeLi4hAYGAgbGxu4urpi6NChSEtL02qzZ88eVK9eHZaWlvD09ERoaGi2Y5k7dy5KlSoFKysr1KlTB0ePHjXIORMREdHbKU+TpuLFi2PSpEmIiorC8ePH0bhxY7Ru3Rpnz54FAAwePBh//fUX1q1bh7179+L27dto166d8u/T09MRGBiI1NRUHDp0CMuXL0doaChCQkKUNrGxsQgMDESjRo0QHR2NQYMGoU+fPti2bZvS5rfffkNwcDBGjx6NEydOoEqVKggICMC9e/eMdzGIiIgoXzMREcnrg8iqUKFC+Omnn/Dxxx/DxcUFq1evxscffwwAuHDhAipVqoTIyEjUrVsXW7duxYcffojbt2/Dzc0NALBgwQIMHz4c9+/fh4WFBYYPH46wsDCcOXNG6aNTp05ISEhAeHg4AKBOnTqoVasW5syZAwDIyMiAh4cHBgwYgBEjRuh03ImJiXB0dMSTJ0/g4OCAO+PmqHZNiob0Vy0WERER/Z9Xf3+/Sb4Z05Seno41a9YgKSkJfn5+iIqKwsuXL+Hv76+0qVixIkqUKIHIyEgAQGRkJHx8fJSECQACAgKQmJio3K2KjIzUiqFpo4mRmpqKqKgorTampqbw9/dX2uQkJSUFiYmJWhsRERG9u/I8aTp9+jTs7OxgaWmJfv36YcOGDfDy8kJ8fDwsLCzg5OSk1d7NzQ3x8fEAgPj4eK2ESfO65rU3tUlMTMTz58/x4MEDpKen59hGEyMnEydOhKOjo7J5eHjk6vyJiIjo7ZDnSVOFChUQHR2NI0eO4Msvv0SPHj1w7ty5vD6sfzRy5Eg8efJE2W7evJnXh0REREQGZJ7XB2BhYQFPT08AQI0aNXDs2DHMnDkTHTt2RGpqKhISErTuNt29exdFihQBABQpUiTbLDfN7LqsbV6dcXf37l04ODjA2toaZmZmMDMzy7GNJkZOLC0tYWlpmbuTJiIiordOnt9pelVGRgZSUlJQo0YNFChQABEREcprFy9eRFxcHPz8/AAAfn5+OH36tNYstx07dsDBwQFeXl5Km6wxNG00MSwsLFCjRg2tNhkZGYiIiFDaEBEREeXpnaaRI0eiRYsWKFGiBJ4+fYrVq1djz5492LZtGxwdHdG7d28EBwejUKFCcHBwwIABA+Dn54e6desCAJo1awYvLy9069YNU6ZMQXx8PEaNGoWgoCDlLlC/fv0wZ84cDBs2DL169cKuXbuwdu1ahIWFKccRHByMHj16oGbNmqhduzZmzJiBpKQk9OzZM0+uCxEREeU/eZo03bt3D927d8edO3fg6OgIX19fbNu2DU2bNgUATJ8+Haampmjfvj1SUlIQEBCAefPmKf/ezMwMmzdvxpdffgk/Pz/Y2tqiR48eGDdunNKmdOnSCAsLw+DBgzFz5kwUL14cixcvRkBAgNKmY8eOuH//PkJCQhAfH4+qVasiPDw82+BwIiIi+u/Kd3Wa3las00RERPT2eSvrNBERERHlZ0yaiIiIiHTApImIiIhIB0yaiIiIiHTApImIiIhIB0yaiIiIiHTApImIiIhIB0yaiIiIiHTApImIiIhIB0yaiIiIiHTApImIiIhIB0yaiIiIiHTApImIiIhIB0yaiIiIiHTApImIiIhIB0yaiIiIiHTApImIiIhIB0yaiIiIiHTApImIiIhIB0yaiIiIiHTApImIiIhIB0yaiIiIiHTApImIiIhIB0yaiIiIiHTApImIiIhIB0yaiIiIiHTApImIiIhIB0yaiIiIiHTApImIiIhIB0yaiIiIiHTApImIiIhIB0yaiIiIiHTApImIiIhIB0yaiIiIiHTApImIiIhIB0yaiIiIiHTApImIiIhIB0yaiIiIiHTApImIiIhIB3maNE2cOBG1atWCvb09XF1d0aZNG1y8eFGrTcOGDWFiYqK19evXT6tNXFwcAgMDYWNjA1dXVwwdOhRpaWlabfbs2YPq1avD0tISnp6eCA0NzXY8c+fORalSpWBlZYU6derg6NGjqp8zERERvZ3yNGnau3cvgoKCcPjwYezYsQMvX75Es2bNkJSUpNWub9++uHPnjrJNmTJFeS09PR2BgYFITU3FoUOHsHz5coSGhiIkJERpExsbi8DAQDRq1AjR0dEYNGgQ+vTpg23btiltfvvtNwQHB2P06NE4ceIEqlSpgoCAANy7d8/wF4KIiIjyPRMRkbw+CI379+/D1dUVe/fuRYMGDQBk3mmqWrUqZsyYkeO/2bp1Kz788EPcvn0bbm5uAIAFCxZg+PDhuH//PiwsLDB8+HCEhYXhzJkzyr/r1KkTEhISEB4eDgCoU6cOatWqhTlz5gAAMjIy4OHhgQEDBmDEiBH/eOyJiYlwdHTEkydP4ODggDvj5uhzKbQUDemvWiwiIiL6P6/+/n6TfDWm6cmTJwCAQoUKae1ftWoVChcuDG9vb4wcORLJycnKa5GRkfDx8VESJgAICAhAYmIizp49q7Tx9/fXihkQEIDIyEgAQGpqKqKiorTamJqawt/fX2nzqpSUFCQmJmptRERE9O4yz+sD0MjIyMCgQYNQr149eHt7K/u7dOmCkiVLwt3dHTExMRg+fDguXryIP/74AwAQHx+vlTABUL6Oj49/Y5vExEQ8f/4cjx8/Rnp6eo5tLly4kOPxTpw4EWPHjtXvpImIiOitkW+SpqCgIJw5cwYHDhzQ2v/5558r/+/j44OiRYuiSZMmuHr1KsqWLWvsw1SMHDkSwcHByteJiYnw8PDIs+MhIiIiw8oXSVP//v2xefNm7Nu3D8WLF39j2zp16gAArly5grJly6JIkSLZZrndvXsXAFCkSBHlv5p9Wds4ODjA2toaZmZmMDMzy7GNJsarLC0tYWlpqftJEhER0VstT8c0iQj69++PDRs2YNeuXShduvQ//pvo6GgAQNGiRQEAfn5+OH36tNYstx07dsDBwQFeXl5Km4iICK04O3bsgJ+fHwDAwsICNWrU0GqTkZGBiIgIpQ0RERH9t+XpnaagoCCsXr0amzZtgr29vTIGydHREdbW1rh69SpWr16Nli1bwtnZGTExMRg8eDAaNGgAX19fAECzZs3g5eWFbt26YcqUKYiPj8eoUaMQFBSk3Anq168f5syZg2HDhqFXr17YtWsX1q5di7CwMOVYgoOD0aNHD9SsWRO1a9fGjBkzkJSUhJ49exr/whAREVG+k6dJ0/z58wFklhXIatmyZfjss89gYWGBnTt3KgmMh4cH2rdvj1GjRiltzczMsHnzZnz55Zfw8/ODra0tevTogXHjxiltSpcujbCwMAwePBgzZ85E8eLFsXjxYgQEBChtOnbsiPv37yMkJATx8fGoWrUqwsPDsw0OJyIiov+mfFWn6W3GOk1ERERvn7e2ThMRERFRfsWkiYiIiEgHTJqIiIiIdMCkiYiIiEgHTJqIiIiIdMCkiYiIiEgHTJqIiIiIdMCkiYiIiEgHTJqIiIiIdMCkiYiIiEgHTJqIiIiIdMCkiYiIiEgHTJqIiIiIdMCkiYiIiEgHTJqIiIiIdMCkiYiIiEgHTJqIiIiIdMCkiYiIiEgHTJqIiIiIdMCkiYiIiEgHTJqIiIiIdMCkiYiIiEgHTJqIiIiIdMCkiYiIiEgHTJqIiIiIdMCkiYiIiEgHTJqIiIiIdMCkiYiIiEgHTJqIiIiIdGCe1wdAuXNzXF9V43mELFI1HhER0buGd5qIiIiIdMCkiYiIiEgHfDxHrxU5ubmq8fyGh6saj4iIyJh4p4mIiIhIB0yaiIiIiHTApImIiIhIB0yaiIiIiHTApImIiIhIB0yaiIiIiHTApImIiIhIB3maNE2cOBG1atWCvb09XF1d0aZNG1y8eFGrzYsXLxAUFARnZ2fY2dmhffv2uHv3rlabuLg4BAYGwsbGBq6urhg6dCjS0tK02uzZswfVq1eHpaUlPD09ERoamu145s6di1KlSsHKygp16tTB0aNHVT9nIiIiejvladK0d+9eBAUF4fDhw9ixYwdevnyJZs2aISkpSWkzePBg/PXXX1i3bh327t2L27dvo127dsrr6enpCAwMRGpqKg4dOoTly5cjNDQUISEhSpvY2FgEBgaiUaNGiI6OxqBBg9CnTx9s27ZNafPbb78hODgYo0ePxokTJ1ClShUEBATg3r17xrkYRERElK+ZiIjk9UFo3L9/H66urti7dy8aNGiAJ0+ewMXFBatXr8bHH38MALhw4QIqVaqEyMhI1K1bF1u3bsWHH36I27dvw83NDQCwYMECDB8+HPfv34eFhQWGDx+OsLAwnDlzRumrU6dOSEhIQHh4ZpXqOnXqoFatWpgzZw4AICMjAx4eHhgwYABGjBiR7VhTUlKQkpKifJ2YmAgPDw88efIEDg4OuDNujmrXpWhI/2z7jLFgLyuCExHRuy4xMRGOjo7K7+83ydWdpsaNGyMhISHHjhs3bpybkACAJ0+eAAAKFSoEAIiKisLLly/h7++vtKlYsSJKlCiByMhIAEBkZCR8fHyUhAkAAgICkJiYiLNnzyptssbQtNHESE1NRVRUlFYbU1NT+Pv7K21eNXHiRDg6Oiqbh4dHrs+biIiI8r9cJU179uxBampqtv0vXrzA/v37c3UgGRkZGDRoEOrVqwdvb28AQHx8PCwsLODk5KTV1s3NDfHx8UqbrAmT5nXNa29qk5iYiOfPn+PBgwdIT0/PsY0mxqtGjhyJJ0+eKNvNmzdzdd5ERET0dvhXC/bGxMQo/3/u3DmthCI9PR3h4eEoVqxYrg4kKCgIZ86cwYEDB3L1743N0tISlpaWeX0YREREZCT/KmmqWrUqTExMYGJikuNjOGtra8yePftfH0T//v2xefNm7Nu3D8WLF1f2FylSBKmpqUhISNC623T37l0UKVJEafPqLDfN7LqsbV6dcXf37l04ODjA2toaZmZmMDMzy7GNJgYRERH9t/2rx3OxsbG4evUqRARHjx5FbGysst26dQuJiYno1auXzvFEBP3798eGDRuwa9culC5dWuv1GjVqoECBAoiIiFD2Xbx4EXFxcfDz8wMA+Pn54fTp01qz3Hbs2AEHBwd4eXkpbbLG0LTRxLCwsECNGjW02mRkZCAiIkJpQ0RERP9t/+pOU8mSJQFkJhRqCAoKwurVq7Fp0ybY29srj/scHR1hbW0NR0dH9O7dG8HBwShUqBAcHBwwYMAA+Pn5oW7dugCAZs2awcvLC926dcOUKVMQHx+PUaNGISgoSHl81q9fP8yZMwfDhg1Dr169sGvXLqxduxZhYWHKsQQHB6NHjx6oWbMmateujRkzZiApKQk9e/ZU5VyJiIjo7favkqasLl++jN27d+PevXvZkqisNZLeZP78+QCAhg0bau1ftmwZPvvsMwDA9OnTYWpqivbt2yMlJQUBAQGYN2+e0tbMzAybN2/Gl19+CT8/P9ja2qJHjx4YN26c0qZ06dIICwvD4MGDMXPmTBQvXhyLFy9GQECA0qZjx464f/8+QkJCEB8fj6pVqyI8PDzb4HAiIiL6b8pVnaZFixbhyy+/ROHChVGkSBGYmJj8X0ATE5w4cULVg3wbvFrngXWasmOdJiIiym/+TZ2mXN1pmjBhAn744QcMHz48VwdIRERE9LbJVZ2mx48fo0OHDmofCxEREVG+laukqUOHDti+fbvax0JERESUb+Xq8Zynpye+//57HD58GD4+PihQoIDW619//bUqB0dERESUX+QqaVq4cCHs7Oywd+9e7N27V+s1ExMTJk1ERET0zslV0hQbG6v2cRARERHla7ka00RERET0X5OrO03/tFTK0qVLc3UwRERERPlVrpKmx48fa3398uVLnDlzBgkJCTku5EtERET0tstV0rRhw4Zs+zIyMvDll1+ibNmyeh8UERERUX6j2pgmU1NTBAcHY/r06WqFJCIiIso3cr1gb06uXr2KtLQ0NUPSO27T9Kaqxms9eIeq8YiIiDRylTQFBwdrfS0iuHPnDsLCwtCjRw9VDoyIiIgoP8lV0nTy5Emtr01NTeHi4oKpU6f+48w6IiIiordRrpKm3bt3q30cRERERPmaXmOa7t+/j4sXLwIAKlSoABcXF1UOikhNy2arWwaj54BdqsYjIqK3Q65mzyUlJaFXr14oWrQoGjRogAYNGsDd3R29e/dGcnKy2sdIRERElOdylTQFBwdj7969+Ouvv5CQkICEhARs2rQJe/fuxZAhQ9Q+RiIiIqI8l6vHc7///jvWr1+Phg0bKvtatmwJa2trfPLJJ5g/f75ax0dERESUL+TqTlNycjLc3Nyy7Xd1deXjOSIiInon5Spp8vPzw+jRo/HixQtl3/PnzzF27Fj4+fmpdnBERERE+UWuHs/NmDEDzZs3R/HixVGlShUAwKlTp2BpaYnt27ereoBERERE+UGukiYfHx9cvnwZq1atwoULFwAAnTt3RteuXWFtba3qARIRERHlB7lKmiZOnAg3Nzf07dtXa//SpUtx//59DB8+XJWDIyIiIsovcjWm6eeff0bFihWz7a9cuTIWLFig90ERERER5Te5Spri4+NRtGjRbPtdXFxw584dvQ+KiIiIKL/JVdLk4eGBgwcPZtt/8OBBuLu7631QRERERPlNrsY09e3bF4MGDcLLly/RuHHmul4REREYNmwYK4ITERHROylXSdPQoUPx8OFDfPXVV0hNTQUAWFlZYfjw4Rg5cqSqB0hERESUH+QqaTIxMcHkyZPx/fff4/z587C2tka5cuVgaWmp9vERERER5Qu5Spo07OzsUKtWLbWOheitNXVeI9ViDflqt2qxiIhIPbkaCE5ERET0X8OkiYiIiEgHTJqIiIiIdMCkiYiIiEgHTJqIiIiIdMCkiYiIiEgHTJqIiIiIdMCkiYiIiEgHeZo07du3D61atYK7uztMTEywceNGrdc/++wzmJiYaG3NmzfXavPo0SN07doVDg4OcHJyQu/evfHs2TOtNjExMXj//fdhZWUFDw8PTJkyJduxrFu3DhUrVoSVlRV8fHywZcsW1c+XiIiI3l55mjQlJSWhSpUqmDt37mvbNG/eHHfu3FG2X3/9Vev1rl274uzZs9ixYwc2b96Mffv24fPPP1deT0xMRLNmzVCyZElERUXhp59+wpgxY7Bw4UKlzaFDh9C5c2f07t0bJ0+eRJs2bdCmTRucOXNG/ZMmIiKit5Jey6joq0WLFmjRosUb21haWqJIkSI5vnb+/HmEh4fj2LFjqFmzJgBg9uzZaNmyJf73v//B3d0dq1atQmpqKpYuXQoLCwtUrlwZ0dHRmDZtmpJczZw5E82bN8fQoUMBAOPHj8eOHTswZ84cLFiwQMUzJiIiordVvh/TtGfPHri6uqJChQr48ssv8fDhQ+W1yMhIODk5KQkTAPj7+8PU1BRHjhxR2jRo0AAWFhZKm4CAAFy8eBGPHz9W2vj7+2v1GxAQgMjIyNceV0pKChITE7U2IiIienfl66SpefPmWLFiBSIiIjB58mTs3bsXLVq0QHp6OgAgPj4erq6uWv/G3NwchQoVQnx8vNLGzc1Nq43m639qo3k9JxMnToSjo6OyeXh46HeyRERElK/l6eO5f9KpUyfl/318fODr64uyZctiz549aNKkSR4eGTBy5EgEBwcrXycmJjJxIiIieofl6ztNrypTpgwKFy6MK1euAACKFCmCe/fuabVJS0vDo0ePlHFQRYoUwd27d7XaaL7+pzavG0sFZI61cnBw0NqIiIjo3fVWJU1///03Hj58iKJFiwIA/Pz8kJCQgKioKKXNrl27kJGRgTp16iht9u3bh5cvXyptduzYgQoVKqBgwYJKm4iICK2+duzYAT8/P0OfEhEREb0l8jRpevbsGaKjoxEdHQ0AiI2NRXR0NOLi4vDs2TMMHToUhw8fxvXr1xEREYHWrVvD09MTAQEBAIBKlSqhefPm6Nu3L44ePYqDBw+if//+6NSpE9zd3QEAXbp0gYWFBXr37o2zZ8/it99+w8yZM7UerQ0cOBDh4eGYOnUqLly4gDFjxuD48ePo37+/0a8JERER5U95mjQdP34c1apVQ7Vq1QAAwcHBqFatGkJCQmBmZoaYmBh89NFHKF++PHr37o0aNWpg//79sLS0VGKsWrUKFStWRJMmTdCyZUvUr19fqwaTo6Mjtm/fjtjYWNSoUQNDhgxBSEiIVi2n9957D6tXr8bChQtRpUoVrF+/Hhs3boS3t7fxLgYRERHla3k6ELxhw4YQkde+vm3btn+MUahQIaxevfqNbXx9fbF///43tunQoQM6dOjwj/0RERHRf9NbNaaJiIiIKK8waSIiIiLSAZMmIiIiIh0waSIiIiLSAZMmIiIiIh0waSIiIiLSAZMmIiIiIh0waSIiIiLSAZMmIiIiIh0waSIiIiLSAZMmIiIiIh0waSIiIiLSAZMmIiIiIh0waSIiIiLSAZMmIiIiIh0waSIiIiLSAZMmIiIiIh0waSIiIiLSAZMmIiIiIh0waSIiIiLSAZMmIiIiIh0waSIiIiLSAZMmIiIiIh0waSIiIiLSAZMmIiIiIh0waSIiIiLSAZMmIiIiIh0waSIiIiLSAZMmIiIiIh0waSIiIiLSAZMmIiIiIh0waSIiIiLSAZMmIiIiIh0waSIiIiLSAZMmIiIiIh0waSIiIiLSAZMmIiIiIh0waSIiIiLSAZMmIiIiIh3kadK0b98+tGrVCu7u7jAxMcHGjRu1XhcRhISEoGjRorC2toa/vz8uX76s1ebRo0fo2rUrHBwc4OTkhN69e+PZs2dabWJiYvD+++/DysoKHh4emDJlSrZjWbduHSpWrAgrKyv4+Phgy5Ytqp8vERERvb3yNGlKSkpClSpVMHfu3BxfnzJlCmbNmoUFCxbgyJEjsLW1RUBAAF68eKG06dq1K86ePYsdO3Zg8+bN2LdvHz7//HPl9cTERDRr1gwlS5ZEVFQUfvrpJ4wZMwYLFy5U2hw6dAidO3dG7969cfLkSbRp0wZt2rTBmTNnDHfyRERE9FYxz8vOW7RogRYtWuT4mohgxowZGDVqFFq3bg0AWLFiBdzc3LBx40Z06tQJ58+fR3h4OI4dO4aaNWsCAGbPno2WLVvif//7H9zd3bFq1SqkpqZi6dKlsLCwQOXKlREdHY1p06YpydXMmTPRvHlzDB06FAAwfvx47NixA3PmzMGCBQuMcCWIiIgov8u3Y5piY2MRHx8Pf39/ZZ+joyPq1KmDyMhIAEBkZCScnJyUhAkA/P39YWpqiiNHjihtGjRoAAsLC6VNQEAALl68iMePHyttsvajaaPpJycpKSlITEzU2oiIiOjdlW+Tpvj4eACAm5ub1n43Nzfltfj4eLi6umq9bm5ujkKFCmm1ySlG1j5e10bzek4mTpwIR0dHZfPw8Pi3p0hERERvkXybNOV3I0eOxJMnT5Tt5s2beX1IREREZED5NmkqUqQIAODu3bta++/evau8VqRIEdy7d0/r9bS0NDx69EirTU4xsvbxujaa13NiaWkJBwcHrY2IiIjeXfk2aSpdujSKFCmCiIgIZV9iYiKOHDkCPz8/AICfnx8SEhIQFRWltNm1axcyMjJQp04dpc2+ffvw8uVLpc2OHTtQoUIFFCxYUGmTtR9NG00/RERERHmaND179gzR0dGIjo4GkDn4Ozo6GnFxcTAxMcGgQYMwYcIE/Pnnnzh9+jS6d+8Od3d3tGnTBgBQqVIlNG/eHH379sXRo0dx8OBB9O/fH506dYK7uzsAoEuXLrCwsEDv3r1x9uxZ/Pbbb5g5cyaCg4OV4xg4cCDCw8MxdepUXLhwAWPGjMHx48fRv39/Y18SIiIiyqfytOTA8ePH0ahRI+VrTSLTo0cPhIaGYtiwYUhKSsLnn3+OhIQE1K9fH+Hh4bCyslL+zapVq9C/f380adIEpqamaN++PWbNmqW87ujoiO3btyMoKAg1atRA4cKFERISolXL6b333sPq1asxatQofPvttyhXrhw2btwIb29vI1wFIiIiehvkadLUsGFDiMhrXzcxMcG4ceMwbty417YpVKgQVq9e/cZ+fH19sX///je26dChAzp06PDmAyYiIqL/rHw7pomIiIgoP2HSRERERKQDJk1EREREOmDSRERERKQDJk1EREREOmDSRERERKQDJk1EREREOmDSRERERKQDJk1EREREOmDSRERERKQDJk1EREREOmDSRERERKQDJk1EREREOmDSRERERKQDJk1EREREOmDSRERERKQDJk1EREREOmDSRERERKQDJk1EREREOmDSRERERKQDJk1EREREOmDSRERERKQDJk1EREREOmDSRERERKQDJk1EREREOmDSRERERKQDJk1EREREOmDSRERERKQDJk1EREREOmDSRERERKQD87w+ACL6Z8OWNFI13pTeu1WNR0T0X8A7TUREREQ64J0mIgIANP7lQ1Xj7fp0s6rxiIjyGu80EREREemAd5qIyGj8V4xUNd7O7hNVjUdE9Ca800RERESkAyZNRERERDpg0kRERESkAyZNRERERDpg0kRERESkg3ydNI0ZMwYmJiZaW8WKFZXXX7x4gaCgIDg7O8POzg7t27fH3bt3tWLExcUhMDAQNjY2cHV1xdChQ5GWlqbVZs+ePahevTosLS3h6emJ0NBQY5weERERvUXyddIEAJUrV8adO3eU7cCBA8prgwcPxl9//YV169Zh7969uH37Ntq1a6e8np6ejsDAQKSmpuLQoUNYvnw5QkNDERISorSJjY1FYGAgGjVqhOjoaAwaNAh9+vTBtm3bjHqeRERElL/l+zpN5ubmKFKkSLb9T548wZIlS7B69Wo0btwYALBs2TJUqlQJhw8fRt26dbF9+3acO3cOO3fuhJubG6pWrYrx48dj+PDhGDNmDCwsLLBgwQKULl0aU6dOBQBUqlQJBw4cwPTp0xEQEGDUcyUiIqL8K9/fabp8+TLc3d1RpkwZdO3aFXFxcQCAqKgovHz5Ev7+/krbihUrokSJEoiMjAQAREZGwsfHB25ubkqbgIAAJCYm4uzZs0qbrDE0bTQxXiclJQWJiYlaGxEREb278nXSVKdOHYSGhiI8PBzz589HbGws3n//fTx9+hTx8fGwsLCAk5OT1r9xc3NDfHw8ACA+Pl4rYdK8rnntTW0SExPx/Pnz1x7bxIkT4ejoqGweHh76ni4RERHlY/n68VyLFi2U//f19UWdOnVQsmRJrF27FtbW1nl4ZMDIkSMRHBysfJ2YmMjEiYiI6B2Wr+80vcrJyQnly5fHlStXUKRIEaSmpiIhIUGrzd27d5UxUEWKFMk2m07z9T+1cXBweGNiZmlpCQcHB62NiIiI3l1vVdL07NkzXL16FUWLFkWNGjVQoEABREREKK9fvHgRcXFx8PPzAwD4+fnh9OnTuHfvntJmx44dcHBwgJeXl9ImawxNG00MIiIiIiCfJ03ffPMN9u7di+vXr+PQoUNo27YtzMzM0LlzZzg6OqJ3794IDg7G7t27ERUVhZ49e8LPzw9169YFADRr1gxeXl7o1q0bTp06hW3btmHUqFEICgqCpaUlAKBfv364du0ahg0bhgsXLmDevHlYu3YtBg8enJenTkRERPlMvh7T9Pfff6Nz5854+PAhXFxcUL9+fRw+fBguLi4AgOnTp8PU1BTt27dHSkoKAgICMG/ePOXfm5mZYfPmzfjyyy/h5+cHW1tb9OjRA+PGjVPalC5dGmFhYRg8eDBmzpyJ4sWLY/HixSw3QERERFryddK0Zs2aN75uZWWFuXPnYu7cua9tU7JkSWzZsuWNcRo2bIiTJ0/m6hiJiIjovyFfP54jIiIiyi+YNBERERHpIF8/niMi+reahv5P1Xg7Pvsm275myxaoFn97z36qxSIiw+KdJiIiIiId8E4TEVE+E7BslarxtvXsqmo8ov8q3mkiIiIi0gGTJiIiIiIdMGkiIiIi0gHHNBER/QcFLgtTNV5Yz0BV4xHlR7zTRERERKQDJk1EREREOmDSRERERKQDJk1EREREOmDSRERERKQDJk1EREREOmDSRERERKQDJk1EREREOmDSRERERKQDJk1EREREOmDSRERERKQDJk1EREREOmDSRERERKQDJk1EREREOmDSRERERKQDJk1EREREOmDSRERERKQDJk1EREREOmDSRERERKQDJk1EREREOmDSRERERKQDJk1EREREOmDSRERERKQDJk1EREREOmDSRERERKQDJk1EREREOmDSRERERKQDJk1EREREOmDSRERERKQDJk1EREREOjDP6wPIb+bOnYuffvoJ8fHxqFKlCmbPno3atWvn9WEREb112oQeUzXexs9qqRqP6N/inaYsfvvtNwQHB2P06NE4ceIEqlSpgoCAANy7dy+vD42IiIjyGO80ZTFt2jT07dsXPXv2BAAsWLAAYWFhWLp0KUaMGJHHR0dERK8as/yWuvF6FFM1Hr1bmDT9f6mpqYiKisLIkSOVfaampvD390dkZGS29ikpKUhJSVG+fvLkCQAgMTERAPD0xXPVjs32/8fM6umLVNXiA/933FklvUgzeB/JRujj+XPD9/FCxT5yip9ihHNIe/7SCH2k5NBS7T5eGKEP9X6+c46frFr81/Xx0ih9PDN4HynPnxq8j43L7qoWv01PN9VikTo033MR+efGQiIicuvWLQEghw4d0to/dOhQqV27drb2o0ePFgDcuHHjxo0bt3dgu3nz5j/mCrzTlEsjR45EcHCw8nVGRgYePXoEZ2dnmJiY6BQjMTERHh4euHnzJhwcHFQ/RkPHZx/5q4934RzYR/6Jzz7yVx/vwjnk1z5EBE+fPoW7u/s/tmXS9P8VLlwYZmZmuHtX+zbs3bt3UaRIkWztLS0tYWlpqbXPyckpV307ODgY7M1jjPjsI3/18S6cA/vIP/HZR/7q4104h/zYh6Ojo07tOHvu/7OwsECNGjUQERGh7MvIyEBERAT8/Pzy8MiIiIgoP+CdpiyCg4PRo0cP1KxZE7Vr18aMGTOQlJSkzKYjIiKi/y4mTVl07NgR9+/fR0hICOLj41G1alWEh4fDzc0wsx0sLS0xevTobI/53pb47CN/9fEunAP7yD/x2Uf+6uNdOId3oQ8TEV3m2BERERH9t3FMExEREZEOmDQRERER6YBJExEREZEOmDQRERER6YBJE70VEhIS3ok+3kZpaWnYuXMnfv75Zzx9mrnO1+3bt/Hsmbrrir3tnj9/juTk/1vP7caNG5gxYwa2b99usD75ntVNeno6oqOj8fjxY4P1kZiYiI0bN+L8+fMG6+Nd8NZfJ3VWbqP8IDQ0VDZv3qx8PXToUHF0dBQ/Pz+5fv26wfp98uSJbNiwQc6dO6dKvEmTJsmaNWuUrzt06CCmpqbi7u4u0dHRb00fW7dulf379ytfz5kzR6pUqSKdO3eWR48e6R0/Li5Oa62kI0eOyMCBA+Xnn3/WO7bG9evXpWLFimJjYyNmZmZy9epVERH5+uuv5YsvvlClD2O8b41xrZo2bSrz588XEZHHjx+Lm5ubFC9eXKysrGTevHl6xzfGe9ZYkpOTJSkpSfn6+vXrMn36dNm2bZsq8QcOHCiLFy8WEZG0tDSpV6+emJiYiK2trezevVuVPjp06CCzZ88WkczzKVeunBQoUEDMzc1l/fr1esfPq89zkcz3r1oMfZ1EjHutmDQZUVRUlMTExChfb9y4UVq3bi0jR46UlJQUveOXL19eIiIiRETk0KFDYmNjIz///LO0atVK2rZtq3d8DUP/EJQqVUoOHjwoIiLbt28XJycn2bZtm/Tu3VuaNm2qd3xj9eHt7S1hYWEiIhITEyOWlpYycuRIqVu3rnz22Wd6x69fv76sWLFCRETu3LkjDg4O4ufnJ4ULF5axY8fqHV9EpHXr1vLpp59KSkqK2NnZKUnT7t27xdPTU5U+jPG+Nca1cnZ2ljNnzoiIyKJFi8TX11fS09Nl7dq1UrFiRb3jG+M9K/JuJJjFihWTY8eOiYjIhg0bxN3dXS5evCijRo2S9957T+/4IiJubm5Ksrpq1Srx9PSUpKQkmTdvnlStWlXv+Mb6PDd0Mm7o6yRivGslwqTJqGrWrKkkFVevXhUrKyvp3LmzeHp6ysCBA/WOb21tLTdu3BARkWHDhkm3bt1EROTMmTNSuHBhveNrGPqHwMrKSuLi4kQk847G559/LiIiFy9eFCcnJ73jG6sPW1tbiY2NFRGR0aNHS/v27UUkM3l2c3PTO76Tk5NcuHBBRERmzpyp/DLYtm2blC5dWu/4IiKFChVS+siaNMXGxoq1tbUqfRjjfWuMa5X1PDp06CBjxowRkcwkRI1rZYz3rMi7kWBaWloqiV/fvn2Vz9dr166Jvb293vFFtL8f3bp1k+HDh4uIyI0bN8TW1lbv+Mb6PDd0Mm7o6yRivGslIsIxTUZ06dIlVK1aFQCwbt06NGjQAKtXr0ZoaCh+//13vePb2dnh4cOHAIDt27ejadOmAAArKys8f/5c7/gaT548QaFChQAA4eHhaN++PWxsbBAYGIjLly/rHb9gwYK4efOmEt/f3x9A5krU6enpesc3Vh8WFhbKGJedO3eiWbNmAIBChQohMTFR7/gvX75UKt7u3LkTH330EQCgYsWKuHPnjt7xgcz1F3O6Hn///Tfs7e1V6cMY71tjXCtPT09s3LgRN2/exLZt25Tv971791RZmNQY71kAOHPmDGrXrg0AWLt2Lby9vXHo0CGsWrUKoaGhqvSRnJysvH+2b9+Odu3awdTUFHXr1sWNGzf0ju/m5oZz584hPT0d4eHhynsqOTkZZmZmescHAA8PD0RGRiIpKQnh4eHK9/vx48ewsrLSO76xPs/j4+Ph4eEBANi8eTM++eQTNGvWDMOGDcOxY8f0jm/o6wQY71oBHAhuVCKCjIwMAJkf3C1btgSQ+aZ68OCB3vGbNm2KPn36oE+fPrh06ZIS/+zZsyhVqpTe8TUM/UPQrl07dOnSBU2bNsXDhw/RokULAMDJkyfh6empd3xj9VG/fn0EBwdj/PjxOHr0KAIDAwFkJs/FixfXO37lypWxYMEC7N+/Hzt27EDz5s0BZA7SdnZ21js+ADRr1gwzZsxQvjYxMcGzZ88wevRo5f2lL2O8b41xrUJCQvDNN9+gVKlSqF27trLQ9/bt21GtWjW94xvjPQu8Gwlmz5498cknn8Db2xsmJiZKgnnkyBFUrFhR7/gAMGjQIHTt2hXFixeHu7s7GjZsCADYt28ffHx89I5vrM9zQyfjhr5OgPGuFQAOBDemRo0aSffu3WXFihVSoEABuXz5soiI7NmzR0qWLKl3/MePH0tQUJB89NFHsnXrVmV/SEiITJgwQe/4GnPnzhVzc3NxcnKSKlWqSHp6uoiIzJo1Sxo2bKh3/NTUVPnpp5/k66+/lhMnTij7p02bJosWLdI7vrH6uHHjhgQGBoqvr68yKFVEZNCgQTJgwAC94+/evVucnJzE1NRUevbsqewfOXKkas/x4+LixMvLSypVqiTm5uZSt25dcXZ2lgoVKsjdu3dV6cMY71tjXCuRzMdZJ06cUH4mRDLHBJ0/f17v2KmpqfK///3PoO9ZEZHatWvL8OHDZd++fWJlZaU8io+MjJRixYqp0se6deukQIECYmpqqvUI6Mcff5TmzZur1se0adO0xmeFhobKxo0bVYkvInL8+HH5448/5OnTp8q+zZs3K4+79GGsz/OgoCApWbKk+Pv7i7Ozs3Iuv/76q1SrVk2VPl53nQ4cOKBKfGNdKxGOaTKqU6dOibe3tzg4OCjjHURE+vfvL507d9Y7/o0bN7Q+rDUyMjKU571qMeSHxd69e+Xly5fZ9r98+VL27t2rd3xj9WEMaWlp2WbixcbGqpbQiGRek19++UWGDh0qX375pSxatEiSk5NVi29omvd/YmKiwa+ViMjly5clPDxcuUYZGRl6x0xNTZWePXvKtWvX9I71T96FBDOr58+fqxpPY+zYsVozADWSk5NVG/tlDIZMxlNTU6VMmTKqzazOD5g05QPPnz+X1NRUveOYmprm+AvgwYMHYmpqqnd8DUN/WBjjPN6VPl6+fCk7duyQBQsWSGJiooiI3Lp1SyuZzS1jfuDt27dPunbtKn5+fvL333+LiMiKFSu0SjbkVnp6uhQoUEAuXbqkd6w3efDggTRu3FhMTEzE1NRUGTTfs2dPCQ4O1ju+g4ODwZMmYySYqampYmZmJqdPn9Y71uukpaXJuHHjxN3dXatUxqhRo7Tu+urDGD/fhvy5EDFOMu7u7v7Wf4ZkxTFNRnTs2DEcOXIk2/5Tp07h1KlTescXkRz3P3v2TLUBdwAwduzYHAsbJicnY+zYsXrHFxGYmJhk2//w4UPY2trqHd+YfeQkJSUFFhYWese/ceMGfHx80Lp1awQFBeH+/fsAgMmTJ+Obb77RO36BAgXw4sULveP8k99//x0BAQGwtrbGiRMnkJKSAiBzwsGPP/6od3xTU1OUK1dOGShqKIMHD0aBAgUQFxcHGxsbZX/Hjh0RHh6ud/w2bdpg48aNesd5ExGBp6cn4uPjUbBgQa3XSpUqBVdXV737KFCgAEqUKKHq4PVX/fDDDwgNDcWUKVO0fta8vb2xePFiVfp43WfIqVOnlIky+jD0zwWQ+b1QYxLSmwQFBWHy5MlIS0szWB/GuFYa5qpGozcKCgrCsGHDUKdOHa39t27dwuTJk3NMqHQRHBwMIHOQbkhIiNYHdnp6Oo4cOaLM2lODoT4s2rVrByDzPD777DNlMCqQeR4xMTF47733ch3fWH3MmjVL6WPx4sWws7PT6mPfvn2qDEYdOHAgatasiVOnTmkNZm7bti369u2rd3zg/z7wFi9eDHNzw3xcTJgwAQsWLED37t2xZs0aZX+9evUwYcIEVfqYNGkShg4divnz58Pb21uVmK/avn07tm3blm2Qf7ly5VSZEVauXDmMGzcOBw8eRI0aNbIl919//bXefWRNMMuVK6d3vNf57rvv8O2332LlypWqJBivWrFiBRYuXIgmTZqgX79+yv4qVargwoULesUuWLAgTExMYGJigvLly2t9Fqanp+PZs2dafeaWMX4ugP9LxgcPHqxazKyOHTuGiIgIbN++HT4+Ptnet3/88YfefRjrWgFMmozq3LlzqF69erb91apVw7lz53Id9+TJkwAyk5nTp09r/WVlYWGBKlWqqHLnwdAfFo6OjgAyz8Pe3h7W1tbKaxYWFqhbt67eyYAx+pg+fbrSx4IFC7SmOFtYWKBUqVJYsGCBXn0AwP79+3Ho0KFsd61KlSqFW7du6R0fMM4H3sWLF9GgQYNs+x0dHVVbJqR79+5ITk5GlSpVYGFhofV9B4BHjx7p3UdSUpLWHyxZY2dNznNryZIlcHJyQlRUFKKiorReMzExUSVpAoyTYM6ZMwdXrlyBu7s7SpYsme19deLECb3i37p1K8cZhRkZGXj58qVesWfMmAERQa9evTB27FjlMwX4v59vzcxJfRjj5wIwfDLu5OSE9u3b6xXjnxjrWgFMmozK0tISd+/eRZkyZbT237lzR6+/4nfv3g0gc5rtzJkzVZmymxNDf1gsW7YMQOYv/W+++Ua1x2TG7iM2NhYA0KhRI/zxxx/ZHnOoxRg1lIzxgVekSBFcuXIl29TgAwcOZPtZya2sZRMM5f3338eKFSswfvx4AJmJTEZGBqZMmYJGjRrpHV/zvjI0YySYbdq00TvGm3h5eWH//v0oWbKk1v7169frXf6hR48eAIDSpUvjvffeQ4ECBfSK9zrG+LkADJ+Maz5zDclY1woASw4YU6dOneSDDz6QhIQEZd/jx4/lgw8+kA4dOqjWjyFm72S1Z8+eHGeeqcmQA5yN2YeISEpKily4cEH1a/bJJ59I3759RSSzWve1a9fk6dOn0rhxY1WWaTGWH3/8Uby8vOTw4cNib28v+/fvl19++UVcXFxk1qxZeX14Ojt9+rS4urpK8+bNxcLCQj7++GOpVKmSuLm5yZUrV1Trx1DvJ43Q0NA3bm+DjRs3iqOjo0yaNElsbGzkp59+kj59+oiFhYVs375dtX7S09Pl4sWLsn//ftm7d6/Wpq935edCxPCftca8VkyajOjvv/+WMmXKiKOjozRs2FAaNmwoTk5OUqFCBaXMvD4ePnxo0Nk7WV25ckW+++476dSpkzKDZMuWLcrSCPowxiKxxugjOTlZevXqJWZmZlp99O/fXyZOnKh3/Js3bxq8hpLGvXv3ZP/+/bJ//365d++eqrEzMjJkwoQJYmtrKyYmJmJiYiJWVlYyatQoVfsx5HtWIyEhQSZMmCAdOnSQFi1ayHfffSe3b99WJXZSUpJB30/G9vjxY1m0aJGMGDFCHj58KCKZSwxpZj7pa9++feLv7y8uLi5ibW0t9erVU21BYJHMulWlS5cWU1NT5X2r2dSYPWesnwsNQyXjxvisNea1YtJkZM+ePZOff/5ZvvrqKxkyZIgsX75clXIDIpnr+gQEBMjNmze11gkLDw8XLy8vVfoQybzTZG1tLf7+/mJhYaH0M3HiRGV9NX0YY5FYY/Tx9ddfS40aNWT//v1ia2ur9LFx40bVFqp8+fKlrFy50mA1lJ49eyY9e/YUMzMz5cPI3NxcevXqlWPZCX2kpKTI2bNn5ciRI6rf7TP0e9YYjPF+0jB0gnnq1ClxcXERT09PMTc3V87lu+++U9YNy++qVKkiHTp0kHPnzsnjx48lISFBa1OLIX8uRAyfjBvjs1bD0NdKhEnTOyXrQrpZ35xXr15VbWFEEZG6devK1KlTs/Vz5MgRVSoGG2ORWGP0UaJECYmMjMzWx+XLl1VbNNTQPv/8cylTpoxs2bJFnjx5Ik+ePJGwsDApW7as9OvXT5U+EhISlDsNWT18+FCePHmiSh+Ges+eOnVKKc546tSpN276Mtb7yRgJZpMmTWTo0KEion0uBw8eVGV1BGOwsbFRVnV4mxk6GTfGZ60xcSC4gf35559o0aIFChQogD///PONbTVrPOWWoWfvaJw+fRqrV6/Ott/V1VWVNfSMMcDZGH3cv38/x7o2SUlJOZZs0IUx309AZv2T9evXK+tFAUDLli1hbW2NTz75BPPnz9e7j06dOqFVq1b46quvtPavXbsWf/75J7Zs2aJ3H4Z6z1atWhXx8fFwdXVF1apVYWJikmN9LhMTE73rEhni/ZSTESNGYMKECQgODtb6WWjcuDHmzJmjSh/Hjh3Dzz//nG1/sWLFEB8fn6uYhQoVwqVLl1C4cGFlpu/rqDGYvU6dOrhy5Yqq6/61a9cOoaGhcHBwUMqjvI4aM1cBYOPGjfjtt99Qt25drWtWuXJlXL16Ve/4hvqszYtrBXD2nMG1adNG+VB904wRNT5UDT17R8PJyQl37txB6dKltfafPHkSxYoV0zu+ZpHYhQsXAjDMIrHG6KNmzZoICwvDgAEDlD4AYPHixbmeZWjM9xOQWbDUzc0t235XV1ckJyfrHR/IXER12rRp2fY3bNgQ3333nSp9GOo9GxsbCxcXF+X/DckQ76ecGPqPIiBzJnFiYmK2/ZcuXVKu5781ffp05ZewMWZLDhgwAEOGDEF8fDx8fHyyzaLz9fX91zEdHR2V72vW2cmGZOhk3FCftXlxrQBw9ty7xFizd4YMGSL169eXO3fuiL29vVy+fFkOHDggZcqU0VpTL7eMMcDZGH3s379f7OzspF+/fmJlZSUDBw6Upk2biq2trRw/flyVPgytcePG0qFDB631u5KTk6VDhw7SpEkTVfqwsbGRmJiYbPtjYmJUu31v6PesMZajMNb7qVixYsoaklkfp/zxxx9SpkwZVfro3bu3tGnTRlJTU5WZnzdu3JBq1arJwIED9Yr98uVLWb58ucTHx6tyrK/z6uBvzQBwNQaCa5azMcYaj++//74yw0zzvRDJHNMUEBCgd3xDf9Ya81qJcEzTO8eQs3c0UlJSpE+fPmJubi4mJibKauWffvqppKWlqdKHoQc4G6uPK1euSJ8+faRWrVpSqVIl6dq1a44Jwr+VmpoqjRs3Nvh6ajExMeLu7i7Ozs7SuHFjady4sTg7O0uxYsVUGxTcsGFD6d+/f7b9X331ldSvX1+VPozxnjXG2nCGej9lZegEUyTzc8rf31+cnJzEzMxMPDw8pECBAtKgQQN59uyZ3vGtra3l+vXrKhzp612/fv2Nmz6MtV6iiHGScUN+1hrzWomImIi8ZoEsMoiIiAhERETg3r17yMjI0Hpt6dKleXRUuRMXF4czZ87g2bNnqFatmkGXXaDsXFxccOjQIYNf9+TkZKxatUpZfqJSpUro2rVrtqKHuXXw4EH4+/ujVq1aaNKkCYDMn5Njx45h+/bteP/991XpBzDse7ZHjx6oWrWqwZajMJbU1FQEBQUhNDQU6enpMDc3R3p6Orp06YLQ0FCtCvf6OnjwIE6dOoVnz56hevXq8Pf3VyVuw4YNMWjQIIMX0TSkypUrY8mSJahbt67B+7p69SomTZqk9b0YPnw4fHx89I794sULVdc+zYkxrxWTJiMaO3Ysxo0bh5o1a6Jo0aLZnhdv2LDhX8eMiYnRuW1unrEbyz8Nas4qtwOcjdFHTuM0Xkffyu2DBw+GpaUlJk2apFecN9m3bx/ee++9bBXr09LScOjQoRyXLsiN6Oho/PTTT4iOjoa1tTV8fX0xcuTItyoRnzBhAqZOnYomTZqothyFMd9PrzJkgrlixQp07Ngx2wSV1NRUrFmzBt27d9cr/tq1azFy5EgMHjw4x++FWp+FK1euxIIFCxAbG4vIyEiULFkSM2bMQOnSpdG6dWu9Yv/111+YMmWKQZezMQYHBwe0bdsWn376KZo0aQJTU1PV+zDmtWLSZERFixbFlClT0K1bN9VimpqavnbGTlb6DgzWLAqsi5wG9f4TXX+Q9DkPY/XxT4Mn5f8veKzvQO0BAwZgxYoVKFeuXI6/GHLzfXiVmZkZ7ty5k22g6MOHD+Hq6mrQler1Zej37KteHWSelYmJCa5du/avY+ryftLIz9+LVxn6fZXTz7rmc1KtSRLz589HSEgIBg0ahB9++AFnzpxBmTJlEBoaiuXLlyvLW+VWwYIFkZycjLS0NIMtZwMA/v7++PTTT9GuXTuDLMG1YcMGrF69GmFhYXB0dETHjh3x6aefombNmqr1YaxrBXD2nFGlpqbivffeUzWmsdaj0iwK/E9yO9vi1UeVhmCMPvT9oPw3zpw5oywAfenSJa3X1JqCrvkl86qHDx/qtW5fYmKi8gH9T3dTcvtB/up79sSJE0hLS0OFChUAZF4zMzMz1KhRI1fxX2WIn8Ws76fr169jxIgR+Oyzz5TZcpGRkVi+fDkmTpyoVz/GTjBf9776+++/VZkJZYzPxdmzZ2PRokVo06aN1t3emjVrqrJAujFmAAKZj7ZGjhyJr776CoGBgfj000/RsmVL1dbUa9u2Ldq2bYunT59i/fr1+PXXX1G3bl2UKVMGn376KUJCQvTuw1jXCuCdJqMaPnw47Ozs8P333+f1oRC9kabuyaZNm9C8eXOtxyjp6emIiYlBhQoVEB4enqv4We80vO5uipp3BaZNm4Y9e/Zg+fLlygLKjx8/Rs+ePfH+++9jyJAheveRleZjVc36SU2aNEGfPn3QuXNnrf2rV6/GwoULsWfPnlzHfrUkyZsSzF27duW6n2rVqsHExASnTp1C5cqVtR77pqenIzY2Fs2bN8fatWtz3YexWFtb48KFCyhZsiTs7e1x6tQplClTBpcvX4avry+eP3+e14eos4yMDOzcuROrV6/Ghg0bYGZmho8//hhdu3bFBx98oHp/586dQ9euXRETE/NW3SEFeKfJqF68eIGFCxdi586d8PX1zZbJq/EX3MWLFzF79mycP38eQOag3QEDBigffmq7efMmAMDDw0PVuBEREZg+fbrWeQwaNEi1gaLG6uPx48dYsmSJ0oeXlxd69uyJQoUKqdYHkPkXOgAUL15clXiav/ZFBPb29lq3uy0sLFC3bl307ds31/F37dqlXINdu3apmlzkZOrUqdi+fbuSMAGZt/QnTJiAZs2aqZY0rVixAj/99BMuX74MAChfvjyGDh2qyiP5yMhILFiwINv+mjVrok+fPnrFznpHa9q0abC3t39tgqkPzcDs6OhoBAQEwM7OTnnNwsICpUqVQvv27fXqQ+Pq1auYMWOG1s/ewIEDUbZsWVXily5dGtHR0ShZsqTW/vDwcFSqVEmVPtLT07Fx40blHCpXroyPPvpI1cH4QObjzGbNmqFZs2ZYsGAB/vrrL/zwww9YsmSJaknNixcv8Oeff2L16tUIDw+Hm5sbhg4dqkpswHjXiiUHjEizSG9OW6NGjfSOv379eqUOxuDBg2Xw4MHi5+cn5ubmsn79ehXOINPLly9l1KhR4uDgIKampmJqaioODg7y3XffqbKO3ty5c8Xc3Fw6deokM2fOlJkzZ0rnzp2lQIECMmfOHBXOwDh97N27VxwcHMTDw0Patm0rbdu2lRIlSoiDg4Mqq6Cnp6fL2LFjtb4Pjo6OMm7cOGVpD32NGTNGlSngec3Ozk52796dbf+uXbvEzs5OlT6mTp0qNjY2MmzYMNm0aZNs2rRJhg4dKjY2NjJt2jS945cvX15ZeiSroUOHSvny5fWOr+Hu7p5jOYnTp09L0aJFVekjNDRUq/aX2sLDw8XCwkJq166tfBbWrl1bLC0tZfv27ar0sWjRIilWrJisWbNGbG1t5ddff1UWjf3111/1jn/58mUpV66c2NjYSLVq1aRatWpiY2MjFSpUULXuXlZ37tyR6dOnS40aNcTExETq1Kmjd8zw8HDp3r27ODg4SKFCheTzzz9X5fMvK2NeKyZN75AyZcrI999/n21/SEiIakXpRET69esnrq6usmDBAmVdrQULFkiRIkVUWY+sWLFiMnv27Gz758yZI+7u7nrHN1Yf3t7e0rdvX606QGlpafL555+Lt7e33vFHjBghLi4uMm/ePOX7MHfuXHFxcZFvv/1W7/gimYUssy7Me/36dZk+fbqqq8V7enrK6NGjDVpnpVu3blKqVCn5/fff5ebNm3Lz5k1Zv369lC5dWrp3765KH6VKlZLly5dn2x8aGiqlSpXSO35YWJhYWVmJt7e39O7dW3r37i0+Pj5iZWUlYWFhesfXMEaCaWhVq1aV4cOHZ9s/fPhwqVatmmr9/PLLL+Lp6akUtyxWrJgsXrxYldgtWrSQ5s2ba63L+ODBA2nevLm0bNlSlT5ERJ48eSJLly4Vf39/MTc3l/Lly8vYsWNVSzasra2lQ4cOsnHjRtUWp3+Vsa6VCJOmPKP54FaTtbV1jgtIXrp0SdWFER0cHGTLli3Z9oeFhYmDg4Pe8W1tbV97HmotPGyMPqysrJSFKrO6cOGCWFlZ6R2/aNGismnTpmz7N27cqFri17RpU5k/f76IiDx+/FhcXV2lePHiYmVlJfPmzVOlj2nTpknNmjXF1NRUatasKTNmzJA7d+6oElsjKSlJvvzyS7G0tFTuyllYWMiXX36p2p00S0vL176nLC0tVenj5s2b8u233yp3Lr/99luJi4tTJbaGMRJMTdXs1236srS0zDEJv3jxomrfi6ySkpJUW0lA43WV8qOjo1VdgN3KykqKFi0qgwYNkmPHjqkWVyMxMVH1mK8y1rUSYdJkVIZ+nNKiRQtZunRptv1Lly6VZs2a6R1fw8XFRc6dO5dt/7lz56Rw4cJ6x+/cubNMmTIl2/6ffvpJOnbsqHd8Y/Xx3nvvyYYNG7Lt37Bhgyq3vS0tLeXixYvZ9quVlImIODs7K49qFi1aJL6+vpKeni5r166VihUrqtKHxsWLFyUkJETKlSsn5ubm0rRp0xzv3Ojj2bNnyl05tR87Vq5cWX744Yds+8ePH6/KnUVjMUaCuWHDBtm4caOyrVu3Tr799lvV7tQUL15c1q5dm23/b7/9Jh4eHnrHN4aCBQsqy9lkdeDAASlYsKBq/Wzfvl21x/mvk5aWJuvXr5fx48fL+PHj5ffff1etEr+I8a6VCCuCG9XIkSOxZMkSjB07FvXq1QMAHDhwAGPGjEHfvn3xww8//OuYWQs23r59GyEhIfjkk0+UyqiHDx/GunXrMHbsWPTr10+V8xg3bhwuXLiAZcuWKbOqUlJS0Lt3b5QrVw6jR4/+1zFnzZql/H9iYiL+97//oV69esrU6sOHD+PgwYMYMmQIRo0alavjNkYfWYuNnj9/HsOGDcOAAQO0vh9z587FpEmT0LFjx1z1oVGnTh3UqVNH67yAzPpNx44dw+HDh/WKDwA2Nja4cOECSpQogU8++QSVK1fG6NGjcfPmTVSoUEG1RXtfdfjwYXz55Zdv1eya33//HR07doS/v7/y833w4EFERERg7dq1aNu2rSr9JCcnIy4uDqmpqVr71S5em5SUpKxyX7ZsWb1KTOhq9erV+O2337Bp0ya94owbNw7Tp0/HiBEjlDIvBw8exOTJkxEcHKzKDOa7d+/im2++UVZ4ePVXqb7v2+7du+PEiRNYsmQJateuDSBzceu+ffuiRo0aCA0N1Sv+q+7fv4+LFy8CACpUqJDrhZNfdeXKFbRs2RK3bt1SJiRdvHgRHh4eCAsLU2VgvjGvFZMmI3J3d8eCBQuyVZvetGkTvvrqK9y6detfxzRGwUbg/6aga+zcuROWlpaoUqUKAODUqVNITU1FkyZN8Mcff/zr+G8qDJhVbosEGqsPYxUbBYC9e/ciMDAQJUqU0Krbc/PmTWzZskWV5Ud8fX3Rp08ftG3bFt7e3ggPD4efnx+ioqIQGBiI+Ph4vfvI6ujRo8ovzsTERLRq1Qpr1qxRJfbx48exdu3aHBOO3LxncxIVFZVtRuaQIUNQrVo1vWPfv38fPXv2xNatW3N8/W1JLt/k2rVr8PX1xbNnz/SKIyKYMWMGpk6ditu3bwPI/PwdOnQovv76a1Vma7Zo0QJxcXHo379/jis86FsRPCEhAT169MBff/2lzLROS0vDRx99hNDQUFXqWQGZSXj//v2xYsUKpZadmZkZunfvjtmzZ8PGxkav+C1btoSIYNWqVcqM2YcPH+LTTz+FqakpwsLC9D4HY10rgEmTUVlZWSEmJgbly5fX2n/x4kVUrVo1X9f16Nmzp85tly1bZsAjyd9u3Lihc9tXpyrnxu3btzF37lytdeG++uoruLu76x0bANavX48uXbogPT0dTZo0wfbt2wEAEydOxL59+177C/zfuHTpElatWoVff/0VsbGxaNy4Mbp27Yp27dppTUnXh2ZpjoCAAGzfvh3NmjXDpUuXcPfuXbRt2/ateM927doVN27cwIwZM9CwYUNs2LABd+/eVZZvCQwMVK0vYySYr3r+/DlGjhyJrVu3Knc81PD06VMAgL29vWoxNfH279+PqlWrqhr3VVeuXNFKwj09PVWN/8UXX2Dnzp2YM2eO1hOQr7/+Gk2bNsX8+fP1im9ra4vDhw9nW8fu1KlTqFevnt4JclaGvlYAWHLAmGrXri0DBgzItr9///6qjHEhMoQ7d+7IiRMntMY9HDlyRM6fP69KfBMTE6ldu7bMmDFD4uPjVYn5Kh8fH6WUhJ2dnVy9elUyMjKkb9++EhISokofUVFRWoNRN27cKK1bt5aRI0dKSkqK3vGLFCkiR44cERERe3t7ZTzbpk2bpF69enrH1/j111+lQIEC8uGHH4qFhYV8+OGHUr58eXF0dJTPPvtMlT6cnJykYMGCyubk5CRmZmZib2+f4+SGf8sYsz4rVaokJ06cUC3eP0lLS5OTJ0/Ko0ePVI3r7Oz82tmSaoxRNeZ4Iw1DXSsRjmkyKmM8TklKSsLevXtz/AsxNwuG5pW///4bf/75Z47noUYRUGP1AWRWv82pj9wuCqwRHh4OOzs71K9fHwAwd+5cLFq0CF5eXpg7d65WIcf87PLlywZfmNfW1hZnz55FqVKl4OzsjD179sDHxwfnz59H48aNcefOHb37qFWrFkaMGIH27dvj2rVr8PLyQrt27XDs2DEEBgbqvdSDg4MDYmJiUKpUKZQsWRKrV69GvXr1EBsbi8qVK6s2vszX1xdffPEFgoKClErXpUuXxhdffIGiRYti7NixevexfPlyra9NTU3h4uKCOnXqqPK+bdasGdq1a4d+/fohISEBFSpUgIWFBR48eIBp06bhyy+/1LuP7du3Y+rUqfj5559RqlQpveO9atCgQfDx8UHv3r2Rnp6ODz74AIcOHYKNjQ02b96Mhg0bqtKPjY0NoqKishXkPHv2LGrXro2kpCS94htjvJGxrhUA3mkytlu3bsm3334r7dq1k3bt2sl3330nt27dUiX2iRMnpEiRIuLg4CBmZmbi4uIiJiYmYmtrK6VLl1alD41169ZJhw4dpE6dOkoxMc2mr507d4qNjY14e3uLubm5VK1aVZycnMTR0VGVIqDG6uPq1avi6+urTK/W1HJRa1q1t7e3Up8nJiZGLCwsZOTIkVK3bl3V7ggYy+PHj2XRokUyYsQIpdZKVFSU/P3336rEL1asmHIXyMfHR1avXi0iIocOHVKlTIZIZikOTW2bSZMmKTNWDxw4IMWLF9c7fs2aNSU8PFxERFq1aiXdunWTv//+W4YNG6ZqHTYbGxuJjY0VEZFChQop1+3cuXNSpEgR1foxJGPM+nRychILCwsxNTUVOzs7rTtnatxBKVasmFICYMOGDVK0aFG5ePGijBo1St577z2942s0btxYOnTooFVsNDk5WTp06CBNmjTRO/7jx4/lo48+EhMTE7GwsFCuWZs2bSQhIUHv+CLGu1YiLDlgNKmpqdK4cWODFvD74IMPpG/fvpKenq48goiLi5MGDRrI77//rlo/M2fOFDs7O+nfv79YWFjIF198If7+/uLo6KhKUcVatWopj0w05/H06VP56KOPVKsNZIw+PvzwQ2ndurXcv39f7Ozs5Ny5c7J//36pXbu27Nu3T+/4tra2yi+30aNHS/v27UUkM9lwc3PTO76xnDp1SgoXLiyenp5ibm4uV69eFRGR7777Trp166ZKH507d5apU6eKiMi4cePExcVF+vTpIyVLlpS2bduq0oe9vb3y8+3v7y8zZswQEZEbN26oUgJi5cqVsmzZMhEROX78uBQuXFhMTU3FyspK1qxZo3d8DWMkmCIijx49kp9++kl69eolvXr1kv/9739axQn1YW1tLTdu3BARkQ4dOsiYMWNERCQuLk61mnWhoaFv3PRlaWmp1PLr27evDBw4UERErl27Jvb29nrH14iJiRF3d3dxdnaWxo0bS+PGjcXZ2fm1leFz6/Lly/Lnn3/Kn3/+mWM9M30Y61qJMGkyqsKFCxs0aXJ0dFSKKTo6Oiq1lA4fPiwVKlRQrZ8KFSooH6SahENE5Pvvv5egoCC949vZ2Sl/sTs5OSk/uNHR0VKyZEm94xurD2dnZzl16pSIZN6F0HxvIiIipGrVqnrHL1iwoJw9e1ZEROrVqyc///yziIjExsaqWszU0Bo3bqwsD5L1/XTw4EHVvhcPHz5U7uimp6fLxIkTpVWrVhIcHKzauIdGjRpJ9+7dZcWKFVKgQAHlF8OePXtUO4+skpKSJCoqSu7fv69qXGMkmIZeYsjHx0dmzpwpcXFx4uDgIIcOHRKRzGTzbfmDokSJErJt2zZJS0sTDw8P2bx5s4iInDlzRpycnFTtKykpSRYuXCjBwcESHBwsixYtkuTkZFX7MCRjXismTUY0aNCgHEv7qyVrUlauXDnlVv758+fFxsZGtX6sra3l+vXrIpJZ6DI6OlpEMisfFypUSO/4bm5uSsJXqVIlZWComtVdjdGHk5OTXLt2TUQyl7jZtWuXiIhcuXJFlaSmVatWEhAQIOPGjZMCBQooj7K2bdsm5cqV0zu+sWR9rJU1abp+/bpBqjcbyqlTp8Tb21scHByUOxsimRM9OnfurFo/KSkpcuHCBXn58qVqMbMyRoJp6CWG1q1bJwUKFBBTU1Np2rSpsv/HH3+U5s2b6x1f49WijX/88YdqRRtHjx4tjo6OUrFiRSlRooS8ePFCRESWLFkidevWVaUPkcxrsmTJkmz7lyxZIpMmTdI7frt27XKMM3nyZPn444/1ji9ivGslwqTJqPr37y8ODg5So0YN+fzzz5WFJDWbvpo2bSqrVq0SEZE+ffpI7dq15ZdffpGAgACpXbu23vE1SpcurcwaqVGjhixYsEBEMn9Zq/Esv3Xr1rJw4UIRERkyZIh4enrKhAkTpHr16qo8YzdWH/Xr11cqgnfu3FmaN28uBw4ckO7du0vlypX1jn/jxg0JDAwUX19frSrKgwYNynGWZm6tWLFC3nvvPSlatKiSLE+fPl02btyoSnwXFxfl/ZQ1adq+fbsqY4E0rly5It9995106tRJWfJiy5Ytqj6CyMnz589VWXMrKSlJevXqJWZmZmJmZqZcp/79+8vEiRP1jm9Mhl5iSMTwsz6NsUjsunXrZNq0aVpLboWGhqr2syciUrJkyRxntx0+fFiVNRMLFy6c4xInMTEx4urqqnd8DWNcKxEmTUbVsGHDN276OnbsmHI34+7duxIQECD29vZSvXp1OXnypN7xNXr37q38JT1nzhyxtrYWf39/cXJykl69eukd/+rVq8pjrWfPnskXX3whPj4+0q5dO+WX9tvQR3h4uDKW7PLly1KhQgUxMTGRwoULy86dO1Xpw9DmzZsnhQsXlgkTJoi1tbXyi3rZsmWqvGdFMt9Pbdq0kdTUVLGzs5Nr167JjRs3pFq1asrYBH3t2bNHeZ9aWFgo5zFx4kRlLJi+4uLitD6wjxw5IgMHDlQem+rr66+/lho1asj+/fvF1tZWOYeNGzeq8rg3K0MnmIZeYuhVT548kQ0bNuS4/FNuGXORWI3Hjx+rHtPS0lK5I57V1atXVbnT+7oE+fz586olyDkxxLUSYdJEuXDt2jWtujO//vqrDBgwQGbNmmXQMVvvgocPH0pGRoYqsQxdF0gk89Gl5pdb1rtAp0+fFmdnZ1X6SEhIUJJuMzMz8fDwkAIFCkiDBg1UW+usbt26yjidrOdx5MgRKVasmCp91K9fX1asWCEimXc5HBwcxM/PTwoXLixjx47VO36JEiUkMjJSRLTP4fLly6oOdjVGgrlmzRopUaKE/PTTT7J//37Zv3+//PTTT1KqVClZs2aNsj6g5g+bf6tDhw4ye/ZsEcmcCVauXDkpUKCAmJuby/r161U5B0MvEjtp0iStAf4dOnQQU1NTKVasWK6vS048PT1l5cqV2favWLFClVnXtWrVyvH9P3r0aKlevbre8UWMd61EmDQZVc+ePXNc8fnZs2fSs2dPveM3atQox+z6yZMnqk2jFxExNTXNcUXvBw8eqDKVvnTp0vLgwYNs+x8/fqxa6QRj9GHo73fNmjWVXwBXr14VKysr6dy5s3h6eqp2h8bKykq585b1F/WlS5dU/ytx//79MnfuXJk8ebLs2LFD1di2trbKX9NZzyM2Nla1cVNOTk7KX9QzZ85Upjpv27ZNlfdU1jt9Wc8hOjpa1VltxkgwNeU3XrdpSnTk9vPEzc1NGWu5atUq8fT0lKSkJJk3b55qd+UMXbSxVKlSSvzt27eLk5OTbNu2TXr37q01TktfkydPFmdnZ1m6dKlcv35drl+/LkuWLBFnZ2f58ccf9Y7/559/irm5uXTv3l2ZWditWzcxNzfP8W5jbhjrWokwaTKq1yUb9+/fFzMzM73jm5iY5Bj/7t27Ym5urnf8f+rn+vXrqgw4f138+Ph4sbCw0Du+sfow9Pfb0HWBRDLvNGnGBGT9BTpr1ixVanIZS7FixZQP1azn8ccff6hW4yhrCYhWrVopg1/VKjnw/vvvy6xZs0RElMeYIpljmgICAvSOr2GMBFPzy1mXLTesrKwkLi5ORES6deumTMC5ceOGahM9unXrJpUrV5bDhw9LRkaGZGRkSGRkpHh7e0uPHj30jp/1HL7++mv5/PPPRUTk4sWLqs4Iy8jIkGHDhomVlZVSQ87GxkaVu6Mamzdvlvfee09sbGzE2dlZGjVqJHv27FEtvrGulYiIuXplMul1EhMTIZkJKp4+fQorKyvltfT0dGzZsgWurq65jh8TE6P8/7lz57QWUU1PT0d4eDiKFSuW6/gawcHBADIXmw0JCdFayDE9PR1HjhzRax2mP//8U/n/bdu2aS2ymJ6ejoiICL0r7xqjD0N/vzVERFlgc+fOnfjwww8BAB4eHnjw4IHe8YHM73lQUBBevHgBEcHRo0fx66+/YuLEiVi8eHGu486aNUvntmpUsu/UqROGDx+OdevWwcTEBBkZGTh48CC++eYbdO/eXe/4AFC5cmUsWLAAgYGB2LFjB8aPHw8gc31AZ2dnveP/+OOPaNGiBc6dO4e0tDTMnDkT586dw6FDh7B3716942s4OTnhzp072Ra4PnnypCqfI4A66y6+iYeHByIjI1GoUCGEh4criz4/fvxY6+dRH7NmzUKPHj3g5+eXbZHYmTNn6h2/YMGCuHnzJjw8PBAeHo4JEyYAyPy5V3NxZhMTE0yePBnff/89zp8/D2tra5QrVw6Wlpaq9REYGKjq2oivMta10gQlA8taBTqnzczMTCZMmKBK/JxuddvY2OQ4pfTf0gxYNzExkffee09rEHuzZs3k888/12tM06u35rNuFhYWUr58efnrr7/0Ogdj9WHI77eGseoC/fLLL+Lp6alcp2LFimnN1suNUqVKaW22trZiYmKiVFNWu5J9SkqK9OnTR8zNzcXExESZjv7pp5+qNkV89+7d4uTkJKamplqPX0eOHKlafaOrV69Knz59pFatWlKpUiXp2rVrjuNq9DFkyBCpX7++3LlzR+zt7eXy5cty4MABKVOmjFYpBX3dunVLfvvtN5k9e7bMnDlTa9PX3LlzxdzcXJycnJRq4CKZd0jVmsCgcenSJdm0aZPqRRuDgoKkZMmS4u/vL87OzvL06VMRyRxD+jbd5TUGY14rrj1nBHv37oWIoHHjxvj9999RqFAh5TULCwuULFlSr1Xpb9y4ARFBmTJlcPToUbi4uGjFd3V1hZmZmV7nkFXPnj0xc+ZMODg4qBYzq9KlS+PYsWMoXLiwQeIbug9Df781YmJi0LVrV8TFxSE4OBijR48GAAwYMAAPHz7E6tWr9e4jq+TkZDx79kyVu2RZrV69GvPmzcOSJUtQoUIFAMDFixfRt29ffPHFF+jatate8UUEN2/ehIuLCx48eIDTp0/j2bNnqFatmupr3qWnpyMxMVFr/bTr16/DxsZGr+v28uVLfPHFF/j++++z3QFSW2pqKoKCghAaGor09HSYm5sjPT0dXbp0QWhoqCqfJaGhofjiiy9gYWEBZ2dnmJiYKK+ZmJjg2rVrevdx/Phx3Lx5E02bNoWdnR0AICwsDE5OTqhXr57e8bPS/BrNeh76evnyJWbOnImbN2/is88+Q7Vq1QAA06dPh729Pfr06aNaX287Y14rJk1GdOPGDZQoUULVHyzKv/Lq+/3ixQuYmZkpjwzyu7Jly2L9+vXKB51GVFQUPv74Y8TGxuoVPyMjA1ZWVjh79qzBFwZOS0vDnj17cPXqVXTp0gX29va4ffs2HBwclF/cueXo6Ijo6GiDJk3GSjA9PDzQr18/jBw5EqampqrFfVVqaipiY2NRtmxZmJurPxplyZIlmD59Oi5fvgwAKFeuHAYNGsSE5h1muHcrZbNr1y6sX78+2/5169ZlW/Wb3n4lS5Y0eMKUkJCAxYsXY+TIkXj06BGAzHFt9+7dUyX+w4cPERQUBC8vLxQuXBiFChXS2tRw584dpKWlZdufnp6Ou3fv6h3f1NQU5cqVw8OHD/WO9SY3btyAj48PWrdujaCgINy/fx8AMHnyZHzzzTd6x2/Tpg02btyod5w3ERF4enri77//hoeHB1q2bIlPPvlE9WQzOTkZnTp1MljClJycjN69e8PGxgaVK1dGXFwcgMy7sJMmTVKlj5CQEAwcOBCtWrXCunXrsG7dOrRq1QqDBw9GSEiIKn2sXLkS9evXh7u7O27cuAEAmDFjBjZt2qRK/HeJ0a6Vqg/76I3KlSunFJ/Mas+ePVK+fPk8OCJ6mxljodsWLVpIuXLlZNKkSbJs2TLVFyUVyVzYuFq1ahIVFaXsO378uFSvXl1atWqlSh9//vmn1K9fX06fPq1KvJy0bt1aPv30U0lJSdGadbZ7927x9PTUO/748ePFyclJ2rdvLz/++KPq44A0vLy8lHpQhjJ06FCDVjE3RiHQwoULK2twZrV69WpVapgZo7Dsu8KY14qP54zIysoKFy5cyDY76/r166hUqRKeP3+eNwdGbyV/f39Ur14dU6ZMgb29PU6dOoUyZcrg0KFD6NKlC65fv653H/b29jhw4ACqVKmi/wG/xv3799GjRw+Eh4drzUIKCAhAaGioKmOoChYsiOTkZKSlpcHCwgLW1tZar2vu0unD2dkZhw4dQoUKFbS+H9evX4eXlxeSk5P1iv+mx3JqjQMCgL/++gtTpkzB/Pnz4e3trUrMV6Wnp+PDDz/E8+fP4ePjk+1R8rRp0/SKX7JkSfz222+oW7eu1vfiypUrqF69OhITE/WKD2TOMjx27Fi2u3CXLl1C7dq1kZCQoFd8Ly8v/Pjjj2jTpo3WOZw5cwYNGzZUbYasIWVkZGDv3r3Yv38/bty4geTkZLi4uKBatWrw9/eHh4eHKv0Y81qx5IARubq6IiYmJlvSdOrUKVWmJNN/y7Fjx/Dzzz9n21+sWDGtshP6qFixosGTeRcXF2zZsgWXL1/G+fPnlX7Lly+vWh8zZsxQLdbrZGRk5Di9+e+//4a9vb3e8fUd26Wr7t27Izk5GVWqVDFYgjlx4kRs27ZNGfj/6kBwfd2/fz/HZDspKUm1R+bdunXD/PnzsyV4Cxcu1HvyApD5/X51nB8AWFpaIikpSe/4hvT8+XNMnToV8+fPx6NHj1C1alW4u7vD2toaV65cwcaNG9G3b180a9YMISEhqFu3rl79GfNaMWkyos6dO+Prr7+Gvb09GjRoACBzptXAgQPRqVMn1fr5448/UK9ePbi5uSn7ZsyYgUGDBqnWh9r+zV9+as7amzZtGho0aICaNWsCyBzTMXjwYKP8ktWXpaVljtft0qVLWjMo9TFv3jyMGDECISEh8Pb2znZHQM3vRbly5Qw2ULtHjx4GiZtVs2bNMGPGDCxcuBBA5i//Z8+eYfTo0WjZsqXB+1eLMd77U6dOxdKlS/HZZ58ZJH7NmjURFhaGAQMGAPi/RGzx4sXw8/NTrZ8lS5Zg+/btyi/9I0eOIC4uDt27d1fq2gG5u3NWunRpREdHZ6tpFR4ejkqVKul34AZWvnx5+Pn5YdGiRWjatGmOk1Ju3LiB1atXo1OnTvjuu+/Qt2/fXPdn1Gul6sM+eqOUlBT55JNPlDoxBQoUEDMzM+nZs6dqa4WJZFaKNjMzk8DAQDl58qQEBQWpVuXaUP6ptpG+yyq8jo+Pj1hbW4u3t7ds3LhRPvroI3F0dMx1vKpVqyornv/Tpi9jLHR76dIlqVmzplG+F8bSsmVLuX37tupxb968KV5eXlKpUiUxNzeXunXrirOzs1SoUCHHyvD/ZW5ubgZdp3L//v1iZ2cn/fr1EysrKxk4cKA0bdpUbG1t5fjx46r08U8LsGu23C5htWjRIilWrJisWbNGbG1t5ddff5UJEyYo/5+f/ZuFkVNTU5WVDXLLmNeKY5rywKVLl3Dq1ClYW1vDx8fHINVxr1+/jtmzZ2PGjBmwsbFBWFiYcncrP/o3FY0/+OADVft+8eIFZs6ciZEjR8LOzg7Hjh1THhv8W2PHjtWKO2/ePHh5eSl/3R4+fBhnz57FV199hYkTJ+p13E+ePMHHH3+M48eP4+nTp3B3d0d8fDz8/PywZcsW2Nra6hUfAGrXrg1zc3MMHDgQbm5u2R5tqP29MIasYx7UlpaWht9++w2nTp3Cs2fPUL16dXTt2jXbI663RWBgIBYvXoyiRYuqGnfixIm4c+fOv6oM/29dvXoVkyZN0vpeDB8+HD4+PgbrU22rVq3CmDFjcPXqVQCAu7s7xo4di969e+fxkeU/xrpWTJrygNq1Q/766y/Y2tqicePGyr6MjAy0adNGqbPyyy+/ICAgQO++3naLFy+Gi4sLWrdurex7/vw5GjdujNTUVDx69Ag//PADunTpondfffr0QdGiRZXlNDRGjx6NmzdvYunSpXr3AQAHDx7U+sXg7++vSlwAsLGxwcmTJ3OdROZHhkya3jWGulZt27bFrl274OzsjMqVK2d7fPPHH3+o2t/bzlCFZY0lISEBR48exb1795SlnzTUWsZIw9DXikmTESUnJ2PAgAFKTaZLly6hTJkyGDBgAIoVK4YRI0bkKm7VqlUxbdo0raSpZ8+eOHz4MHbs2IHw8HD88ssv2LNnjxqnYRBZ18/7J76+vrnup1KlSliyZAnee+89AJmVZFu1aoWkpCSEhYVhy5YtmDp1Ko4dO5brPjQcHR1x/PjxbON0Ll++jJo1a+LJkyd692FoDRo0QEhIiKqJ2Kvi4uLg4eGR7S6W/P9CiyVKlFC1P29vb2zdulW1mTsaEydOhJubG3r16qW1f+nSpbh//z6GDx+uV/yXL1++tmDpgwcPDFLd3lBJU8+ePd/4+rJly/SKv2XLFpiZmWX7Q3Hbtm3IyMhAixYt9IoPZN5Jnj17Nnbv3p1jMnDixAm94sfGxiItLS3Hz48CBQrovUamsfz111/o2rUrnj17BgcHh2yD/tWYWGDUa6Xqwz56I0PVDrG2tpYbN24oX3/zzTdSpUoVuXfvnohkrvSs1srehvK69eBe3fQdR5P1WmVkZEinTp2kadOmkpSUJCIiV65cEWtra73PRyRz3MayZcuy7V+2bJm4urrqHX/AgAE51ueZPXu2amOa1q5dK15eXrJs2TI5fvy4nDp1SmtTg6mpaY5jfh48ePBWjZsqWbKkHDx4MNv+w4cPS6lSpfSO365dO8nIyMi2Pz4+XipXrqx3/JxUrlxZWT3+beLj4yNhYWHZ9m/dulV8fX1V6aNLly5SuHBh6devn4wePVrGjBmjtemrQYMGOdZCW7lypXzwwQd6xzeWcuXKycCBA5XPWEMw5rVi0mREJUqUUIrGZS1+d/nyZbG3t891XHd3d1m7dq2IiISEhIifn588fvxYef3QoUNStGjR3B+4EVy/fl3nTR+lSpWSuXPnyvPnz6Vnz57Stm1brUH4O3fulBIlSuh7OiIiMnHiRLGyspIBAwbIypUrZeXKldK/f3+xsbFRpbCfu7t7joNao6KipFixYnrHF5HXJq5qDgQ3MTFREvysrl+/LjY2Nqr0ISKyb98+6dq1q/j5+cnff/8tIiIrVqyQ/fv3qxLf0tJSrl27lm3/1atXxdLSUu/4NWvWlF69emntu3PnjlSsWFHat2+vd/ysNNeqbt26BrlWGvfu3ZP9+/fL/v37c3wP5JaVlZXExsZm2x8bG6vae8rBwUEOHDigSqycaBZLftXly5f1mqxibDY2NsrvOkMx5rViyQEjMlTtkE8//RSffvopgoODkZCQgK5duypTwZOSkjBq1Ci8//77uY5vDIYYDJ+T/v37o3///hg0aBDc3d1RtWpVPH/+HBYWFrh9+za++eYb1cZ+jRgxAmXKlMHMmTPxyy+/AMh8PLhs2TJ88sknesd/+PAhHB0ds+13cHBQrZibIWsDaaZkm5iY4Pvvv4eNjY3yWnp6Oo4cOYKqVauq0tfvv/+Obt26oWvXrjhx4gRSUlIAZA6m//HHH7Flyxa9+/Dw8MDBgwezFaE8ePCgKgs0b9myBQ0aNEBwcDCmTZuG27dvo1GjRqhSpQrWrFmjd3yNrNfq5MmTBrlWSUlJGDBgAFasWKE81jIzM0P37t0xe/ZsrfdCbjg6OuLatWvZHstcuXJFlQkSQGY9NDXqb72OiYkJnj59mm3/kydPcqwHll8FBATg+PHjBh1DaNRrpWoKRm/0/vvvy6xZs0RElCniIiL9+/eXgICAXMfNyMiQFStWyC+//CJ37twRb29v8fDwkObNm0uRIkXExcUlx7+68ruzZ8/K1q1bZdOmTVqbvvbt2ycHDhyQZ8+eSZMmTcTGxkYqVqwolpaWUq5cObl//74KR294lStXltmzZ2fbP2vWLKlUqVIeHNG/o5mSbWJiIu+9957WNO1mzZrJ559/rtq09KpVq8ry5ctFRPsu74kTJ8TNzU2VPiZPnizOzs6ydOlS5a7okiVLxNnZWX788UdV+oiLi5MSJUrI4MGDpVy5ctKxY0dJS0tTJbaGMa7V559/LmXKlJEtW7bIkydP5MmTJxIWFiZly5aVfv36qRLfx8dHayr75cuXxdfXV3r37q13fBGRLVu2SPPmzfW++/06H374oXTo0EHr+5uWlibt27eX5s2bG6RPQ1i8eLGUKFFCRo8eLevXr1f981zEuNeKSZMRGaN2iIhIcnKyzJ07V/r16yfjx483SE0aQ7p69ar4+vpmG+ekqRGkpoyMDAkLC5NJkybJypUrJTk5WdX4Ipn1uW7evCk3btzQ2vS1ZMkSsba2lpCQENmzZ4/s2bNHvv/+e7GxsZGFCxeqcOT/x1AJrIjIZ599Jk+ePFEl1utYW1srfzhkTQTUenQmkvleGjZsmFhZWSnvVRsbGxk7dmyOY5Fy6+LFi+Lq6ipdu3ZVNa6GMa6Vs7Oz7N69O9v+Xbt2SeHChfWOn5CQIHXr1hVzc3MpVaqUlCpVSszNzaVRo0ZaQxf0ce/ePWnYsKGYmpqKnZ2dFCxYUGvT19mzZ8XZ2VnKli0rn332mXz22WdStmxZcXFxMegaimoz5BhVDWNeK86eM7J3oXaIobVq1QpmZmZYvHgxSpcujaNHj+Lhw4cYMmQI/ve//+X7R40aly9fRq9evXDo0CGt/SICExMTVW4bz58/Hz/88ANu374NAChVqhTGjBmj2jTea9euoW3btjh9+jRMTEyg+bjQPE5W89b3lStXcPXqVTRo0ADW1tbKdVJDmTJlsHDhQvj7+2vNCFuxYgUmTZqEc+fOqdIPADx79gznz5+HtbU1ypUrB0tLy1zHKliwYI7XIDk5GZaWljAzM1P2qTELCTDOtbKxsUFUVFS2as1nz55F7dq1VVn6QkSwY8cOpSaer6+vqrXq/P39ERcXh969e+dYw0yNKvS3b9/GnDlztM6hf//+KFSokN6x3zXGulZMmijfKVy4MHbt2gVfX184Ojri6NGjqFChAnbt2oUhQ4bg5MmTeX2IOqlXrx7Mzc0xYsQIFC1aNNuHqpqL4N6/fx/W1taws7NTLSZgnAT20aNH6NChA3bv3g0TExNcvnwZZcqUQa9evVCwYEFMnTpV7z4mTpyIX375BUuXLkXTpk2xZcsW3LhxA4MHD8b333+vLLehD834iVc/pB89egRzc/NcLTmjKU+iC7WWijHGtWrSpAmcnZ2xYsUKWFlZAcisl9ajRw88evQIO3fu1LsPQ7OxsUFkZKRBF7OmfEjV+1aUjeZ5vS4bZXJyclLGe5UpU0Z27dolIuqWAzAGGxsbOX/+vMHiX7t2LccxP5cuXVJtDJuzs7NSWsDBwUEuXLggIiIRERF6lcnIqlu3bhIQECA3b97UehwUHh4uXl5eqvSRkZGhLKugeTRgZWUlo0aNUiW+iEjz5s1l7ty52fbPnz9fWrRooVo/hmaMaxUTEyPu7u7i7OwsjRs3lsaNG4uzs7O4u7vLmTNn9I5vjHIc1apVU2ZDG8LSpUuVWdFZrV27Nsfp9fnZnj175MMPP5SyZctK2bJlpVWrVrJv3z7V4hvzWjFpMrC8WlPtbVa/fn3ZsGGDiIh07txZmjdvLgcOHJDu3bsbrB6NIdSsWVP1KdpZGaM2iTESWDc3N4mOjhaR7GNo1K4vlpKSImfPnpUjR47I06dPVY1dsGDBHNfcOn/+vBQqVEiVPtLS0mT9+vUyfvx4GT9+vPzxxx+qDwTXMOS1EhFJSkqShQsXSnBwsAQHB8uiRYtUG1NojHIc27Ztk/fee092794tDx48UP2P4HLlyik/b1nt2bNHypcvr3d8Y1m5cqWYm5vLJ598IjNnzpSZM2fKJ598IgUKFJBVq1ap0ocxrxVLDhjY7t278/oQ3jqjRo1SxjSMGzcOH374Id5//304Ozvjt99+y+Oj093kyZMxbNgw/Pjjj/Dx8clWzTk3j2uyOnnyJOrVq5dtf926ddG/f3+9Ymt4e3vj1KlTKF26NOrUqYMpU6bAwsICCxcuVG0KcVJSUo5TzB89eqTXeKCcWFhYwMvLS9WYGikpKUhLS8u2/+XLl3j+/Lne8a9cuYKWLVvi1q1byrI2EydOhIeHB8LCwlC2bFm9+8jKkNdKUz391ZXt1aqeboxyHM2bNweQ+agxK1FpzGJcXFy28hVAZnmWuLg4vWIb0w8//IApU6Zg8ODByr6vv/4a06ZNw/jx41VZssqo10rVFIz+kSGLxiUnJ2tVXb1+/bpMnz5dtm3bpnfsvPbw4UODzBQypFdn/al9Z9HBwUFOnDiRbf/x48fFzs5O7/gimY/Ifv/9dxHJnLJdoUIFMTExkcKFC0tERIQqfbRo0UJ59KMpxZGeni4dOnRQvWijITVs2FD69++fbf9XX30l9evX1zt+ixYtpHnz5vLw4UNl34MHD6R58+bSsmVLveMbk6GrpxujHIdmxurrNn15eHjkOEN148aNqt0tMwYLC4vXFp5UazamMa8V7zQZkaGLxrVu3Rrt2rVDv379kJCQgDp16qBAgQJ48OABpk2bhi+//FKN08gTasyAeN1MpJyoMRPJ0HcZGzRogIkTJ+LXX39VZlGlp6dj4sSJqF+/vip9ZC306enpiQsXLuDRo0f/6lr+kylTpqBJkyY4fvw4UlNTMWzYMJw9exaPHj3CwYMHVenDGCZMmAB/f3+cOnVKufsQERGBY8eOYfv27XrH37t3Lw4fPqz1s+Ds7IxJkybleMcxP4uPj0fRokWz7XdxccGdO3f0jh8cHIz+/fvj/v37ypqcERERmDp1KmbMmKF3fAD44IMPVInzOp07d8bXX38Ne3t7Zdbf3r17MXDgQHTq1MmgfavJw8MDERER8PT01Nq/c+dO1dZ/NOq1UjUFozcydNE4Z2dnZRDlokWLxNfXV9LT02Xt2rVSsWJFveO/7UJDQ5Vt6tSpUrBgQenUqZPynL1Tp05SsGBBmTZtWl4fqk7elTouIpl1dSZMmCAdOnSQFi1ayHfffffW1RcTETl58qR06dJFvLy8pEaNGtKzZ0/VCnQWLFgwx7szBw4cUKUukDF5enrKypUrs+1fsWKFlC5dWpU+5s2bJ8WKFVPu+JYuXVr5/FXL48eP5X//+5/07t1bevfuLdOmTZOEhARVYqekpMgnn3wiJiYmUqBAASlQoICYmZlJz549tZZ+yu/mzZsnFhYW0q9fP1mxYoWsWLFCvvjiC7G0tJQFCxao0ocxrxVLDhiRjY0Nzp07h1KlSmnVP7l27Rq8vLzw4sULveNfuHABJUqUwCeffILKlStj9OjRuHnzJipUqIDk5GSVzuTt1759ezRq1Cjb2J85c+Zg586d2Lhxo2p9JScnIy4uDqmpqVr7fX199Y5t6NokSUlJmDRpEiIiInJcyf3atWuq9EP/rHv37jhx4gSWLFmC2rVrAwCOHDmCvn37okaNGggNDc3bA/wXpkyZgilTpuCnn37SuhM0bNgwDBkyBCNHjlStL0OV4zh+/DgCAgJgbW2tfD+OHTuG58+fY/v27ahevboq/Vy6dEn5+fbx8THaklNq2rBhA6ZOnYrz588DyFxOaujQoWjdurWq/RjjWjFpMiJDF43z9fVFnz590LZtW3h7eyM8PBx+fn6IiopCYGAg4uPjVTqTt5+dnR2io6Oz3TK+cuUKqlatimfPnundx/3799GzZ09s3bo1x9ffhvWjOnfujL1796Jbt2451poaOHCg3n3ExMTkuN/ExARWVlYoUaKEKgPCV65ciQULFiA2NhaRkZEoWbIkZsyYgdKlS6v+4f3ixYtsSbK+A/8TEhLQo0cP/PXXX8qkgrS0NHz00UcIDQ3NceBzfiUiGDFiBGbNmqVcJysrKwwfPhwhISF5fHS6ef/99+Hp6YlFixbB3DxzpEtaWhr69OmDa9euYd++fXl8hGQIHNNkRH379sXAgQOxdOlSmJiY4Pbt24iMjMQ333yD77//Xu/4ISEh6NKlCwYPHowmTZrAz88PALB9+3ZUq1ZN7/jvEmdnZ2zatAlDhgzR2r9p0yY4Ozur0segQYOQkJCAI0eOoGHDhtiwYQPu3r2LCRMmqFKwUcOQd7K2bt2KsLAwg46ZqVq1qpKMySsVxwGgQIEC6NixI37++WelEOK/NX/+fISEhGDQoEH44YcflITVyckJM2bMUCVpSk5OxrBhw7B27Vo8fPgw2+v6JslOTk7YtGkTLl++jPPnz8PExASVKlXKlvi/DUxMTDB58mR8//33qlVPf9X69euxdu3aHH82Tpw4oXf848ePayVMAGBubo5hw4ahZs2aescHgL///ht//vlnjucwbdo0Vfp4VxjtWqn6sI/eyBhF4+7cuSMnTpyQ9PR0Zd+RI0cMWmTxbbRs2TIxMzOTDz/8UKl58+GHH4q5ubksW7ZMlT6KFCkiR44cERERe3t7uXjxooiIbNq0SerVq6d3/Hv37klgYOBr63+poVSpUjnWHlLTxo0bpUKFCrJ48WKJiYmRmJgYWbx4sVSqVEnWrFkjv/zyixQvXlyGDBmS6z4qVaqk1P7KOp7w9OnT4uzsrMZpyFdffSWVKlWS9evXi7W1tSxdulTGjx8vxYsXl19++UWVPjQyMjLeutmkxjRz5kyxs7OT/v37i4WFhXzxxRfi7+8vjo6O8u2336rSh6ura44zk8PDw8XV1VXv+Dt37hQbGxvx9vYWc3NzqVq1qjg5OYmjo6M0atRI7/iGVLBgQWXhcycnp2zr8qm5Rp+Ica8Vk6Y8YIiicampqWJmZvbWDQDOS4cPH5YuXbpItWrVpFq1atKlSxc5fPiwavHt7e2VytwlSpSQAwcOiEhmJW81CkN26dJF6tWrJ8eOHRNbW1vZvn27rFy5UipUqCCbN2/WO75IZmG6jz/+WKuUhdpq1aol4eHh2faHh4dLrVq1RERkw4YNUqZMmVz3YWVlpaxGnzVpunTpklhZWeU6blYeHh7KIrT29vbKNOsVK1aoVhF8+fLl4u3tLZaWlmJpaSk+Pj6yYsUKVWK/SypUqCCrV68WEe3v9/fffy9BQUGq9DFgwAApXry4rFmzRuLi4iQuLk5+/fVXKV68uCpVx2vVqiUhISEi8n/n8PTpU/noo49k3rx5esc3pNDQUHnx4oWIZP6BmnUSzqubGox5rZg0vUNKly6tVFamvFezZk0lGWjVqpV069ZN/v77bxk2bJheCYCGoe9kiWTO+LS3txc7Ozvx9vZWEkzNpgYrK6sc74SeP39eSWhiY2P1SjQrVaokGzduFBHtX6KzZs1S7TxsbW3lxo0bIiJSrFgx5Xtz7do1VSqbT506VWxsbGTYsGGyadMm2bRpkwwdOlRsbGzemhmfxmJtba0kyS4uLsrn4qVLl1Srzp6SkiJff/21WFhYKHd3LS0tZdCgQUrCoA87Ozu5cuWKiGTerdHMjI6OjpaSJUvqHf9dYsxrxTFN75DvvvsO3377LVauXMlVsP8FQwzaBTIHSWtqzowePRrNmzfHqlWrYGFhocpMp6SkJLi6ugLIrEF1//59lC9fHj4+PqqM2QCANm3aqBLnTSpWrIhJkyZh4cKFsLCwAJBZRXvSpEmoWLEiAODWrVtwc3PLdR/BwcEICgrCixcvICI4evQofv31V0ycOBGLFy9W5TzKlCmD2NhYlChRAhUrVsTatWtRu3Zt/PXXX3ByctI7/uzZszF//nx0795d2ffRRx+hcuXKGDNmjFbF5f+6IkWK4NGjRyhZsiRKlCiBw4cPo0qVKoiNjVXGzenLwsICM2fOxMSJE3H16lUAQNmyZXOsbp8btra2yudS0aJFcfXqVVSuXBkAVKtqbgxmZma4c+eO8lml8fDhQ7i6uqoyIcao10rVFIzyVNWqVcXOzk4sLS2lfPnyBrkr8K5ISkqSoKAgcXFxMdh4oJz6jIqKUp7168vQd7KM5eDBg+Ls7CwuLi7SpEkTadKkibi6uoqzs7OyIOqKFStkypQpevXzyy+/iKenpzKesFixYrJ48WI1TkFERKZNm6YsErtjxw6xsrISS0tLMTU1lRkzZugd39LSMsfKypcuXVKtsvK7onfv3jJmzBgREZkzZ45YW1uLv7+/ODk5Sa9evVTpIyEhQas6u8bDhw9VWXuudevWsnDhQhERGTJkiHh6esqECROkevXq0qRJE73jG4uJiYncvXs32/5bt26p9mjcmNeKJQfeIWPHjn3j66NHjzbSkeR/QUFB2L17N8aPH49u3bph7ty5uHXrFn7++WdMmjQJXbt21Sv+y5cvUbFiRWzevBmVKlVS6ai1/fLLL0hLS8Nnn32GqKgoNG/eHI8ePVLuZHXs2NEg/RrC06dPsWrVKly6dAkAUKFCBXTp0gX29vaq95WcnIxnz55l+8tXbTdu3EBUVBQ8PT1Vmcno7e2NLl264Ntvv9XaP2HCBPz22284ffq03n28KzIyMpCRkaHMbFuzZg0OHTqEcuXK4YsvvlDuaOqjRYsWaNWqFb766iut/QsWLMCff/6p9woP165dw7Nnz+Dr64ukpCQMGTJEOYdp06bl+3pNs2bNAgAMHjwY48eP16qTlZ6ejn379uH69es4efKk3n0Z81oxaaL/pBIlSmDFihVo2LAhHBwccOLECXh6emLlypX49ddf9f7AA4BixYph586dBkuaXpWcnKwUNy1cuLBR+tSXMZLLd8Xvv/+Ojh07wt/fXykBcfDgQURERGDt2rVo27ZtHh/hf0uhQoVw8ODBbO/bCxcuoF69ejmWnfgv0Syge+PGDRQvXlxZ6gnIfLRZqlQpjBs3DnXq1MmrQ8wVjml6xyQkJGD9+vW4evUqhg4dikKFCuHEiRNwc3NDsWLF8vrw8o1Hjx6hTJkyADLHL2nWmqtfv75qa/QFBQVh8uTJWLx4sVYtF0OxsbFRrQqxsRQoUEDvSvi6ePjwIUJCQrB79+4cK5ursdagobVv3x5HjhzB9OnTlYr1lSpVwtGjR1mHLQ+kpKQgLS0t2/6XL1/i+fPneXBE+UtsbCwAoFGjRvjjjz9QsGDBPD4idTBpeofExMTA398fjo6OuH79Ovr27YtChQrhjz/+QFxcHFasWJHXh5hvGHrQLpC5pEJERAS2b98OHx8f2Nraar3+xx9/qNLP284YyWW3bt1w5coV9O7dG25ubqotNmxsNWrUwC+//JLXh0EAateujYULF2L27Nla+xcsWIAaNWrk0VHlP4ZeuNzY+HjuHeLv74/q1atjypQpWsu0HDp0CF26dMH169fz+hDzjenTp8PMzAxff/01du7ciVatWkFE8PLlS0ybNk2V5UF69uz5xteXLVumdx/vgrZt2yIiIgJ2dnYGSy7t7e1x4MABVKlSRe9YeSk9PR0bNmxQ1vDy8vJC69atjXInk7QdPHgQ/v7+qFWrFpo0aQIgc/28Y8eOYfv27Xj//ffz+Ajzj3epsjmTpneIo6MjTpw4gbJly2olTTdu3ECFChWM8hjkbXX9+nVlXJMag3bfZsHBwTq3VeMDzxjJZa1atTB79mzUrVtX71h55ezZs/joo48QHx+PChUqAMhcoNTFxQV//fUXvL298/gI8wcRwc2bN+Hq6prrZXd0FR0djZ9++gnR0dHKgtkjR45EuXLlDNrv2yQiIgIfffQRypQpgwsXLsDb2xvXr1+HiKB69erYtWtXXh/iv8Kk6R3i6uqKbdu2oVq1alpJ044dO9CrVy/cvHkzrw/xP+nevXu4ePEigMxZYYaetaWvRo0aaX194sQJpKWlaf2iNjMzQ40aNd6aD7xjx45hxIgRCAkJgbe3t7LgrYYadbk0pk2bhgYNGijrj4kIBg8ejBkzZugV18/PDy4uLli+fLkyPuTx48f47LPPcP/+fRw6dEjfQ38nZGRkwMrKCmfPnn1nk5erV6+ibNmyeX0YOqlduzZatGiBsWPHKr+XXF1d0bVrVzRv3ly1MaRGo2oBA8pTvXv3ljZt2khqaqrY2dnJtWvX5MaNG1KtWjVVyvq/a3bu3CmBgYFSpkwZKVOmjAQGBsqOHTtUi//kyRP59NNPxdzcXKkNZG5uLl27dpWEhARV+ti3b5907dpV6tatK3///beIZNY02r9/vyrxp06dKq1atZJHjx4p+x49eiStW7eW//3vf6r0YQyXLl2SmjVrZqvHZWJionpdLh8fH7G2thZvb2/ZuHGjfPTRR+Lo6Kh3XCsrK6XScVanT59Wrd7Nu8LLy0up8fW2s7e3l5YtW8r69etFROTAgQPi4uKSx0elO0NX605PT5ddu3bJ2LFjpVevXtKpUycZMGCALF26VOLi4vSO/yrTvE7aSD1Tp05V6s88f/4cH3zwATw9PWFvb48ffvghrw8vX5k3bx6aN28Oe3t7DBw4EAMHDoSDgwNatmyJuXPnqtJH3759ceTIEWzevBkJCQlISEjA5s2bcfz4cXzxxRd6x//9998REBAAa2trnDx5EikpKQCAJ0+e4Mcff9Q7PpD5npo4caLWzJeCBQtiwoQJmDp1qip9AJkr0n/yySeoW7cuqlevrrWpoWvXrihQoABWr16NiIgI7Nq1C7t27cLu3btVv1sWExODR48e4dNPP0Xbtm2xe/duHDlyRO+45cuXx927d7Ptv3fvHjw9PfWO/y6ZNGkShg4dijNnzuT1oeht2bJlqF27Nr755htUr14dTZs2NUqlfrXkVK1bQ59q3c+fP8eECRPg4eGBli1bYuvWrUhISICZmRmuXLmC0aNHo3Tp0mjZsiUOHz6s93koVE/DKM8dOHBA5s6dK5MnT1b1zsm7pFixYjJ79uxs++fMmSPu7u6q9GFjY5PjHZ99+/aJjY2N3vGrVq0qy5cvFxHt9dROnDghbm5uesfXxNUsQpvVrl27xM7OTpU+jLEivbW1tVy4cEGVWK9atGiRsq6dRnJystStW1eqV68upUqVklWrVuUq9pMnT5QtLCxMKleuLOvWrZObN2/KzZs3Zd26deLj4yNhYWFqnMo7w8nJSVkTzsrKSgoWLKi15WcPHjzIcdWAxYsXi6mpqdjb28utW7fy4Mhyx1DVuosXLy4dOnSQsLAwSU1NzbHN9evX5ccff5SSJUsqx6AvJk3vkOXLl+e4UGRKSoryy5Uy2dravnZJCjUWVxXJXPU+JiYm2/5Tp05JsWLF9I5vbW0tsbGx/6+9+45r+lr/AP5JkL0VHCgjIIICynCWOnG0roq2FxXBIljbWqQstbdKFQdcFaze1gkqbhxtrbNYpFQQRMsQF1txoKKICmhZ5/eHP3JNQy2SbxISn/frxatwkp7nQTScnPEcxpjooKmoqIizazW8vLyYhYUFO3z4sPAX9aFDh5hAIGDe3t6cxJDFjfSDBw+W2hsIW1tblpqaKvy6traWjRkzhr377rvsyZMnbN++faxv376t6rtp+fDV5cRX2179mvzPjh07XvvRlo0dO1bs9frYsWNMU1OTxcXFsU8//ZT5+vrKKbs3V1RUxHJychhjjFVVVbE5c+YwBwcHNnnyZOGlyq1x9erVFj+3trZWuEQoKRo0KRE+n9/sHT8PHz6kF9W/mDZtWrN3ma1evZp5eHhwEmPz5s1s5MiRrKysTNhWVlbGRo8ezTZt2iRx/wKBQDgQeHWwERcXx3r27Clx/4y9vC/vs88+E96hxufzmZqaGvvss89YVVUVJzFkcSP9gQMHWK9evdj27dvZxYsXWU5OjsiHJDQ1NdnNmzcZY4w1NjayqVOnslGjRrHq6mrGGGOFhYVMU1OzVX3/9ttvLf4gslNbW8tUVFRYbm4u5323b9+e5efnC78+e/YsMzAwYIcPH2aMMZaens46d+7MeVxpqK+vZ8nJyezx48fyToUzVNxDiTDGmi3ad/v2bejr68sho7arV69eWLFiBX777TcMGjQIAJCeno7U1FQEBwcL700CgHnz5rW4XycnJ5GfQUFBAczMzGBmZgYAKC0thbq6OsrLyyXe1zR79mwEBARg27Zt4PF4uHv3LtLS0hASEoLFixdL1HcTLS0tbNiwAatXrxa5yf2vtZQkIYsb6Zvu4Zs1a5awjcfjCf/NSHLTeqdOnXDs2DHMmjULn3/+Of78808cO3ZMeL/ZjRs3YGxs3Kq+hw4d2uq83nZFRUXYvn07ioqKsG7dOnTs2BEnT56EmZkZ7OzsJOpbVVUVZmZmEv29+Tv19fXCiuJZWVnw8PDAvn378N577wEADAwMUFVVxXlcaVBRUcHo0aNx7do1zooG/53KykpkZGQ0W/Hf29ubszg0aFICTb+oeTwe3NzcRArdNTQ0oKSkRPgPjrwUGxsLQ0NDXL16FVevXhW2GxgYIDY2Vvg1j8d7o0GTLDdoLly4EI2NjXBzc0NNTQ2GDBkCdXV1hISEwN/fn9NY2traUqtfNWLECPz8889wcnKCj48PAgMDcejQIVy8eBGTJ0/mJEbTlQ7S8MUXX+CLL77Al19+CRMTEzg6OuL58+dQU1PD3bt3ERISgjFjxnAS6+zZs9i8eTOKi4tx8OBBdO3aFbt27YJAIMC7777LSQxlkJycjPfffx+urq74/fffsWLFCnTs2BE5OTmIjY3FoUOHJI7x9ddf49///jd27dqF9u3bc5D1SwMHDoSvry/GjBmDDRs2YNGiRSKv3/Hx8Qp1T6O9vT2Ki4uFd9FJw9GjR+Hp6Ymqqiro6emJvHHl8XicDpqoTpMSWLp0qfC/wcHBIrdJN12MOGXKFE5u9iZtT21tLQoLC1FVVYVevXqJ/PwlVV1djcjISCQmJjb7Dq64uFjiGLK4kV7azp49Cz6fD0dHR3zwwQdIS0uDmZmZ8Kqec+fOSXyJ8uHDh+Hl5QVPT0/s2rULV69ehaWlJb777jucOHGCk0umlcWgQYPw0UcfISgoSKRmXUZGBiZPnozbt29LHMPJyQmFhYWoq6uDubm52OxrZmZmq/otKirC7NmzoaKigg8++AALFy6Ev78/HB0d8fvvv2PLli2Ij4/n7A2FtJ06dQpfffUVli1bBhcXF7E/Jy5qpPXo0QNjx47FypUroaWlJXF/r0ODJiUSFxcHDw8PqVfBJW3DkydP0NDQIPYut6KiAu3atePkxWjatGlITk6Gl5cXunTpIrb8y8V1M6WlpTA1NRXrm/1/ZeempU0uXL16tdmrHCZOnMhZDMYYTp48idzcXHTt2hVTpkyBpqamxP06OTkhMDAQ3t7eIgOBrKwsvP/++7h37x4H2SsHHR0d5ObmQiAQiPxZ3bhxA7a2tpzcjtD0ZvXvfPPNNxLHAIAzZ87gq6++wqVLl9C1a1fMnz8fn3zyCSd9ywKf/7/KRq/+G+diabyJtrY2cnNzhZewSxMtzymRmTNnyjuFNi0oKAjLli2Dtrb2P14Vogj3IU2dOhUTJkzA559/LtJ+4MAB/Pzzz5zMPJw8eRLHjx+Hq6urxH39HYFAgLKyMrFK6RUVFRAIBJy8qBYXF8Pd3R25ubnCvUzA/17EudybwuPxMHbsWIwdO5azPgEgLy8PQ4YMEWvX19dHZWUlp7EUnYGBAcrKysSWhLKystC1a1dOYnA1KPonI0aM4KTOl7zI4sLeMWPG4OLFizRoIm+Gz+e/9vZ2aWxaVCRZWVmoq6sTfv53Xvdn2JacP3++2cHdsGHD8PXXX3MSw9DQkNP9Gs35uwMMVVVVnM2aBgQEQCAQIDExEQKBABkZGXj06BGCg4OxZs0aTmJIW+fOnVFYWAgLCwuR9pSUFJn8slAkU6dOxYIFC3Dw4EHweDw0NjYiNTUVISEhnO5vqaysxKFDh1BUVITQ0FC0b98emZmZ6NSpE2eDM0Uni8MM48aNQ2hoKK5evQoHBwexa5K4nEmmQZMS+eGHH0R++dTV1SErKwtxcXH/OJX8Nnj1HY8s3v1I259//on6+nqx9rq6OuHpG0ktW7YMYWFhiIuL43yvQNNsH4/Hw+LFi0X6b2howPnz5+Ho6MhJrLS0NJw5cwZGRkbg8/ng8/l49913ERERgXnz5r12EN1WyOK0pLJYuXIl5s6dC1NTUzQ0NKBXr15oaGjA9OnTsWjRIk5iXLp0CSNHjoS+vj5u3LiB2bNno3379vjhhx9QWlqKnTt3chJHGUj7AMPs2bMBAOHh4WKPcbUE2IQGTUqkuZNbH374Iezs7BAfHw9fX1/ZJ/UW+/3332Frayu27FRXV4e0tLRml1reRP/+/bFlyxb897//FWnftGkTXFxcJOq7SVRUFIqKitCpUydYWFiIvYNr7WZX4H+zfYwx5Obmimz4VlNTQ58+fRASEtLq/l/V0NAAXV1dAICRkRHu3r0LGxsbmJubCy9TbutkeVpS0ampqWHr1q1YvHgxLl++jKqqKjg5OXF6gW9QUBA+/vhjrFq1Svh3CwDGjh2L6dOncxZH0b16gCEzM1PsuicuthH89YCKNNFG8LdAcXExevfurTC1PZQFn89Hp06d8OOPP2LgwIHC9vv378PExETidz+pqakYOXIk+vXrBzc3NwBAYmIiLly4gISEBAwePFii/gHZbHb18fHBunXrONm4/ncGDx6M4OBgTJo0CdOnT8fjx4+xaNEibNmyBX/88YdC3VEmzdOSpOX09fWRmZkJKysrkc3mN2/ehI2NDSebzZWBsh1goJkmJff8+XOsX7+e1tflZOrUqXBzc8P333+Pjz/+WNjOxXsVV1dXpKWlYfXq1Thw4AA0NTXRu3dvxMbGcvaOWhabXbdv3y71GIsWLUJ1dTWAl1P448ePx+DBg9GhQwfEx8dzEuPWrVvg8Xjo1q0bACAjIwN79+5Fr169OD3tpKamhl69enHWn7L4p8Mdr+LioIe6ujqePn0q1p6fn9/qYqb/pLKyUupFIrkmqwMMycnJWLNmDa5duwbgZQHj0NBQTt48ipB9EXIiLQYGBiKXUhoYGDAVFRWmq6vLjhw5Iu/03jpN19ocPnyYaWtrs8DAQNbY2Mju3btH19q0AY8ePWKNjY2c9ffuu++ynTt3MsZeXpejp6fHBg0axIyMjNjSpUs5i0OaN2zYMJEPPT09pqWlxZycnJiTkxPT1tZmenp6bPjw4ZzE8/X1ZZMmTWK1tbVMR0eHFRcXs5s3bzInJycWEBAgcf+RkZFs//79wq8/+ugjxufzmYmJifCqIUUgi+uedu3axdq1a8f+9a9/sXXr1rF169axf/3rX0xVVbXVl2X/HRo0KZG/Xkq5c+dOdvLkSVZRUSHv1N5KPB5PeBdgZmYmMzU1ZWPGjGHXr19v9aDpyZMnIp+/7oML9fX1bPXq1axfv36sU6dOCnVbvKwZGBiw69evM8YYW7duHXvnnXcYY4z98ssvTCAQyDO1t05UVBSbMGGCyGtfRUUF++CDD9iaNWs4iVFZWclGjhwpfHNqamrKVFVV2ZAhQzi5l9HCwkJ4EXRCQgIzMDBgv/zyC/P19WWjRo2SuH9ZWblyJevVqxdLT09nurq67OzZs2z37t3M2NiYrV+/npMYtra2LDo6Wqw9KiqK2drachKjCQ2aCJGSVwdNjL2cfRgwYADr2rVrqwdNr17K/Opt969+cHnr/eLFi1mXLl3YmjVrmIaGBlu2bBnz9fVlHTp0YOvWreMkhixUVVWxRYsWsUGDBjErKysmEAhEPrigra3NSkpKGGOMTZgwgUVGRjLGGLt58ybT0NDgJAZpGRMTE3b58mWx9tzcXNalSxdOY6WkpLDvv/+e/ec//xHOqHBBQ0ODlZaWMsYYmzdvHvvkk08YY4zl5eUxAwMDzuJIW2NjI1u+fDnT1tZmPB6P8Xg8pqGhwRYtWsRZDDU1NVZQUCDWXlBQwNTV1TmLwxhd2Kt0Hj9+jNjYWJF1XR8fH6nX2iHiZs6cKVIJunPnzkhOTsYnn3yC33//vVV9njlzRvizPHPmjNRrSu3Zswdbt27FuHHjsGTJEkybNg1WVlbo3bs30tPT3+hePnny8/N7bWVzLtjZ2WHTpk0YN24cTp8+jWXLlgEA7t69iw4dOnAej/y9p0+fory8XKy9vLwcz5494yTGzp074eHhAVdXV5Hir7W1tdi/f7/E9aAMDQ1x69YtmJqa4tSpU1i+fDmAl/shFanmHo/Hw9dff43Q0FCpHWAwNTVFYmIiunfvLtL+66+/wtTUlLM4AGhPkzJJTk5menp6zNTUlLm7uzN3d3dmZmbG9PT0WHJysrzTIwpIS0uL3bx5kzHGWOfOndkff/zBGGOsqKiI6enpyTO1N6Kvr89SUlKkGiMpKYkZGBgwPp/PfHx8hO1fffUVc3d3l2psIsrLy4tZWFiww4cPs1u3brFbt26xQ4cOMYFAwLy9vTmJ8eqs76sePnzIyUzv3Llzmbm5ORs5ciTr0KEDe/bsGWOMsX379jEnJyeJ+1cmGzZsYGpqauzTTz9lO3fuZDt37mRz5sxh6urqbNOmTZzGopkmJTJ37lx4eHhg48aNUFFRAfCyPs3nn3+OuXPnIjc3V84Zvl0EAgF8fHzw8ccfc3p/WhNra2t4enrC09OT0/ozr+rWrRvKyspgZmYGKysrJCQkwNnZGRcuXIC6urpUYkqDtCubM8ZgaWmJ0tJS1NfXw9DQUPjYJ598IvVLRImoTZs2ISQkBNOnTxfeAtCuXTv4+vpi9erVnMRgf1PJ/vbt29DX15e4/7Vr10IgEKC0tBSrVq0SzsyUlZWJXZ3Ulsni0u/PPvsMnTt3RlRUFA4cOAAA6NmzJ+Lj4/HBBx9I3P+rqE6TEtHU1ER2djZsbGxE2vPy8uDo6MhZlWjSMt9++y127NiBy5cvY/jw4fD19YW7uztng421a9di7969yMzMhLOzM2bMmAEPDw907tyZk/6BlwUV9fT08O9//xvx8fGYMWMGLCwsUFpaisDAQERGRnIWS5p2796NI0eOSKWyOfCyuJ6GhgauXLkitQEseXPV1dUoKioCAFhZWUFbW1viPp2cnMDj8ZCTkwM7Ozu0a/e/uYeGhgaUlJTgvffeE/7ybo26ujrMmTMHixcvFrs/T9HI4tJvWaJBkxJxdXVFaGioWGXwn376CZGRkUhPT5dPYm+5zMxM7NixA/v27RNe5TBr1iw4Oztz0n9+fj727NmDffv2oaSkBMOHD8eMGTM4vWOrSXp6Os6dOwdra2tMmDCB8/6lxcnJCUVFRWCMcV7ZvImdnR1iY2NFCpkS5dNU8HXp0qUIDg4W2ZujpqYGCwsLTJkyRaTCfWvo6+sjOztb4QdNBgYGUr/0W5Zo0KRE4uPjMX/+fPj7+wtfuNPT0/H9998jMjISPXv2FD63d+/e8krzrVVXV4cNGzZgwYIFqKurg4ODA+bNmwcfHx/ONianp6fjs88+w6VLlyTeLKpM73ZlUdn86NGjWLVqFTZu3Ah7e3uJ+yOSuXjxIg4cOIDS0lLU1taKPPbDDz9I3H9cXBw8PDw4u1T6r2bOnAlHR0cEBgZKpX9ZEQgEOHHihMjvHy60b98e+fn5MDIygqGh4WtfQysqKjiLS4MmJcLn81/7OI/HE67DK9LpC0VXV1eHH3/8Edu3b8fp06cxcOBA+Pr64vbt2/j+++8xYsQI7N27V6IYTdWn4+Pj8fTpU0yYMAH79++XOHdlebcrC4aGhqipqUF9fT3U1NRETk4C3L5wk9drOr02ZswYJCQkYPTo0cjPz8f9+/fh7u4ukyr0klq+fDmioqLg5uYGFxcXsaVFRTm5Kq2l8bi4OEydOhXq6urYsWPHawdNM2fO5CwuDZqUyM2bN1v8XHNzcylmQoCXSz7bt2/Hvn37wOfz4e3tDT8/P9ja2gqfc/nyZfTr169V+83+uiw3YsQIeHp6YvLkyZwd51WWd7uyEBcX99rHuXzhJq/Xu3dvzJkzB3PnzhXedyYQCDBnzhx06dLlH2ceW4LP57/2F7Wkb0xf90aFx+NxsoFaFmSxNC5LdHpOidBAqG3p168fRo0ahY0bN2LSpEliLxbAyxfGqVOntqp/W1tb9OvXD3PnzsXUqVPRqVMnSVMWY21tjfDwcKSmpir0u11ZoEFR21FUVIRx48YBeLnPqLq6GjweD4GBgRgxYgQng6YffvhBZNBUV1eHrKwsxMXFcdJ/SUmJxH20BX/dYysNKioqKCsrQ8eOHUXaHz16hI4dO3K6skIzTUrm7t27SElJafZoJ/2Ck62bN29KdSBbUFAg9ZNayvJuV1aKioqwfft2FBUVYd26dejYsSNOnjwJMzMz2NnZyTu9t0a3bt1w8uRJODg4oHfv3vjqq68wbdo0pKWl4b333sOTJ0+kFrtpmfzIkSOc9FdbW4uSkhJYWVmJnNQj/8Pn83Hv3j2xQdPdu3dhZWXF6clx+gkokR07dmDOnDlQU1NDhw4dRN4F8Xg8GjTJWHFx8d8OmjZv3ow5c+ZI1L+1tTUqKytx6NAhFBUVITQ0FO3bt0dmZiY6deqErl27StQ/oDzvdmUhOTkZ77//PlxdXfH7779jxYoV6NixI3JychAbG4tDhw7JO8W3xpAhQ3D69Gk4ODjgo48+QkBAAM6cOYPTp0/Dzc1NqrEHDhyITz75ROJ+ampq4O/vL1z2zc/Ph6WlJfz9/dG1a1csXLhQ4hiyIq3XqfXr1wN4+fstJiZGZFtCQ0MDfv/9d5HtEJzgtFQmkatu3bqx5cuXs4aGBnmnQtjL+5BCQkJYbW2tsK28vJyNHz+ek7ujcnJymJGREevevTtr166d8Pbwr7/+mnl5eUnc/181NjayxsZGzvtVFgMHDmRRUVGMMdHb3M+fP8+6du0qz9TeOo8ePWJ37txhjDHW0NDAIiIi2IQJE1hQUJBULzCvqalhAQEBrEePHhL3NW/ePObi4sLOnj3LtLW1hX+ffvrpJ+bo6Chx/7KSk5PDjI2NpfI6ZWFhwSwsLBiPx2OmpqbCry0sLFiPHj3Y6NGjWXp6OhffhhDNNCmRmpoaTJ069R9P0RHZSEpKgre3N06fPo29e/eipKQEvr6+sLGxQXZ2tsT9BwYGwsfHB6tWrYKurq6wfezYsZg+fbrE/TeJjY3F2rVrUVBQAODlDNeXX34JPz8/zmJIQ1BQUIufGx0dLXG83NzcZk9BduzYEQ8fPpS4f9Jyr1Z/5/P5UpmV+esxd8YYnj17Bi0tLezevVvi/n/66SfEx8dj4MCBInHs7OyEBTsVQVBQED7++GOpvE41zYQPHz4cP/zwg0glfmmhQZMS8fX1xcGDBxVq2laZvfPOO8jOzsann34KZ2dnNDY2YtmyZZg/fz4ndZkuXryILVu2iLV37doV9+7dk7h/AAgLC0N0dDT8/f0xaNAgAEBaWhoCAwNRWlqK8PBwTuJIQ1ZWlsjXmZmZqK+vF1bMz8/Ph4qKClxcXDiJZ2BggLKyMrF9YFlZWZwslZI3I+39Zd9++63I13w+H8bGxhgwYAAnv7zLy8vF9ugAEG5qVxQXLlzA5s2bxdq5fJ1KSkripJ+WoEGTEomIiMD48eNx6tQpODg4iJ3W4uLdNHkz+fn5uHjxIrp164a7d+8iLy8PNTU1nFznoK6ujqdPnzYb09jYWOL+AWDjxo3YunUrpk2bJmybOHEievfuDX9//zY9aHr1hTQ6Ohq6urqIi4sT/kJ7/PgxfHx8MHjwYE7iTZ06FQsWLMDBgwfB4/HQ2NiI1NRUhISESKU6O/l7sthfJu3Tkn379sXx48fh7+8PAMKBUkxMjPANjCKQxesU8PLOv59//rnZYqac/u7jdLGPyNWyZcsYj8djtra2bOjQoWzYsGHCj+HDh8s7vbdOREQEU1NTY1988QV7/vw5y83NZY6OjszS0pKdO3dO4v59fX3ZpEmTWG1tLdPR0WHFxcXs5s2bzMnJiQUEBEj+DTDG9PX1WX5+vlh7Xl4e09fX5ySGLJiYmLDLly+Ltefm5rIuXbpwEuPPP/9kfn5+rF27dozH4zFVVVXG5/PZjBkzWH19PScxSMvIan9ZRUUFW716NZs1axabNWsWW7NmDXv06BEnfZ89e5bp6OiwTz/9lGloaLCAgAA2atQopq2tzS5evMhJDFmQxevUr7/+yrS0tJi9vT1r164dc3R0ZAYGBkxfX5/z3300aFIiBgYGbPv27fJOg/y/zp07sxMnToi01dbWspCQEKampiZx/5WVlWzkyJHMwMCAqaioMFNTU6aqqsqGDBnCqqqqJO6fMca++OILFhgYKNYeHBzMPv/8c05iyIKOjg5LSkoSaz9z5gzT0dHhNNbNmzfZ8ePHWXx8fLMDTiJ92trarLi4mDEmOmgqKSlh6urqnMRITk5menp6zNTUlLm7uzN3d3dmZmbG9PT0WHJyMicxCgsLmZ+fH+vXrx/r2bMn8/T0ZJcuXeKkb1mRxetUv379WFhYGGPsfz/vZ8+esYkTJ7INGzZwEqMJ1WlSIp07d8bZs2fplvU24uHDhzAyMmr2seTkZAwdOpSTOCkpKbh06RKqqqrg7OyMkSNHStTfqxuo6+vrsWPHDpiZmQnvMzx//jxKS0vh7e2N//73vxLFkhVvb2+cPXsWUVFR6N+/P4CX30doaCgGDx78j9W8iWLp1q0bDhw4gHfeeUdYEdzS0hI//vgjQkJCONlI7eDggEGDBmHjxo1QUVEB8PKY++eff45z584hNzdX4hjKhOvXqVfp6uoiOzsbVlZWMDQ0REpKCuzs7JCTk4MPPvgAN27c4CwWDZqUSEREBMrKyoS1KwhpjeHDh7foeTweD2fOnJFyNtyoqalBSEgItm3bhrq6OgBAu3bt4Ovri9WrV7d6j5msT+iRlgkJCcH58+dx8OBB9OjRA5mZmbh//z68vb3h7e3NyQXNmpqayM7OFh4saJKXlwdHR8dWFVRsbu/P39HT03vj/pVV586dkZSUhJ49e6JXr16IjIzExIkTkZOTA1dXV1RVVXEWizaCK5GMjAycOXMGx44dg52dndhGcC5u9iby9SYD4tYWM5XlSRRZ0dLSwoYNG7B69WrhLIOVlZXEG/JlfUKPtMzKlSsxd+5cmJqaoqGhAb169UJDQwOmT5+ORYsWcRLD2dkZ165dExs0Xbt2DX369GlVnwYGBi0+Gacol67/3WsWj8eDhoYGunfvjiFDhghn61pj4MCBSElJQc+ePTF27FgEBwcjNzcXP/zwg3CGnCs006REfHx8Xvu4ItzsTV7vr8fZy8vLUVNTAwMDAwAvK+9qaWmhY8eOdMWJjEVHR+O333772xN6wcHBcs7w7cAYw61bt2BsbIyHDx8iNzcXVVVVcHJy4nTrQnx8PObPnw9/f3/hL+b09HR8//33iIyMRM+ePYXP7d27d4v6TE5OFn5+48YNLFy4EB9//LFIuY+4uDhEREQozF2HAoFA+Dr16r8LLS0t6Ojo4MGDB7C0tERSUhJMTU1bFaO4uBhVVVXo3bs3qqurERwcjHPnzsHa2hrR0dHcXmfF6Q4pQojM7Nmzh7m6urLr168L265fv84GDx7Mdu/eLcfM2p6qqiq2aNEiNmjQIGZlZcUEAoHIBxdkcUKP/LOGhgamqqoq9U34PB7vtR98Pl/439YYMWIE27t3r1j7nj172NChQyXMXnb27t3Lhg0bxgoLC4VtBQUFbMSIEWz//v3s1q1bzNXVlU2ZMqVV/dfX17Pk5GT2+PFjjjJ+PZppUkLl5eXIy8sDANjY2HBaC4O0HVZWVjh06BCcnJxE2v/44w98+OGHdG/cK6ZNm4bk5GR4eXmhS5cuYksgAQEBEsfQ1dXF0aNHMWzYMJH2pKQkTJw4Ec+ePZM4BmkZOzs7xMbGcr4086qbN2+2+LmtmenQ0tJCTk6O2OxYfn4+HB0dUVNT88Z9yoOVlRUOHz4MR0dHkfasrCxMmTIFxcXFOHfuHKZMmYKysrJWxdDQ0MC1a9dee8E4V2hPkxKprq6Gv78/du7cicbGRgCAioqK8JSTlpaWnDMkXCorK0N9fb1Ye0NDA+7fvy+HjNqukydP4vjx43B1dZVaDHd3d/j4+DR7Qm/y5MlSi0vERUZGIjQ0FBs3boS9vb1UYnC65NMMU1NTbN26FatWrRJpj4mJafUyljz83etUfX29sCK4iYmJRG8q7O3tUVxcLJNBE800KZE5c+bg119/xXfffSf85ZCSkoJ58+Zh1KhR2Lhxo5wzJFyaMGEC7ty5g5iYGDg7OwN4Ocv0ySefoGvXrvj555/lnGHbIRAIcOLECZF9JlyT1gk98uYMDQ1RU1OD+vp6qKmpQVNTU+TxiooKTuLcvXsXKSkpePDggfCNapPWHsRocuLECUyZMgXdu3fHgAEDALw87FNQUIDDhw9j7NixEvUvK+PGjcO9e/cQExMjnBXPysrC7Nmz0blzZxw7dgxHjx7Fv//971aXaTh16hS++uorLFu2DC4uLmL/1rg8aUiDJiViZGSEQ4cONbs88K9//Qvl5eXySYxIRXl5OWbOnIlTp04JT0rW19djzJgx2LFjR7P3Vr2tdu/ejSNHjiAuLk7qM67V1dWcntAjb+6f6m5xsYl6x44dmDNnDtTU1NChQweRJV8ej8fJQYzbt29j48aNuHbtGgCgZ8+e+PTTTxVqpunevXvw8vJCYmKiyOuUm5sbdu3ahU6dOiEpKQl1dXUYPXp0q2K8ekn9Xy9R5vF4nJ40pEGTEtHS0sIff/wh9m76ypUr6N+/P6qrq+WUGZGmgoIC4Yuqra0tevToIeeM2h4nJycUFRWBMQYLCwuxchyZmZlyyowoKlNTU3z66af46quvRH5pk+bl5eWJ7LX9a6kGSbx66rA5XBUSBmjQpFTc3NzQoUMH7Ny5ExoaGgCA58+fY+bMmaioqMCvv/4q5wwJkY+lS5e+9nEuih0CwMWLF3HgwIFmLw2lOmnyMW7cOMTExKBLly6c9tuhQwdkZGTAysqK037/qqamptm/Ty0tY0C4RYMmJXL58mWMGTMGf/75p7C4Wk5ODjQ0NPDLL7/Azs5OzhkSorz2798Pb29vjBkzBgkJCRg9ejTy8/Nx//59uLu7U500OXn1GhUuzZ8/H+3bt8fChQs57bdJeXk5fHx8cPLkyWYfV5TilrJy9uxZbN68GcXFxTh48CC6du2KXbt2QSAQ4N133+UsDp2eUyL29vYoKCjAnj17cP36dQAvj1p7enqKbYQkhHBr5cqVWLt2LebOnQtdXV2sW7cOAoEAc+bM4XyWg8hfREQExo8fj1OnTsHBwUFsyVfSa3O+/PJLVFZW4vz58xg2bBh+/PFH3L9/H8uXL0dUVJREfSubw4cPw8vLC56ensjMzMSff/4JAHjy5AlWrlyJEydOcBaLZpoIIUqvoaEBa9eu/dulMy5OU2lra+PKlSuwsLBAhw4d8Ntvv8HBwQHXrl3DiBEjWl2DhkjG3t4eJ0+e5Hzz9PLlyxEWFgYbGxt06tRJbCO4pPcydunSBUeOHEH//v2hp6eHixcvokePHvj555+xatUqpKSkSPotKA0nJycEBgbC29tbZGYxKysL77//vrC0ARdo95oSiYiIwLZt28Tat23bhv/85z9yyIhIU2lpKZp7z8MYQ2lpqRwyaruWLl2K6OhoeHh44MmTJwgKCsLkyZPB5/OxZMkSTmIYGhoKa8107doVly9fBvDyahtFKUSojC5fviyV02ZRUVHYtm0brl27ht9++w1JSUnCDy4usq6urhaegDU0NBSefnZwcKCDC3+Rl5eHIUOGiLXr6+ujsrKS01g0aFIimzdvhq2trVi7nZ0dNm3aJIeMiDQ13en0VxUVFTIp8qZI9uzZg61btyI4OBjt2rXDtGnTEBMTg7CwMKSnp3MSY8iQITh9+jQA4KOPPkJAQABmz56NadOmwc3NjZMYpOXOnj2LGTNm4J133sGdO3cAALt27eJshkZdXV2qxVJtbGyEp8369OmDzZs3486dO9i0aZPCLfdWVlYiISEBu3fvxs6dO0U+uNC5c2cUFhaKtaekpHC+l43unlMi6urqrLi4WKy9qKiIqauryyEjIk08Ho89ePBArP3GjRtMS0tLDhm1XVpaWuzmzZuMMcY6d+7M/vjjD8bYy38benp6nMR49OgRu3PnDmPs5f1nERERbMKECSwoKIhVVFRwEoO0zKFDh5impibz8/Nj6urqrKioiDHG2H//+1/2/vvvcxJj5cqVzN/fn5O+mrNr1y62fft2xhhjFy9eZEZGRozP5zMNDQ22f/9+qcXl2s8//8x0dXUZj8dj+vr6zMDAQPhhaGjISYyVK1eyXr16sfT0dKarq8vOnj3Ldu/ezYyNjdn69es5idGENoIrEVNTU6SmporNMqSmpsLExEROWRGuBQUFAXi5b2Lx4sUixRobGhpw/vx5sXue3nbdunVDWVkZzMzMYGVlhYSEBDg7O+PChQtQV1fnJEb79u2Fn/P5fKmdqiL/bPny5di0aRO8vb2xf/9+YburqyuWL1/OSYyMjAycOXMGx44dg52dndhGcElLTMyYMUP4uYuLC27evInr16/DzMwMRkZGEvUtS8HBwZg1axZWrlwptcKyCxcuRGNjI9zc3FBTU4MhQ4ZAXV0dISEh8Pf35zQWDZqUyOzZs/Hll1+irq4OI0aMAAAkJiZi/vz5CA4OlnN2hCtZWVkAXu5dys3NhZqamvAxNTU19OnTByEhIfJKr01yd3dHYmIiBgwYAH9/f8yYMQOxsbEoLS1FYGAgZ3GKioqwfft2FBUVYd26dejYsSNOnjwJMzMzKvkhQ7LY42JgYCCTOwVra2tRUlICKysr4XVJiuTOnTuYN2+eVCvx83g8fP311wgNDUVhYSGqqqrQq1cv6OjocB+M03krIleNjY1s/vz5TENDg/H5fMbn85mWlhZbunSpvFMjUvDxxx+zJ0+eyDsNhZSWlsaioqLYzz//zFmfv/32G9PU1GQjR45kampqwiWhiIgINmXKFM7ikH8mEAjY6dOnGWOM6ejoCH8WcXFxrGfPnvJMrcWqq6vZrFmzmIqKClNRURF+D1988QWLiIiQc3Yt5+7uzuLj4+WdBmeo5IASqqqqwrVr16CpqQlra2vOlh9I21RYWIiioiIMGTIEmpqawvuWyEt1dXWYM2cOFi9eLNUN8oMGDcJHH32EoKAgkWPPGRkZmDx5Mm7fvi212ERUREQEdu/ejW3btmHUqFE4ceIEbt68icDAQCxevJjTJZvy8nKR60GMjY056TcgIACpqan49ttv8d577+HSpUuwtLTEkSNHsGTJEuGMc1v06mXh5eXlCA8Ph4+PT7P1rCZOnChxvOrqakRGRiIxMbHZy5O5uAewCQ2aCFFQFRUV+Oijj5CUlAQej4eCggJYWlpi1qxZMDQ0pAJ4r9DX10d2drZUB006OjrIzc2FQCAQGTTduHEDtra2ePHihdRiE1GMMaxcuRIRERHCcg9Ne1yWLVvGSYzq6mr4+/tj586dwl/SKioq8Pb2xn//+1+Jl6PMzc0RHx+PgQMHivx9KiwshLOzM54+fcrFtyEVLb2Lj6vLdKdNm4bk5GR4eXmhS5cuYm8aAwICJI7RhPY0EaKgvvzyS6iqqqK0tFTkkmYPDw8EBQXRoOkVkyZNwk8//cTp/qW/MjAwQFlZmdjALCsrC127dpVaXCJOFntcgoKCkJycjKNHjwpLD6SkpGDevHkIDg7Gxo0bJeq/vLxcWKfpVdXV1W1+JvmvMz3SdvLkSRw/flyqJSCa0KCJEAWVkJCAX375Bd26dRNpt7a2xs2bN+WUVdtkbW2N8PBwpKamwsXFBdra2iKPz5s3T+IYU6dOxYIFC3Dw4EHweDw0NjYiNTUVISEh8Pb2lrh/8ubU1NTQq1cvqfR9+PBhHDp0CMOGDRO2jR07FpqamvjXv/4l8aCpb9++OH78uHApsWmgFBMTg0GDBknUtyzt3LkTHh4eYttEamtrhfc1SsrQ0FDk9Ko00fIcIQpKV1cXmZmZsLa2Fpm+v3jxIsaMGYNHjx7JO8U243XLcjwej5M9D7W1tZg7dy527NiBhoYGtGvXDg0NDZg+fTp27NgBFRUViWOQtkNLSwt//PGHyCwvAFy5cgX9+/dHdXW1RP2npKTg/fffx4wZM7Bjxw7MmTMHV69exblz55CcnAwXFxeJ+pcVFRUVlJWVic2aPXr0CB07duRkeW737t04cuQI4uLipHpKD6BBEyEKa+zYsXBxccGyZcugq6uLS5cuwdzcHFOnTkVjYyMOHTok7xTfGowx3Lp1C8bGxnj48CFyc3NRVVUFJycnWFtbyzs9IgVubm7o0KEDdu7cCQ0NDQDA8+fPMXPmTFRUVODXX3+VOEZxcTEiIiKQk5ODqqoqODs7Y8GCBXBwcJC4b1nh8/m4f/++2Ab5nJwcDB8+nJN7H52cnFBUVATGGCwsLMQ2m3N57QwtzxGioFatWgU3NzdcvHgRtbW1mD9/Pq5cuYKKigqkpqbKO702q+l9Ipf7Qhhj6N69O65cuQJra2up3HVG2pZ169ZhzJgx6NatG/r06QPg5UBAQ0MDv/zyi0R9v3ric+vWrVykK3NOTk7g8Xjg8Xhwc3NDu3b/G240NDSgpKQE7733HiexJk2axEk/LUEzTYQosCdPnuC7774TeSc6d+5chbubShZiY2Oxdu1aFBQUAHi5z+nLL7+En58fJ/3b2dkhNjYWAwcO5KQ/0vbV1NRgz549uH79OgCgZ8+e8PT0hKampsR9y+LEpzQtXbpU+N/g4GCRTfhqamqwsLDAlClTRIrzKgIaNBFClF5YWBiio6Ph7+8v3ESblpaG7777DoGBgQgPD5c4xtGjR7Fq1Sps3LgR9vb2EvdHJLNr1y5s2rQJJSUlSEtLg7m5Ob799lsIBAJ88MEH8k7vH82cOROOjo5SPfEpC3FxcfDw8BAuYUpLZWUlDh06hKKiIoSGhqJ9+/bIzMxEp06dOD29SoMmQhTUpUuXmm3n8XjQ0NCAmZkZFTb9f8bGxli/fj2mTZsm0r5v3z74+/vj4cOHEscwNDRETU0N6uvroaamJjbbwMXeDdIyGzduRFhYGL788kusWLECly9fhqWlJXbs2IG4uDgkJSVJHCMiIgKdOnXCrFmzRNq3bduG8vJyLFiwQKL+ly9fjqioKLi5uUntxKc81NXVie05ktSlS5cwcuRI6Ovr48aNG8jLy4OlpSUWLVqE0tJS7Ny5k7NYNGgiREHx+Xzhvpzm9umoqqrCw8MDmzdvlvq7vLbOwMAAFy5cENuUnZ+fj/79+3NyH1lcXNxrH585c6bEMUjL9OrVCytXrsSkSZNETpZevnwZw4YN42SQbGFhgb179+Kdd94RaT9//jymTp2KkpISifqXxYlPaTpw4AAmTZokXH777rvvsHr1aty+fRuGhoaYN28ewsLCOIk1cuRIODs7Y9WqVSI/73PnzmH69Om4ceMGJ3EA0N1zhCiqn376idnY2LCYmBh26dIldunSJRYTE8N69uzJ9u/fz3bv3s26devGgoOD5Z2q3H3xxRcsMDBQrD04OJh9/vnncsiISJOGhga7ceMGY0z07rn8/HymoaHBSQx1dXVWXFws1l5UVMTU1dU5iaHI+Hw+u3//PmOMsW3btjENDQ0WFhbGjh8/zpYvX860tbXZ1q1bOYmlp6fHCgsLGWOiP+8bN25w/rOg03OEKKgVK1YIT/A0cXBwQLdu3bB48WJkZGRAW1sbwcHBWLNmjRwzlY+goCDh5zweDzExMUhISBBu1D5//jxKS0ulUnhy3LhxiImJoQ35ciIQCJCdnQ1zc3OR9lOnTonVVWotU1NTpKamis0IpaamwsTEhJMYioy9soi1adMmhIeHIzQ0FMDLcint27fHhg0bODmIoa6u3uy1Mvn5+ZzdBdiEBk2EKKjc3FyxXwrAyzurcnNzAQCOjo4oKyuTdWptwl8vNG0qBlhUVAQAMDIygpGREa5cucJ57N9//x3Pnz/nvF/SMkFBQZg7dy5evHgBxhgyMjKwb98+REREICYmhpMYs2fPxpdffom6ujqMGDECAJCYmIj58+cjODiYkxiKrmm7QHFxMUaPHi3y2OjRoyXe99Vk4sSJCA8Px4EDB4RxS0tLsWDBAkyZMoWTGE1o0ESIgrK1tUVkZCS2bNki3DdQV1eHyMhI2NraAgDu3LmDTp06yTNNueFisy9RTH5+ftDU1MSiRYtQU1OD6dOnw8TEBOvWrcPUqVM5iREaGopHjx7h888/R21tLQBAQ0MDCxYswFdffcVJDEV36tQp6OvrQ0NDQ3hxcpMXL15wVistKioKH374ITp27Ijnz59j6NChuHfvHgYNGoQVK1ZwEqMJbQQnREGdO3cOEydOBJ/PR+/evQG8nH1qaGjAsWPHMHDgQOzatQv37t0TTosT2bC3t8fJkyepyGUbUFNTg6qqqmYvv+VCVVUVrl27Bk1NTVhbW9OJ1f/H5/NFvl62bBm+/vpr4dexsbH4/vvvOa3WnZKSgkuXLglr1o0cOZKzvpvQoIkQBfbs2TPs2bMH+fn5AAAbGxtMnz4durq6cs6MECKJ1x3Nf/jwIYyMjGScEbeOHTsGVVVVkT2ZioAGTYQooLq6Otja2uLYsWOcbWwlkjt79iw2b96M4uJiHDx4EF27dsWuXbsgEAjw7rvvyju9t8ajR48QFhaGpKQkPHjwAI2NjSKPK0LNrClTpuDQoUNiS1j379+Hm5sbLl++LKfM2p7169c3295Us6579+4YMmQIJ5dm054mQhSQqqoqXrx4Ie80yCsOHz4MLy8veHp6IjMzE3/++SeAl1fdrFy5EidOnJBzhm8PLy8vFBYWwtfXF506deL0nkFZKS0thZ+fH2JjY4Vt9+7dw/Dhw2FnZyfHzP5ZaWkpzMzMWvz8O3fuSFS1e+3atSgvL0dNTQ0MDQ0BAI8fP4aWlhZ0dHTw4MEDWFpaIikpSfIlc04LGBBCZGbFihVs5syZrK6uTt6pEMaYo6Mji4uLY4yJ1orJzMxknTp1kmdqbx0dHR2WnZ0t7zQk8uDBA2ZrayusL3bnzh3Wo0cP9tFHH7GGhgY5Z/d6HTt2ZJ988gnLyMj42+dUVlayLVu2MDs7O7Zu3TqJ4u3du5cNGzZMWKuJMcYKCgrYiBEj2P79+9mtW7eYq6srmzJlikRxGKM6TYQorAsXLiAxMREJCQlwcHAQu2bhhx9+kFNmb6e8vDwMGTJErF1fX5+TiuOk5WxtbRW+5IOxsTESEhKEy7rHjh2Ds7Mz9uzZI7bJuq25evUqVqxYgVGjRkFDQwMuLi4wMTGBhoYGHj9+jKtXr+LKlSvCKt5jx46VKN6iRYtw+PBhWFlZCdu6d++ONWvWYMqUKSguLsaqVas4KT9AgyZCFJSBgQHnNUhI63Xu3BmFhYWwsLAQaU9JSYGlpaV8knpLbdiwAQsXLkRYWBjs7e3FNlTr6enJKbM3Y2pqitOnT2Pw4MEYNWoUdu3apRBLjR06dEB0dDRWrFiB48ePIyUlBTdv3sTz589hZGQET09PjBkzhrOLrcvKylBfXy/WXl9fj3v37gEATExM8OzZM4lj0aCJEAW1fft2eadAXjF79mwEBARg27Zt4PF4uHv3LtLS0hASEoLFixfLO723ioGBAZ4+fSosOtmEMQYej4eGhgY5ZfZ6hoaGzQ6KampqcPToUXTo0EHYpgib2TU1NfHhhx/iww8/lGqc4cOHY86cOYiJiYGTkxOAl8VtP/vsM+Hfgdzc3Nfe59dSNGgihBAOLFy4EI2NjXBzc0NNTQ2GDBkCdXV1hISEwN/fX97pvVU8PT2hqqqKvXv3KtRG8G+//VbeKSik2NhYeHl5wcXFRTirWF9fDzc3N+FGeh0dHURFRUkci0oOEKLADh06hAMHDqC0tFRYlbgJl0XjSMvV1taisLAQVVVV6NWrF3R0dOSd0ltHS0sLWVlZsLGxkXcqRIby8vKQl5cH4GXNOmn8/GmmiRAFtX79enz99df4+OOPceTIEfj4+KCoqAgXLlzA3Llz5Z3eW0tNTQ29evWSdxpvtb59++LWrVsKP2hqaGjATz/9hGvXrgEA7OzsMHHiRE7qDSkjaQ2UXkUzTYQoKFtbW3zzzTeYNm0adHV1kZOTA0tLS4SFhaGiogLfffedvFMkRC4OHjyIJUuWIDQ0FA4ODmIbwZuuHWrLCgsLMXbsWNy5c0c4EMjLy4OpqSmOHz8uclKMyA4NmghRUFpaWrh27RrMzc3RsWNHnD59Gn369EFBQQEGDhyIR48eyTtFQuSiuSP5PB6vzW8Ef9XYsWPBGMOePXvQvn17AC8rnc+YMQN8Ph/Hjx+Xc4ZvJ1qeI0RBde7cGRUVFTA3N4eZmRnS09PRp08flJSUgN4LkbdZSUmJvFOQWHJyMtLT04UDJuDlUf7IyEi4urrKMbM3t2vXLmzatAklJSVIS0uDubk5vv32WwgEAnzwwQfyTu+NtO0KWYSQvzVixAj8/PPPAAAfHx8EBgZi1KhR8PDwgLu7u5yzI0R+zM3NX/uhCNTV1ZutK1RVVQU1NTU5ZNQ6GzduRFBQEMaOHYvKykrhLJ+BgYFCnhak5TlCFFRjYyMaGxvRrt3LCeP9+/fj3LlzsLa2xpw5cxTqhZUQabh69WqzJ0snTpwop4xaztvbG5mZmYiNjUX//v0BAOfPn8fs2bPh4uKCHTt2yDfBFurVqxdWrlyJSZMmiey9vHz5MoYNG4aHDx9yEqeyshIZGRnNXtDs7e3NSQyABk2EKKzS0lKYmpqK1aBhjOHWrVtvdGEmIcqkuLgY7u7uyM3NFe5lAiD8t6IIe5oqKysxc+ZMHD16VKT20MSJE7Fjxw7o6+vLOcOW0dTUxPXr12Fubi4yaCooKEDv3r05ue7m6NGj8PT0RFVVFfT09EReE3k8HqeFQGl5jhAFJRAIUF5eLtZeUVHBSeVbQhRVQEAABAIBHjx4AC0tLVy5cgW///47+vbti99++03e6bWIgYEBjhw5gry8PBw8eBCHDh1CXl4efvzxR4UZMAEvX6eys7PF2k+dOoWePXtyEiM4OBizZs1CVVUVKisr8fjxY+EH15XTaSM4IQqq6STQX1VVVUFDQ0MOGRHSNqSlpeHMmTMwMjICn88Hn8/Hu+++i4iICMybNw9ZWVnyTrHFrK2t0b17dwBQmMrmrwoKCsLcuXPx4sULMMaQkZGBffv2ISIiAjExMZzEuHPnDubNmwctLS1O+nsdGjQRomCCgoIAvHwBXbx4scgLRUNDA86fPw9HR0c5ZUeI/DU0NEBXVxcAYGRkhLt378LGxgbm5ubCitGKYOfOnVi9ejUKCgoAAD169EBoaCi8vLzknFnL+fn5QVNTE4sWLUJNTQ2mT58OExMTrFu3DlOnTuUkxpgxY3Dx4kWZXIxNgyZCFEzTu2TGGHJzc0U2fKupqaFPnz4ICQmRV3qEyJ29vT1ycnIgEAgwYMAArFq1CmpqatiyZYtMfrFyITo6GosXL8YXX3whLDGQkpKCTz/9FA8fPkRgYKCcM2w5T09PeHp6oqamBlVVVejYsaPEfTadHAaAcePGITQ0FFevXm22mCmXG/9pIzghCsrHxwfr1q2Dnp6evFMhpE355ZdfUF1djcmTJ6OwsBDjx49Hfn4+OnTogPj4eIwYMULeKf4jgUCApUuXip38iouLw5IlS5SiFpUkmitg2hyui5nSoIkQQojSq6iogKGhocLsC9LQ0MDly5eF+5maFBQUwMHBAS9evJBTZm/m0aNHCAsLQ1JSUrPlALjeqC1ttDxHCCFE6b1aWVsRdO/eHQcOHMC///1vkfb4+HhYW1vLKas35+XlhcLCQvj6+qJTp05SGbTu3LkTHh4eUFdXF2mvra3F/v37qU4TIYQQ8neqq6sRGRmJxMTEZmc3iouL5ZRZyx0+fBgeHh4YOXKkcE9TamoqEhMTceDAAYWp+q+rq4uUlBT06dNHajFUVFRQVlYmtlfq0aNH6NixI6fLczTTRAghRKn4+fkhOTkZXl5e6NKli8Isyb1qypQpOH/+PNauXYuffvoJANCzZ09kZGTAyclJvsm9AVtbW04KWL7O35VfuX37Nuc1rWimiRBCiFIxMDDA8ePHFe5iW2V04cIFLFy4EGFhYbC3txc72SbJQRYnJyfweDzk5OTAzs5OeKUU8LLsRElJCd577z0cOHCg1TH+imaaCCGEKBVDQ0OF28PUnIaGBvz444+4du0agJf3uH3wwQcig4O2zsDAAE+fPhU7sdg0OyTJ0tmkSZMAANnZ2RgzZgx0dHSEj6mpqcHCwgJTpkxpdf/NoZkmQgghSmX37t04cuQI4uLiZFIlWhquXLmCiRMn4t69e7CxsQEA5Ofnw9jYGEePHoW9vb2cM2yZ/v37o127dggICGh2I/jQoUMljhEXFwcPDw+Z3IRAgyZCCCFKxcnJCUVFRWCMwcLCQmxJKDMzU06ZtdygQYNgbGyMuLg4GBoaAgAeP36Mjz/+GOXl5Th37pycM2wZLS0tZGVlCQd+slBXVyf2M+eK4szxEUIIIS3QtGyjyLKzs3Hx4kXhgAl4uey4YsUK9OvXT46ZvZm+ffvi1q1bUhk0HThwAJMmTRLeivDdd99h9erVuH37NgwNDTFv3jyEhYVxGpMGTYQQQpTKN998I+8UJNajRw/cv38fdnZ2Iu0PHjwQK3jZlvn7+yMgIAChoaHNXnHSu3fvVvc9bdo0YamB7du3IzQ0FPPnz8eAAQOQlZWFiIgImJiYwM/PT9JvQ4iW5wghhJA24OnTp8LPU1JSMH/+fCxZsgQDBw4EAKSnpyM8PByRkZEYO3asvNJ8I81dd8Lj8TjZCM7n83Hv3j107NgRAwYMwIcffojQ0FDh4xs3bsTWrVs5XY6lQRMhhBDSBvD5fJGN0k2/npvaXv2ay4KN0nTz5s3XPm5ubt7qvvl8Pu7fvw9jY2MYGxvj119/FSmiWVRUBCcnJ5HBqKRoeY4QQghpA5KSkuSdAuckGRS1xKlTp6Cvrw8NDQ3U1NSIPPbixQvOC5vSoIkQQghpA7g4ft9WXb16FaWlpaitrRVpnzhxokT9zpw5U/j5mTNnMGjQIOHX6enpsLKykqj/v6JBEyGEENIGnT17Fps3b0ZxcTEOHjyIrl27YteuXRAIBHj33XflnV6LFBcXw93dHbm5ucK9TMD/lhwlWWb8652Cf9WpUydERES0uv/m0KCJEEKIwgsKCmrxc6Ojo6WYCTcOHz4MLy8veHp6IjMzE3/++ScA4MmTJ1i5ciVOnDgh5wxbJiAgAAKBAImJiRAIBMjIyMCjR48QHByMNWvWSDX2+PHjOe+TNoITQghReMOHDxf5OjMzE/X19SLVtFVUVODi4oIzZ87II8U34uTkhMDAQHh7e0NXVxc5OTmwtLREVlYW3n//fdy7d0/eKbaIkZERzpw5g969e0NfXx8ZGRmwsbHBmTNnEBwcjKysrFb1W1paCjMzsxY//86dO+jatWurYr1K/CwgIYQQomCSkpKEHxMmTMDQoUNx+/ZtZGZmIjMzE7du3cLw4cMxbtw4eafaInl5eRgyZIhYu76+PiorK2WfUCs1NDRAV1cXwMsB1N27dwG83CCel5fX6n779euHOXPm4MKFC3/7nCdPnmDr1q2wt7fH4cOHWx3rVbQ8RwghRKlERUUhISFBrJr28uXLMXr0aAQHB8sxu5bp3LkzCgsLYWFhIdKekpICS0tL+STVCvb29sjJyYFAIMCAAQOwatUqqKmpYcuWLRJ9H1evXsWKFSswatQoaGhowMXFBSYmJtDQ0MDjx49x9epVXLlyBc7Ozli1ahVnda1opokQQohSefr0KcrLy8Xay8vL8ezZMzlk9OZmz56NgIAAnD9/HjweD3fv3sWePXsQEhKCzz77TN7ptdiiRYuEG7bDw8NRUlKCwYMH48SJE1i/fn2r++3QoQOio6NRVlaG7777DtbW1nj48CEKCgoAAJ6envjjjz+QlpbGaSFQ2tNECCFEqXh7e+Ps2bOIiopC//79AQDnz59HaGgoBg8ejLi4ODln+M8YY1i5ciUiIiKE9YfU1dUREhKCZcuWyTk7yVRUVMDQ0JDzGkqyQIMmQgghSqWmpgYhISHYtm0b6urqAADt2rWDr68vVq9eDW1tbTln2HK1tbUoLCxEVVUVevXqBR0dHXmn9FajQRMhhBClVF1djaKiIgCAlZWVQg2WlEV1dTUiIyORmJiIBw8eiNVWKi4ullNmrUMbwQkhhCglbW1t9O7dW95pvNX8/PyQnJwMLy8vdOnSRSGX5F5FM02EEEKUirLNbigyAwMDHD9+HK6urvJOhRM000QIIUSpKNvshiIzNDRE+/bt5Z0GZ2imiRBCiFJRttkNRbZ7924cOXIEcXFx0NLSklqcXbt2YdOmTSgpKUFaWhrMzc3x7bffQiAQ4IMPPuAsDtVpIoQQolSUbXZDkUVFReGXX35Bp06d4ODgAGdnZ5EPLmzcuBFBQUEYO3YsKisrhZcAGxgY4Ntvv+UkRhOaaSKEEKJUZDW7Qf7Z0qVLX/v4N998I3GMXr16YeXKlZg0aZLIPX2XL1/GsGHD8PDhQ4ljNKFBEyGEEKXi5OSEoqIiMMZgYWEBVVVVkcczMzPllBmRBk1NTVy/fh3m5uYig6aCggL07t0bz58/5ywWbQQnhBCiVCZNmiTvFIgMCQQCZGdnw9zcXKT91KlT6NmzJ6exaNBECCFEqXCx5EMUR1BQEObOnYsXL16AMYaMjAzs27cPERERiImJ4TQWLc8RQgghRKHt2bMHS5YsEVaANzExwdKlS+Hr68tpHBo0EUIIUSoNDQ1Yu3YtDhw4gNLSUtTW1oo8XlFRIafMiLTV1NSgqqoKHTt2lEr/VHKAEEKIUlm6dCmio6Ph4eGBJ0+eICgoCJMnTwafz8eSJUvknR6RIi0tLakNmACaaSKEEKJkrKyssH79eowbNw66urrIzs4WtqWnp2Pv3r3yTlGpBQUFtfi50dHREsd79OgRwsLCkJSU1Oy1OVzOLNJGcEIIIUrl3r17cHBwAADo6OjgyZMnAIDx48dj8eLF8kztrZCVlSXydWZmJurr62FjYwMAyM/Ph4qKClxcXDiJ5+XlhcLCQvj6+qJTp05SvTaHBk2EEEKUSrdu3VBWVgYzMzNYWVkhISEBzs7OuHDhAtTV1eWdntJLSkoSfh4dHQ1dXV3ExcXB0NAQAPD48WP4+Phg8ODBnMQ7e/YsUlJS0KdPH076ex3a00QIIUSpuLu7IzExEQDg7++PxYsXw9raGt7e3pg1a5acs3u7REVFISIiQjhgAl5ec7N8+XJERUVxEsPW1pbTApavQzNNhBBClEpkZKTwcw8PD5ibm+PcuXOwtrbGhAkT5JjZ2+fp06coLy8Xay8vL8ezZ884ibFhwwYsXLgQYWFhsLe3F6sAr6enx0kcgAZNhBBClEhdXR3mzJmDxYsXQyAQAAAGDhyIgQMHyjmzt5O7uzt8fHwQFRWF/v37AwDOnz+P0NBQTJ48mZMYBgYGePr0KUaMGCHSzhgDj8cTXuDLBTo9RwghRKno6+sjOztbOGgi8lNTU4OQkBBs27YNdXV1AIB27drB19cXq1evhra2tsQx+vfvj3bt2iEgIKDZjeBDhw6VOEYTGjQRQghRKjNnzoSjoyMCAwPlnQr5f9XV1cJq3VZWVpwMlppoaWkhKytLeDpPmmh5jhBCiFKxtrZGeHg4UlNT4eLiIvYLet68eXLK7O2lra2N3r17S6Xvvn374tatWzIZNNFMEyGEEKXyumU5Ho+H4uJiGWbzdquurkZkZCQSExObLTzJxc/i4MGDWLJkCUJDQ+Hg4CC2EZzLwRoNmgghhBAiFdOmTUNycjK8vLzQpUsXsf1GAQEBEsfg88WrJ/F4PNoITgghhLyJpl9x0qwSTf6egYEBjh8/DldXV6nFuHnz5msfNzc35ywW7WkihBCidGJjY7F27VoUFBQAeLnP6csvv4Sfn5+cM3u7GBoaon379lKNweWg6J/QTBMhhBClEhYWhujoaPj7+2PQoEEAgLS0NHz33XcIDAxEeHi4nDN8e+zevRtHjhxBXFwctLS0pBrr6tWrKC0tRW1trUj7xIkTOYtBgyZCCCFKxdjYGOvXr8e0adNE2vft2wd/f388fPhQTpm9fZycnFBUVATGGCwsLMQ2aWdmZkoco7i4GO7u7sjNzRXuZQL+tyTL5Z4mWp4jhBCiVOrq6tC3b1+xdhcXF9TX18sho7fXpEmTpB4jICAAAoEAiYmJEAgEyMjIwKNHjxAcHIw1a9ZwGotmmgghhCgVf39/qKqqIjo6WqQ9JCQEz58/x/fffy+nzIg0GBkZ4cyZM+jduzf09fWRkZEBGxsbnDlzBsHBwcjKyuIsFs00EUIIUXhBQUHCz3k8HmJiYpCQkCC8c+78+fMoLS2Ft7e3vFIkUtLQ0ABdXV0ALwdQd+/ehY2NDczNzZGXl8dpLBo0EUIIUXh/nU1wcXEBAOHVHUZGRjAyMsKVK1dkntvbrKGhAWvXrsWBAwea3aRdUVEhcQx7e3vk5ORAIBBgwIABWLVqFdTU1LBlyxZYWlpK3P+raNBECCFE4SUlJck7BdKMpUuXIiYmBsHBwVi0aBG+/vpr3LhxAz/99BPCwsI4ibFo0SJUV1cDAMLDwzF+/HgMHjwYHTp0QHx8PCcxmtCeJkIIIYRIhZWVFdavX49x48ZBV1cX2dnZwrb09HTs3btXKnErKipgaGjIeVFT8drjhBBCCCEcuHfvHhwcHAAAOjo6ePLkCQBg/PjxOH78uNTitm/fXipV4Gl5jhBCCCFS0a1bN5SVlcHMzAxWVlZISEiAs7MzLly4AHV1dU5iyOJS4CY0aCKEEEKIVLi7uyMxMREDBgyAv78/ZsyYgdjYWJSWliIwMJCTGH5+fq+9FJhLtKeJEEIIITKRnp6Oc+fOwdraGhMmTOCkT1lcCtyEZpoIIYQQwrm6ujrMmTMHixcvhkAgAAAMHDhQWDuLK7K4FLgJbQQnhBBCCOdUVVVx+PBhqcdZtmwZwsLCUFNTI/VYtDxHCCGEEKmYOXMmHB0dOdu/1BxZXArchJbnCCGEECIV1tbWCA8PR2pqKlxcXKCtrS3y+Lx58ySOIYtLgZvQTBMhhBBCpKJpL1NzeDwep+UAZIEGTYQQQgghLUAbwQkhhBAidYwxKPo8DQ2aCCGEECI1sbGxsLe3h4aGBjQ0NGBvb4+YmBh5p9UqtBGcEEIIIVIRFhaG6Oho+Pv7Y9CgQQCAtLQ0BAYGorS0FOHh4XLO8M3QniZCCCGESIWxsTHWr1+PadOmibTv27cP/v7+ePjwoZwyax2aaSKEEEKIVNTV1aFv375i7S4uLqivr291v0FBQS1+bnR0dKvj/BUNmgghhBAiFV5eXti4caPYwGXLli3w9PRsdb9ZWVkiX2dmZqK+vh42NjYAgPz8fKioqMDFxaXVMZpDgyZCCCGEcObVWSAej4eYmBgkJCQI75w7f/48SktL4e3t3eoYSUlJws+jo6Ohq6uLuLg4GBoaAgAeP34MHx8fDB48uNUxmkN7mgghhBDCmeHDh7foeTweD2fOnJE4XteuXZGQkAA7OzuR9suXL2P06NG4e/euxDGa0EwTIYQQQjjz6iyQLDx9+hTl5eVi7eXl5Xj27BmnsahOEyGEEEIUlru7O3x8fPDDDz/g9u3buH37Ng4fPgxfX19MnjyZ01i0PEcIIYQQhVVTU4OQkBBs27YNdXV1AIB27drB19cXq1evFrskWBI0aCKEEEKIwquurkZRUREAwMrKitPBUhMaNBFCCCGEtABtBCeEEEKIwqqurkZkZCQSExPx4MEDNDY2ijxeXFzMWSwaNBFCCCFEYfn5+SE5ORleXl7o0qULeDye1GLR8hwhhBBCFJaBgQGOHz8OV1dXqceikgOEEEIIUViGhoZo3769TGLRoIkQQgghCmvZsmUICwtDTU2N1GPR8hwhhBBCFJaTkxOKiorAGIOFhQVUVVVFHs/MzOQsFm0EJ4QQQojCmjRpksxi0UwTIYQQQkgL0J4mQgghhJAWoOU5QgghhCishoYGrF27FgcOHEBpaSlqa2tFHq+oqOAsFs00EUIIIURhLV26FNHR0fDw8MCTJ08QFBSEyZMng8/nY8mSJZzGoj1NhBBCCFFYVlZWWL9+PcaNGwddXV1kZ2cL29LT07F3717OYtFMEyGEEEIU1r179+Dg4AAA0NHRwZMnTwAA48ePx/HjxzmNRYMmQgghhCisbt26oaysDMDLWaeEhAQAwIULF6Curs5pLBo0EUIIIURhubu7IzExEQDg7++PxYsXw9raGt7e3pg1axansWhPEyGEEEKURnp6Os6dOwdra2tMmDCB075p0EQIIYQQhVRXV4c5c+Zg8eLFEAgEUo9Hy3OEEEIIUUiqqqo4fPiwzOLRoIkQQgghCmvSpEn46aefZBKLKoITQgghRGFZW1sjPDwcqampcHFxgba2tsjj8+bN4ywW7WkihBBCiMJ63V4mHo+H4uJizmLRoIkQQgghpAVoTxMhhBBClAJjDNKcC6JBEyGEEEIUWmxsLOzt7aGhoQENDQ3Y29sjJiaG8zi0EZwQQgghCissLAzR0dHw9/fHoEGDAABpaWkIDAxEaWkpwsPDOYtFe5oIIYQQorCMjY2xfv16TJs2TaR937598Pf3x8OHDzmLRctzhBBCCFFYdXV16Nu3r1i7i4sL6uvrOY1FgyZCCCGEKCwvLy9s3LhRrH3Lli3w9PTkNBbtaSKEEEKIQgkKChJ+zuPxEBMTg4SEBAwcOBAAcP78eZSWlsLb25vTuLSniRBCCCEKZfjw4S16Ho/Hw5kzZziLS4MmQgghhJAWoD1NhBBCCCEtQIMmQgghhJAWoEETIYQQQkgL0KCJEEIIIaQFaNBECCGEENICNGgihBAZ2bFjBwwMDOSdBiGklWjQRAhRSkuWLIGjo6O80xDh4eGB/Px8eadBCGklqghOCCEyUFdXB01NTWhqaso7FUJIK9FMEyGkzWpsbMSqVavQvXt3qKurw8zMDCtWrAAALFiwAD169ICWlhYsLS2xePFi1NXVAXi5DLZ06VLk5OSAx+OBx+Nhx44dAIDKykr4+fnB2NgYenp6GDFiBHJyckTiLl++HB07doSuri78/PywcOFCkVmrxsZGhIeHo1u3blBXV4ejoyNOnTolfPzGjRvg8XiIj4/H0KFDoaGhgT179jS7PHfkyBE4OztDQ0MDlpaWWLp0qfCSUcYYlixZAjMzM6irq8PExATz5s3j+E+ZENJSNNNECGmzvvrqK2zduhVr167Fu+++i7KyMly/fh0AoKurix07dsDExAS5ubmYPXs2dHV1MX/+fHh4eODy5cs4deoUfv31VwCAvr4+AOCjjz6CpqYmTp48CX19fWzevBlubm7Iz89H+/btsWfPHqxYsQIbNmyAq6sr9u/fj6ioKAgEAmFe69atQ1RUFDZv3gwnJyds27YNEydOxJUrV2BtbS183sKFCxEVFQUnJydoaGjgl19+Efn+zp49C29vb6xfvx6DBw9GUVERPvnkEwDAN998g8OHD2Pt2rXYv38/7OzscO/ePbEBHiFEhhghhLRBT58+Zerq6mzr1q0tev7q1auZi4uL8OtvvvmG9enTR+Q5Z8+eZXp6euzFixci7VZWVmzz5s2MMcYGDBjA5s6dK/K4q6urSF8mJiZsxYoVIs/p168f+/zzzxljjJWUlDAA7NtvvxV5zvbt25m+vr7wazc3N7Zy5UqR5+zatYt16dKFMcZYVFQU69GjB6utrf2H754QIgu0PEcIaZOuXbuGP//8E25ubs0+Hh8fD1dXV3Tu3Bk6OjpYtGgRSktLX9tnTk4Oqqqq0KFDB+jo6Ag/SkpKUFRUBADIy8tD//79Rf6/V79++vQp7t69C1dXV5HnuLq64tq1ayJtffv2/cd8wsPDRXKZPXs2ysrKUFNTg48++gjPnz+HpaUlZs+ejR9//FG4dEcIkT1aniOEtEmv2zCdlpYGT09PLF26FGPGjIG+vr5wGe11qqqq0KVLF/z2229ij0mjFIC2tvY/5rN06VJMnjxZ7DENDQ2YmpoiLy8Pv/76K06fPo3PP/8cq1evRnJyMlRVVTnPlxDyejRoIoS0SdbW1tDU1ERiYiL8/PxEHjt37hzMzc3x9ddfC9tu3rwp8hw1NTU0NDSItDk7O+PevXto164dLCwsmo1rY2ODCxcuwNvbW9h24cIF4ed6enowMTFBamoqhg4dKmxPTU0Vm6H6J87OzsjLy0P37t3/9jmampqYMGECJkyYgLlz58LW1ha5ublwdnZ+o1iEEMnRoIkQ0iZpaGhgwYIFmD9/PtTU1ODq6ory8nLhZuvS0lLs378f/fr1w/Hjx/Hjjz+K/P8WFhYoKSlBdnY2unXrBl1dXYwcORKDBg3CpEmTsGrVKvTo0QN3797F8ePH4e7ujr59+8Lf3x+zZ89G37598c477yA+Ph6XLl2CpaWlsO/Q0FB88803sLKygqOjI7Zv347s7Gzs2bPnjb7HsLAwjB8/HmZmZvjwww/B5/ORk5ODy5cvY/ny5dixYwcaGhowYMAAaGlpYffu3dDU1IS5uTknf8aEkDck701VhBDydxoaGtjy5cuZubk5U1VVZWZmZsKN06GhoaxDhw5MR0eHeXh4sLVr14pssn7x4gWbMmUKMzAwYADY9u3bGWMvN5j7+/szExMTpqqqykxNTZmnpycrLS0V/r/h4eHMyMiI6ejosFmzZrF58+axgQMHiuS1ZMkS1rVrV6aqqsr69OnDTp48KXy8aSN4VlaWyPfz143gjDF26tQp9s477zBNTU2mp6fH+vfvz7Zs2cIYY+zHH39kAwYMYHp6ekxbW5sNHDiQ/frrrxz8yRJCWoPHGGPyHrgRQkhbNmrUKHTu3Bm7du2SdyqEEDmi5TlCCHlFTU0NNm3ahDFjxkBFRQX79u0TbsQmhLzdaKaJEEJe8fz5c0yYMAFZWVl48eIFbGxssGjRomZPuBFC3i40aCKEEEIIaQEqbkkIIYQQ0gI0aCKEEEIIaQEaNBFCCCGEtAANmgghhBBCWoAGTYQQQgghLUCDJkIIIYSQFqBBEyGEEEJIC9CgiRBCCCGkBf4PtSHtsdLno3IAAAAASUVORK5CYII=",
      "text/plain": [
       "<Figure size 640x480 with 1 Axes>"
      ]
     },
     "metadata": {},
     "output_type": "display_data"
    }
   ],
   "source": [
    "category_frequency_df = pd.DataFrame([category_frequency]).T.reset_index().head(20)\n",
    "category_frequency_df.columns = ['categories', 'count']\n",
    "\n",
    "sns.barplot(x='categories', y='count', hue=\"categories\", data=category_frequency_df.sort_values(by='count', ascending=False))\n",
    "plt.xticks(rotation=90)\n",
    "plt.show()"
   ]
  },
  {
   "cell_type": "code",
   "execution_count": 33,
   "id": "d411cae9-b351-4e5a-a419-67092723377c",
   "metadata": {},
   "outputs": [
    {
     "name": "stdout",
     "output_type": "stream",
     "text": [
      "The 5 most common categories: \n",
      " [('electronics', 34921), ('computers & tablets', 21461), ('tablets', 21125), ('all tablets', 18155), ('ipad & tablets', 17784)]\n"
     ]
    }
   ],
   "source": [
    "print(\"The 5 most common categories: \\n\", category_frequency.most_common(5))"
   ]
  },
  {
   "cell_type": "markdown",
   "id": "182d6842-cf9e-4c43-af1c-d17511d587f3",
   "metadata": {},
   "source": [
    "## FINDING THE BESTSELLING PRODUCTS IN EACH OF THE TOP 5 CATEGORIES"
   ]
  },
  {
   "cell_type": "code",
   "execution_count": 34,
   "id": "aef1d6b8-f8cf-4198-a6aa-9aeab5a741f2",
   "metadata": {},
   "outputs": [],
   "source": [
    "# List of top 5 categories\n",
    "top_categories = ['electronics', 'computers & tablets', 'tablets', 'all tablets', 'ipad and tablets']"
   ]
  },
  {
   "cell_type": "code",
   "execution_count": 35,
   "id": "7509a795-2425-46cf-b9a7-3da6a4c949bf",
   "metadata": {},
   "outputs": [],
   "source": [
    "# Function to get top selling products for a category\n",
    "def get_top_selling_products(df, category, top_n=5):\n",
    "    # Filter the dataset for the given category\n",
    "    category_df = df[df['categories'].apply(lambda x: category in x)]\n",
    "    \n",
    "    # Aggregate by product to get total reviews and average rating\n",
    "    top_products = category_df.groupby('product').agg({\n",
    "        'reviews': 'sum',\n",
    "        'rating': 'mean'\n",
    "    }).reset_index()\n",
    "    \n",
    "    # Sort by total reviews and get the top N products\n",
    "    top_products = top_products.sort_values(by='reviews', ascending=False).head(top_n)\n",
    "    \n",
    "    return top_products"
   ]
  },
  {
   "cell_type": "code",
   "execution_count": 40,
   "id": "43fd1437-c116-40d6-afcb-caa863fb7fd6",
   "metadata": {},
   "outputs": [
    {
     "name": "stdout",
     "output_type": "stream",
     "text": [
      "Top selling products in category 'electronics':\n",
      "                                              product   \n",
      "26  retail brand brand name xyz brand hd 3rd gener...  \\\n",
      "32  retail brand xyz brand hd 6 standing protectiv...   \n",
      "21  retail brand 5w usb official oem charger and p...   \n",
      "15  electronics brand product name tablet a 10.1 t...   \n",
      "27   retail brand echo and xyz brand tv power adapter   \n",
      "\n",
      "                                              reviews    rating  \n",
      "26  what is there to say, but that i love it. func...  5.000000  \n",
      "32  what an amazing device. i can ask it questions...  5.000000  \n",
      "21  this was a gift from me to myself. i am very p...  4.714286  \n",
      "15  this product so far has not disappointed. my c...  4.586709  \n",
      "27  this is the first e-reader i've gotten and i l...  4.875000  \n",
      "\n",
      "--------------------------------------------------------------------\n",
      "\n",
      "Top selling products in category 'computers & tablets':\n",
      "                                              product   \n",
      "19  retail brand brand name xyz brand hd 3rd gener...  \\\n",
      "1   brand name oasis ereader with leather charging...   \n",
      "12  electronics brand product name tablet a 10.1 t...   \n",
      "11  electronics brand product name tablet a 10.1 t...   \n",
      "20   retail brand echo and xyz brand tv power adapter   \n",
      "\n",
      "                                              reviews    rating  \n",
      "19  what is there to say, but that i love it. func...  5.000000  \n",
      "1   very lightweight and portable with excellent b...  4.611940  \n",
      "12  through all of my research this was the best v...  4.568493  \n",
      "11  this product so far has not disappointed. my c...  4.586709  \n",
      "20  this is the first e-reader i've gotten and i l...  4.875000  \n",
      "\n",
      "--------------------------------------------------------------------\n",
      "\n",
      "Top selling products in category 'tablets':\n",
      "                                              product   \n",
      "11  electronics brand product name tablet a 10.1 t...  \\\n",
      "10  electronics brand product name tablet a 10.1 t...   \n",
      "18   retail brand echo and xyz brand tv power adapter   \n",
      "8   certified refurbished electronics brand tv wit...   \n",
      "1                               brand name paperwhite   \n",
      "\n",
      "                                              reviews    rating  \n",
      "11  through all of my research this was the best v...  4.568493  \n",
      "10  this product so far has not disappointed. my c...  4.586709  \n",
      "18  this is the first e-reader i've gotten and i l...  4.875000  \n",
      "8   this is my third brand name and is the best by...  5.000000  \n",
      "1   this is my 2 nd brand name. i bought this beca...  4.888889  \n",
      "\n",
      "--------------------------------------------------------------------\n",
      "\n",
      "Top selling products in category 'all tablets':\n",
      "                                              product   \n",
      "18  retail brand brand name xyz brand hd 3rd gener...  \\\n",
      "11  electronics brand product name tablet a 10.1 t...   \n",
      "3   brand name voyage ereader 6 highresolution dis...   \n",
      "10  electronics brand product name tablet a 10.1 t...   \n",
      "19   retail brand echo and xyz brand tv power adapter   \n",
      "\n",
      "                                              reviews    rating  \n",
      "18  what is there to say, but that i love it. func...  5.000000  \n",
      "11  through all of my research this was the best v...  4.568493  \n",
      "3   this was a gift for my wife, she had a previou...  4.716867  \n",
      "10  this product so far has not disappointed. my c...  4.586709  \n",
      "19  this is the first e-reader i've gotten and i l...  4.875000  \n",
      "\n",
      "--------------------------------------------------------------------\n",
      "\n",
      "Top selling products in category 'ipad and tablets':\n",
      "Empty DataFrame\n",
      "Columns: [product, reviews, rating]\n",
      "Index: []\n",
      "\n",
      "--------------------------------------------------------------------\n",
      "\n"
     ]
    }
   ],
   "source": [
    "# Get top selling products for each top category\n",
    "top_selling_products_by_category = {}\n",
    "for category in top_categories:\n",
    "    top_selling_products_by_category[category] = get_top_selling_products(df, category)\n",
    "\n",
    "# Display the top selling products for each category    \n",
    "for category, products in top_selling_products_by_category.items():\n",
    "    print(f\"Top selling products in category '{category}':\")\n",
    "    print(products)\n",
    "    print(\"\\n--------------------------------------------------------------------\\n\")"
   ]
  },
  {
   "cell_type": "markdown",
   "id": "9a08f227-6935-4b52-84f3-1e36dd779886",
   "metadata": {},
   "source": [
    "## ANALYZING LEAST SELLING PRODUCTS"
   ]
  },
  {
   "cell_type": "code",
   "execution_count": 42,
   "id": "68228fcc-61ef-4b58-ae9e-db65e7eeef1f",
   "metadata": {},
   "outputs": [
    {
     "name": "stderr",
     "output_type": "stream",
     "text": [
      "C:\\Users\\mayur\\AppData\\Local\\Temp\\ipykernel_16036\\1148434654.py:6: SettingWithCopyWarning: \n",
      "A value is trying to be set on a copy of a slice from a DataFrame.\n",
      "Try using .loc[row_indexer,col_indexer] = value instead\n",
      "\n",
      "See the caveats in the documentation: https://pandas.pydata.org/pandas-docs/stable/user_guide/indexing.html#returning-a-view-versus-a-copy\n",
      "  least_selling_products['unfavorable_review'] = least_selling_products['rating'] < 3\n"
     ]
    }
   ],
   "source": [
    "# Defining least selling products as those with fewer reviews and rating less than 3\n",
    "\n",
    "df['reviews_count'] = df['reviews'].apply(lambda x: len(x.split()))\n",
    "least_selling_products = df[df['reviews_count'] < df['reviews_count'].median()]\n",
    "\n",
    "least_selling_products['unfavorable_review'] = least_selling_products['rating'] < 3"
   ]
  },
  {
   "cell_type": "markdown",
   "id": "c9c1c60c-166d-4ff6-aa1d-2c197f0812dc",
   "metadata": {},
   "source": [
    "### FEATURE ENGINEERING"
   ]
  },
  {
   "cell_type": "code",
   "execution_count": 43,
   "id": "0d11025e-437c-4b64-93a5-1bd291e7bf12",
   "metadata": {},
   "outputs": [],
   "source": [
    "from sklearn.model_selection import train_test_split\n",
    "from sklearn.feature_extraction.text import TfidfVectorizer\n",
    "from sklearn.preprocessing import LabelEncoder\n",
    "from sklearn.ensemble import RandomForestClassifier\n",
    "from sklearn.metrics import classification_report"
   ]
  },
  {
   "cell_type": "code",
   "execution_count": 44,
   "id": "733ec06c-83dc-4482-a91c-4779d07dda70",
   "metadata": {},
   "outputs": [
    {
     "name": "stderr",
     "output_type": "stream",
     "text": [
      "C:\\Users\\mayur\\AppData\\Local\\Temp\\ipykernel_16036\\2688080368.py:4: SettingWithCopyWarning: \n",
      "A value is trying to be set on a copy of a slice from a DataFrame.\n",
      "Try using .loc[row_indexer,col_indexer] = value instead\n",
      "\n",
      "See the caveats in the documentation: https://pandas.pydata.org/pandas-docs/stable/user_guide/indexing.html#returning-a-view-versus-a-copy\n",
      "  least_selling_products['product_encoded'] = le_product.fit_transform(least_selling_products['product'])\n",
      "C:\\Users\\mayur\\AppData\\Local\\Temp\\ipykernel_16036\\2688080368.py:5: SettingWithCopyWarning: \n",
      "A value is trying to be set on a copy of a slice from a DataFrame.\n",
      "Try using .loc[row_indexer,col_indexer] = value instead\n",
      "\n",
      "See the caveats in the documentation: https://pandas.pydata.org/pandas-docs/stable/user_guide/indexing.html#returning-a-view-versus-a-copy\n",
      "  least_selling_products['category_encoded'] = le_category.fit_transform(least_selling_products['categories'].apply(lambda x: x[0]))\n"
     ]
    }
   ],
   "source": [
    "le_product = LabelEncoder()\n",
    "le_category = LabelEncoder()\n",
    "\n",
    "least_selling_products['product_encoded'] = le_product.fit_transform(least_selling_products['product'])\n",
    "least_selling_products['category_encoded'] = le_category.fit_transform(least_selling_products['categories'].apply(lambda x: x[0]))"
   ]
  },
  {
   "cell_type": "code",
   "execution_count": 45,
   "id": "6419649f-cedd-4daf-b45c-fd7e82e9b337",
   "metadata": {},
   "outputs": [],
   "source": [
    "# Vectorize the review texts\n",
    "tfidf = TfidfVectorizer(max_features=5000)\n",
    "reviews_tfidf = tfidf.fit_transform(least_selling_products['reviews'])"
   ]
  },
  {
   "cell_type": "code",
   "execution_count": 46,
   "id": "db816eb9-808f-437e-a466-b9b183bb34ec",
   "metadata": {},
   "outputs": [],
   "source": [
    "# Combine features into a single DataFrame\n",
    "features = pd.DataFrame(reviews_tfidf.toarray())\n",
    "features['product'] = least_selling_products['product_encoded']\n",
    "features['category'] = least_selling_products['category_encoded']\n",
    "features['rating'] = least_selling_products['rating']\n",
    "features['doRecommend'] = least_selling_products['doRecommend']"
   ]
  },
  {
   "cell_type": "markdown",
   "id": "e749c5f9-f93c-4a66-b877-0adfaee99abb",
   "metadata": {},
   "source": [
    "### MODEL BUILDING"
   ]
  },
  {
   "cell_type": "code",
   "execution_count": 48,
   "id": "9fd0117d-5199-490e-a587-99bf0bf7c956",
   "metadata": {},
   "outputs": [],
   "source": [
    "features.columns = features.columns.astype(str)\n",
    "\n",
    "# target variable\n",
    "target = least_selling_products['unfavorable_review']\n",
    "\n",
    "# Split the data into training and testing sets\n",
    "X_train, X_test, y_train, y_test = train_test_split(features, target, test_size=0.2, random_state=42)\n",
    "\n",
    "# Training a RandomForestClassifier\n",
    "model = RandomForestClassifier(n_estimators=100, random_state=42)\n",
    "model.fit(X_train, y_train)\n",
    "\n",
    "# Predict on the test set\n",
    "y_pred = model.predict(X_test)"
   ]
  },
  {
   "cell_type": "markdown",
   "id": "55830054-4417-43d5-ac6c-a3955bdbc35a",
   "metadata": {},
   "source": [
    "### EVALUATION"
   ]
  },
  {
   "cell_type": "code",
   "execution_count": 49,
   "id": "99176b3d-6840-48f3-97f1-df426b86cca2",
   "metadata": {},
   "outputs": [
    {
     "name": "stdout",
     "output_type": "stream",
     "text": [
      "              precision    recall  f1-score   support\n",
      "\n",
      "       False       0.98      1.00      0.99      2684\n",
      "        True       0.00      0.00      0.00        60\n",
      "\n",
      "    accuracy                           0.98      2744\n",
      "   macro avg       0.49      0.50      0.49      2744\n",
      "weighted avg       0.96      0.98      0.97      2744\n",
      "\n"
     ]
    },
    {
     "name": "stderr",
     "output_type": "stream",
     "text": [
      "C:\\Users\\mayur\\AppData\\Local\\Programs\\Python\\Python310\\lib\\site-packages\\sklearn\\metrics\\_classification.py:1509: UndefinedMetricWarning: Precision is ill-defined and being set to 0.0 in labels with no predicted samples. Use `zero_division` parameter to control this behavior.\n",
      "  _warn_prf(average, modifier, f\"{metric.capitalize()} is\", len(result))\n",
      "C:\\Users\\mayur\\AppData\\Local\\Programs\\Python\\Python310\\lib\\site-packages\\sklearn\\metrics\\_classification.py:1509: UndefinedMetricWarning: Precision is ill-defined and being set to 0.0 in labels with no predicted samples. Use `zero_division` parameter to control this behavior.\n",
      "  _warn_prf(average, modifier, f\"{metric.capitalize()} is\", len(result))\n",
      "C:\\Users\\mayur\\AppData\\Local\\Programs\\Python\\Python310\\lib\\site-packages\\sklearn\\metrics\\_classification.py:1509: UndefinedMetricWarning: Precision is ill-defined and being set to 0.0 in labels with no predicted samples. Use `zero_division` parameter to control this behavior.\n",
      "  _warn_prf(average, modifier, f\"{metric.capitalize()} is\", len(result))\n"
     ]
    }
   ],
   "source": [
    "# Evaluate the model\n",
    "print(classification_report(y_test, y_pred))"
   ]
  },
  {
   "cell_type": "markdown",
   "id": "6fd3758a-f148-4e40-95c4-35f309f911d9",
   "metadata": {},
   "source": [
<<<<<<< HEAD
    "__'True' Cases: These correspond to the least selling products that have unfavorable reviews (i.e., products with a rating less than 3).__\n",
    "\n",
    "__'False' Cases: These correspond to the least selling products that do not have unfavorable reviews (i.e., products with a rating of 3 or higher).__"
=======
    "__'True' Cases: These correspond to the least selling products that have unfavorable reviews (i.e., products with a rating less than 3).\n",
    "'False' Cases: These correspond to the least selling products that do not have unfavorable reviews (i.e., products with a rating of 3 or higher).__"
>>>>>>> eafa2a4b8de6785951437185a5e73f2e71d959a2
   ]
  },
  {
   "cell_type": "code",
   "execution_count": 51,
   "id": "0c095594-211d-4d76-8ab8-6f35b3742811",
   "metadata": {},
   "outputs": [
    {
     "name": "stdout",
     "output_type": "stream",
     "text": [
      "Least Selling Products with Unfavorable Reviews:\n",
      "                                                 product   \n",
      "241    electronics brand product name tablet a 10.1 t...  \\\n",
      "446    electronics brand product name tablet a 10.1 t...   \n",
      "490    electronics brand product name tablet a 10.1 t...   \n",
      "633    electronics brand product name tablet a 10.1 t...   \n",
      "663    electronics brand product name tablet a 10.1 t...   \n",
      "...                                                  ...   \n",
      "26475                          retail brand xyz brand tv   \n",
      "27021                          retail brand xyz brand tv   \n",
      "27440                          retail brand xyz brand tv   \n",
      "27504                          retail brand xyz brand tv   \n",
      "27863                          retail brand xyz brand tv   \n",
      "\n",
      "                                              categories  rating   \n",
      "241    [electronics, ipad & tablets, all tablets, xyz...     1.0  \\\n",
      "446    [electronics, ipad & tablets, all tablets, xyz...     2.0   \n",
      "490    [electronics, ipad & tablets, all tablets, xyz...     1.0   \n",
      "633    [electronics, ipad & tablets, all tablets, xyz...     1.0   \n",
      "663    [electronics, ipad & tablets, all tablets, xyz...     1.0   \n",
      "...                                                  ...     ...   \n",
      "26475  [stereos, remote controls, retail brand echo, ...     2.0   \n",
      "27021  [stereos, remote controls, retail brand echo, ...     1.0   \n",
      "27440  [stereos, remote controls, retail brand echo, ...     2.0   \n",
      "27504  [stereos, remote controls, retail brand echo, ...     1.0   \n",
      "27863  [stereos, remote controls, retail brand echo, ...     2.0   \n",
      "\n",
      "                                                 reviews  \n",
      "241    didn't want to go to the sites target wanted m...  \n",
      "446    xyz brand tablet is very powerful for the size...  \n",
      "490    not good, hate it , never buy it again, sucks....  \n",
      "633    we bought this earlier on line from another ve...  \n",
      "663    freeze frequently... no way to trouble shoot o...  \n",
      "...                                                  ...  \n",
      "26475  honestly i see no difference in this and the i...  \n",
      "27021  this thing has major connectivity issues, save...  \n",
      "27440  i can say it does recognize every accent, but ...  \n",
      "27504  it wouldn't connect with any of my smart home ...  \n",
      "27863  wasn't what i thought it would be. not a good ...  \n",
      "\n",
      "[178 rows x 4 columns]\n"
     ]
    },
    {
     "name": "stderr",
     "output_type": "stream",
     "text": [
      "C:\\Users\\mayur\\AppData\\Local\\Temp\\ipykernel_16036\\3837806327.py:2: SettingWithCopyWarning: \n",
      "A value is trying to be set on a copy of a slice from a DataFrame.\n",
      "Try using .loc[row_indexer,col_indexer] = value instead\n",
      "\n",
      "See the caveats in the documentation: https://pandas.pydata.org/pandas-docs/stable/user_guide/indexing.html#returning-a-view-versus-a-copy\n",
      "  least_selling_products['predicted_unfavorable'] = model.predict(features)\n"
     ]
    }
   ],
   "source": [
    "# Identify least selling products with unfavorable reviews\n",
    "least_selling_products['predicted_unfavorable'] = model.predict(features)\n",
    "unfavorable_least_selling = least_selling_products[least_selling_products['predicted_unfavorable'] == 1]\n",
    "\n",
    "# Display the results\n",
    "print(\"Least Selling Products with Unfavorable Reviews:\")\n",
    "print(unfavorable_least_selling[['product', 'categories', 'rating', 'reviews']])"
   ]
  },
  {
   "cell_type": "markdown",
   "id": "8459994a-9ff5-4779-9b2c-6daad274dd5c",
   "metadata": {},
   "source": [
    "__To improve the model's performance, particularly for identifying the 'True' cases (least selling products with unfavorable reviews), following measures can be taken:__\n",
    "\n",
    "__1. Address Class Imbalance: Use techniques like SMOTE to balance the classes.__\n",
    "\n",
    "__2. Feature Engineering: Ensure the features are robust and meaningful.__\n",
    "\n",
    "__3. Model Tuning: Experiment with different models and hyperparameters to improve performance.__"
   ]
<<<<<<< HEAD
=======
  },
  {
   "cell_type": "code",
   "execution_count": null,
   "id": "59d3bd7c-2720-4cb0-bda9-18cfb17ba76a",
   "metadata": {},
   "outputs": [],
   "source": []
>>>>>>> eafa2a4b8de6785951437185a5e73f2e71d959a2
  }
 ],
 "metadata": {
  "kernelspec": {
   "display_name": "Python 3 (ipykernel)",
   "language": "python",
   "name": "python3"
  },
  "language_info": {
   "codemirror_mode": {
    "name": "ipython",
    "version": 3
   },
   "file_extension": ".py",
   "mimetype": "text/x-python",
   "name": "python",
   "nbconvert_exporter": "python",
   "pygments_lexer": "ipython3",
   "version": "3.10.11"
  }
 },
 "nbformat": 4,
 "nbformat_minor": 5
}
